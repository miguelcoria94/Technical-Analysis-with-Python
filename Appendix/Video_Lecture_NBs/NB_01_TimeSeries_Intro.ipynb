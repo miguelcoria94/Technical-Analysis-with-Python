{
 "cells": [
  {
   "cell_type": "markdown",
   "metadata": {},
   "source": [
    "# Time Series Basics"
   ]
  },
  {
   "cell_type": "markdown",
   "metadata": {},
   "source": [
    "## Importing Time Series Data from csv-Files"
   ]
  },
  {
   "cell_type": "code",
   "execution_count": 1,
   "metadata": {},
   "outputs": [],
   "source": [
    "import pandas as pd"
   ]
  },
  {
   "cell_type": "code",
   "execution_count": 16,
   "metadata": {},
   "outputs": [],
   "source": [
    "temp = pd.read_csv(\"temp.csv\", parse_dates = [\"datetime\"], index_col= \"datetime\")"
   ]
  },
  {
   "cell_type": "code",
   "execution_count": 17,
   "metadata": {},
   "outputs": [
    {
     "data": {
      "text/html": [
       "<div>\n",
       "<style scoped>\n",
       "    .dataframe tbody tr th:only-of-type {\n",
       "        vertical-align: middle;\n",
       "    }\n",
       "\n",
       "    .dataframe tbody tr th {\n",
       "        vertical-align: top;\n",
       "    }\n",
       "\n",
       "    .dataframe thead th {\n",
       "        text-align: right;\n",
       "    }\n",
       "</style>\n",
       "<table border=\"1\" class=\"dataframe\">\n",
       "  <thead>\n",
       "    <tr style=\"text-align: right;\">\n",
       "      <th></th>\n",
       "      <th>LA</th>\n",
       "      <th>NY</th>\n",
       "    </tr>\n",
       "    <tr>\n",
       "      <th>datetime</th>\n",
       "      <th></th>\n",
       "      <th></th>\n",
       "    </tr>\n",
       "  </thead>\n",
       "  <tbody>\n",
       "    <tr>\n",
       "      <th>2013-01-01 00:00:00</th>\n",
       "      <td>11.7</td>\n",
       "      <td>-1.1</td>\n",
       "    </tr>\n",
       "    <tr>\n",
       "      <th>2013-01-01 01:00:00</th>\n",
       "      <td>10.7</td>\n",
       "      <td>-1.7</td>\n",
       "    </tr>\n",
       "    <tr>\n",
       "      <th>2013-01-01 02:00:00</th>\n",
       "      <td>9.9</td>\n",
       "      <td>-2.0</td>\n",
       "    </tr>\n",
       "    <tr>\n",
       "      <th>2013-01-01 03:00:00</th>\n",
       "      <td>9.3</td>\n",
       "      <td>-2.1</td>\n",
       "    </tr>\n",
       "    <tr>\n",
       "      <th>2013-01-01 04:00:00</th>\n",
       "      <td>8.8</td>\n",
       "      <td>-2.3</td>\n",
       "    </tr>\n",
       "  </tbody>\n",
       "</table>\n",
       "</div>"
      ],
      "text/plain": [
       "                       LA   NY\n",
       "datetime                      \n",
       "2013-01-01 00:00:00  11.7 -1.1\n",
       "2013-01-01 01:00:00  10.7 -1.7\n",
       "2013-01-01 02:00:00   9.9 -2.0\n",
       "2013-01-01 03:00:00   9.3 -2.1\n",
       "2013-01-01 04:00:00   8.8 -2.3"
      ]
     },
     "execution_count": 17,
     "metadata": {},
     "output_type": "execute_result"
    }
   ],
   "source": [
    "temp.head()"
   ]
  },
  {
   "cell_type": "code",
   "execution_count": 8,
   "metadata": {},
   "outputs": [
    {
     "name": "stdout",
     "output_type": "stream",
     "text": [
      "<class 'pandas.core.frame.DataFrame'>\n",
      "DatetimeIndex: 35064 entries, 2013-01-01 00:00:00 to 2016-12-31 23:00:00\n",
      "Data columns (total 2 columns):\n",
      " #   Column  Non-Null Count  Dtype  \n",
      "---  ------  --------------  -----  \n",
      " 0   LA      35062 non-null  float64\n",
      " 1   NY      35064 non-null  float64\n",
      "dtypes: float64(2)\n",
      "memory usage: 821.8 KB\n"
     ]
    }
   ],
   "source": [
    "temp.info()"
   ]
  },
  {
   "cell_type": "code",
   "execution_count": 15,
   "metadata": {},
   "outputs": [
    {
     "data": {
      "text/plain": [
       "11.7"
      ]
     },
     "execution_count": 15,
     "metadata": {},
     "output_type": "execute_result"
    }
   ],
   "source": [
    "temp.iloc[0, 0]"
   ]
  },
  {
   "cell_type": "code",
   "execution_count": 6,
   "metadata": {},
   "outputs": [
    {
     "data": {
      "text/plain": [
       "DatetimeIndex(['2013-01-01 00:00:00', '2013-01-01 01:00:00',\n",
       "               '2013-01-01 02:00:00', '2013-01-01 03:00:00',\n",
       "               '2013-01-01 04:00:00', '2013-01-01 05:00:00',\n",
       "               '2013-01-01 06:00:00', '2013-01-01 07:00:00',\n",
       "               '2013-01-01 08:00:00', '2013-01-01 09:00:00',\n",
       "               ...\n",
       "               '2016-12-31 14:00:00', '2016-12-31 15:00:00',\n",
       "               '2016-12-31 16:00:00', '2016-12-31 17:00:00',\n",
       "               '2016-12-31 18:00:00', '2016-12-31 19:00:00',\n",
       "               '2016-12-31 20:00:00', '2016-12-31 21:00:00',\n",
       "               '2016-12-31 22:00:00', '2016-12-31 23:00:00'],\n",
       "              dtype='datetime64[ns]', name='datetime', length=35064, freq=None)"
      ]
     },
     "execution_count": 6,
     "metadata": {},
     "output_type": "execute_result"
    }
   ],
   "source": [
    "temp.index"
   ]
  },
  {
   "cell_type": "code",
   "execution_count": 7,
   "metadata": {},
   "outputs": [
    {
     "data": {
      "text/plain": [
       "Timestamp('2013-01-01 00:00:00')"
      ]
     },
     "execution_count": 7,
     "metadata": {},
     "output_type": "execute_result"
    }
   ],
   "source": [
    "temp.index[0]"
   ]
  },
  {
   "cell_type": "code",
   "execution_count": null,
   "metadata": {},
   "outputs": [],
   "source": []
  },
  {
   "cell_type": "markdown",
   "metadata": {},
   "source": [
    "## Converting strings to datetime objects with pd.to_datetime()"
   ]
  },
  {
   "cell_type": "code",
   "execution_count": 18,
   "metadata": {},
   "outputs": [],
   "source": [
    "import pandas as pd"
   ]
  },
  {
   "cell_type": "code",
   "execution_count": 22,
   "metadata": {},
   "outputs": [],
   "source": [
    "temp = pd.read_csv(\"temp.csv\")"
   ]
  },
  {
   "cell_type": "code",
   "execution_count": 23,
   "metadata": {},
   "outputs": [
    {
     "data": {
      "text/html": [
       "<div>\n",
       "<style scoped>\n",
       "    .dataframe tbody tr th:only-of-type {\n",
       "        vertical-align: middle;\n",
       "    }\n",
       "\n",
       "    .dataframe tbody tr th {\n",
       "        vertical-align: top;\n",
       "    }\n",
       "\n",
       "    .dataframe thead th {\n",
       "        text-align: right;\n",
       "    }\n",
       "</style>\n",
       "<table border=\"1\" class=\"dataframe\">\n",
       "  <thead>\n",
       "    <tr style=\"text-align: right;\">\n",
       "      <th></th>\n",
       "      <th>datetime</th>\n",
       "      <th>LA</th>\n",
       "      <th>NY</th>\n",
       "    </tr>\n",
       "  </thead>\n",
       "  <tbody>\n",
       "    <tr>\n",
       "      <th>0</th>\n",
       "      <td>2013-01-01 00:00:00</td>\n",
       "      <td>11.7</td>\n",
       "      <td>-1.1</td>\n",
       "    </tr>\n",
       "    <tr>\n",
       "      <th>1</th>\n",
       "      <td>2013-01-01 01:00:00</td>\n",
       "      <td>10.7</td>\n",
       "      <td>-1.7</td>\n",
       "    </tr>\n",
       "    <tr>\n",
       "      <th>2</th>\n",
       "      <td>2013-01-01 02:00:00</td>\n",
       "      <td>9.9</td>\n",
       "      <td>-2.0</td>\n",
       "    </tr>\n",
       "    <tr>\n",
       "      <th>3</th>\n",
       "      <td>2013-01-01 03:00:00</td>\n",
       "      <td>9.3</td>\n",
       "      <td>-2.1</td>\n",
       "    </tr>\n",
       "    <tr>\n",
       "      <th>4</th>\n",
       "      <td>2013-01-01 04:00:00</td>\n",
       "      <td>8.8</td>\n",
       "      <td>-2.3</td>\n",
       "    </tr>\n",
       "  </tbody>\n",
       "</table>\n",
       "</div>"
      ],
      "text/plain": [
       "              datetime    LA   NY\n",
       "0  2013-01-01 00:00:00  11.7 -1.1\n",
       "1  2013-01-01 01:00:00  10.7 -1.7\n",
       "2  2013-01-01 02:00:00   9.9 -2.0\n",
       "3  2013-01-01 03:00:00   9.3 -2.1\n",
       "4  2013-01-01 04:00:00   8.8 -2.3"
      ]
     },
     "execution_count": 23,
     "metadata": {},
     "output_type": "execute_result"
    }
   ],
   "source": [
    "temp.head()"
   ]
  },
  {
   "cell_type": "code",
   "execution_count": 24,
   "metadata": {},
   "outputs": [
    {
     "name": "stdout",
     "output_type": "stream",
     "text": [
      "<class 'pandas.core.frame.DataFrame'>\n",
      "RangeIndex: 35064 entries, 0 to 35063\n",
      "Data columns (total 3 columns):\n",
      " #   Column    Non-Null Count  Dtype  \n",
      "---  ------    --------------  -----  \n",
      " 0   datetime  35064 non-null  object \n",
      " 1   LA        35062 non-null  float64\n",
      " 2   NY        35064 non-null  float64\n",
      "dtypes: float64(2), object(1)\n",
      "memory usage: 821.9+ KB\n"
     ]
    }
   ],
   "source": [
    "temp.info()"
   ]
  },
  {
   "cell_type": "code",
   "execution_count": 25,
   "metadata": {
    "scrolled": true
   },
   "outputs": [
    {
     "data": {
      "text/plain": [
       "'2013-01-01 00:00:00'"
      ]
     },
     "execution_count": 25,
     "metadata": {},
     "output_type": "execute_result"
    }
   ],
   "source": [
    "temp.datetime[0]"
   ]
  },
  {
   "cell_type": "code",
   "execution_count": 26,
   "metadata": {
    "scrolled": true
   },
   "outputs": [
    {
     "data": {
      "text/plain": [
       "0       2013-01-01 00:00:00\n",
       "1       2013-01-01 01:00:00\n",
       "2       2013-01-01 02:00:00\n",
       "3       2013-01-01 03:00:00\n",
       "4       2013-01-01 04:00:00\n",
       "                ...        \n",
       "35059   2016-12-31 19:00:00\n",
       "35060   2016-12-31 20:00:00\n",
       "35061   2016-12-31 21:00:00\n",
       "35062   2016-12-31 22:00:00\n",
       "35063   2016-12-31 23:00:00\n",
       "Name: datetime, Length: 35064, dtype: datetime64[ns]"
      ]
     },
     "execution_count": 26,
     "metadata": {},
     "output_type": "execute_result"
    }
   ],
   "source": [
    "pd.to_datetime(temp.datetime)"
   ]
  },
  {
   "cell_type": "code",
   "execution_count": 27,
   "metadata": {
    "scrolled": true
   },
   "outputs": [],
   "source": [
    "temp = temp.set_index(pd.to_datetime(temp.datetime)).drop(\"datetime\", axis = 1)"
   ]
  },
  {
   "cell_type": "code",
   "execution_count": 28,
   "metadata": {},
   "outputs": [
    {
     "data": {
      "text/html": [
       "<div>\n",
       "<style scoped>\n",
       "    .dataframe tbody tr th:only-of-type {\n",
       "        vertical-align: middle;\n",
       "    }\n",
       "\n",
       "    .dataframe tbody tr th {\n",
       "        vertical-align: top;\n",
       "    }\n",
       "\n",
       "    .dataframe thead th {\n",
       "        text-align: right;\n",
       "    }\n",
       "</style>\n",
       "<table border=\"1\" class=\"dataframe\">\n",
       "  <thead>\n",
       "    <tr style=\"text-align: right;\">\n",
       "      <th></th>\n",
       "      <th>LA</th>\n",
       "      <th>NY</th>\n",
       "    </tr>\n",
       "    <tr>\n",
       "      <th>datetime</th>\n",
       "      <th></th>\n",
       "      <th></th>\n",
       "    </tr>\n",
       "  </thead>\n",
       "  <tbody>\n",
       "    <tr>\n",
       "      <th>2013-01-01 00:00:00</th>\n",
       "      <td>11.7</td>\n",
       "      <td>-1.1</td>\n",
       "    </tr>\n",
       "    <tr>\n",
       "      <th>2013-01-01 01:00:00</th>\n",
       "      <td>10.7</td>\n",
       "      <td>-1.7</td>\n",
       "    </tr>\n",
       "    <tr>\n",
       "      <th>2013-01-01 02:00:00</th>\n",
       "      <td>9.9</td>\n",
       "      <td>-2.0</td>\n",
       "    </tr>\n",
       "    <tr>\n",
       "      <th>2013-01-01 03:00:00</th>\n",
       "      <td>9.3</td>\n",
       "      <td>-2.1</td>\n",
       "    </tr>\n",
       "    <tr>\n",
       "      <th>2013-01-01 04:00:00</th>\n",
       "      <td>8.8</td>\n",
       "      <td>-2.3</td>\n",
       "    </tr>\n",
       "  </tbody>\n",
       "</table>\n",
       "</div>"
      ],
      "text/plain": [
       "                       LA   NY\n",
       "datetime                      \n",
       "2013-01-01 00:00:00  11.7 -1.1\n",
       "2013-01-01 01:00:00  10.7 -1.7\n",
       "2013-01-01 02:00:00   9.9 -2.0\n",
       "2013-01-01 03:00:00   9.3 -2.1\n",
       "2013-01-01 04:00:00   8.8 -2.3"
      ]
     },
     "execution_count": 28,
     "metadata": {},
     "output_type": "execute_result"
    }
   ],
   "source": [
    "temp.head()"
   ]
  },
  {
   "cell_type": "code",
   "execution_count": 29,
   "metadata": {},
   "outputs": [
    {
     "name": "stdout",
     "output_type": "stream",
     "text": [
      "<class 'pandas.core.frame.DataFrame'>\n",
      "DatetimeIndex: 35064 entries, 2013-01-01 00:00:00 to 2016-12-31 23:00:00\n",
      "Data columns (total 2 columns):\n",
      " #   Column  Non-Null Count  Dtype  \n",
      "---  ------  --------------  -----  \n",
      " 0   LA      35062 non-null  float64\n",
      " 1   NY      35064 non-null  float64\n",
      "dtypes: float64(2)\n",
      "memory usage: 821.8 KB\n"
     ]
    }
   ],
   "source": [
    "temp.info()"
   ]
  },
  {
   "cell_type": "code",
   "execution_count": 30,
   "metadata": {},
   "outputs": [
    {
     "data": {
      "text/plain": [
       "Timestamp('2013-01-01 00:00:00')"
      ]
     },
     "execution_count": 30,
     "metadata": {},
     "output_type": "execute_result"
    }
   ],
   "source": [
    "temp.index[0]"
   ]
  },
  {
   "cell_type": "code",
   "execution_count": 31,
   "metadata": {},
   "outputs": [
    {
     "data": {
      "text/plain": [
       "Timestamp('2015-05-20 10:30:20')"
      ]
     },
     "execution_count": 31,
     "metadata": {},
     "output_type": "execute_result"
    }
   ],
   "source": [
    "pd.to_datetime(\"2015-05-20 10:30:20\")"
   ]
  },
  {
   "cell_type": "code",
   "execution_count": 32,
   "metadata": {},
   "outputs": [
    {
     "data": {
      "text/plain": [
       "Timestamp('2015-05-20 00:00:00')"
      ]
     },
     "execution_count": 32,
     "metadata": {},
     "output_type": "execute_result"
    }
   ],
   "source": [
    "pd.to_datetime(\"20150520\")"
   ]
  },
  {
   "cell_type": "code",
   "execution_count": 33,
   "metadata": {},
   "outputs": [
    {
     "data": {
      "text/plain": [
       "Timestamp('2015-05-20 00:00:00')"
      ]
     },
     "execution_count": 33,
     "metadata": {},
     "output_type": "execute_result"
    }
   ],
   "source": [
    "pd.to_datetime(\"2015/05/20\")"
   ]
  },
  {
   "cell_type": "code",
   "execution_count": 34,
   "metadata": {},
   "outputs": [
    {
     "data": {
      "text/plain": [
       "Timestamp('2015-05-20 00:00:00')"
      ]
     },
     "execution_count": 34,
     "metadata": {},
     "output_type": "execute_result"
    }
   ],
   "source": [
    "pd.to_datetime(\"2015 05 20\")"
   ]
  },
  {
   "cell_type": "code",
   "execution_count": 35,
   "metadata": {
    "scrolled": true
   },
   "outputs": [],
   "source": [
    "#pd.to_datetime(\"2015-20-05\")"
   ]
  },
  {
   "cell_type": "code",
   "execution_count": 36,
   "metadata": {},
   "outputs": [
    {
     "data": {
      "text/plain": [
       "Timestamp('2015-05-20 00:00:00')"
      ]
     },
     "execution_count": 36,
     "metadata": {},
     "output_type": "execute_result"
    }
   ],
   "source": [
    "pd.to_datetime(\"2015 May 20\")"
   ]
  },
  {
   "cell_type": "code",
   "execution_count": 37,
   "metadata": {},
   "outputs": [
    {
     "data": {
      "text/plain": [
       "Timestamp('2015-05-20 00:00:00')"
      ]
     },
     "execution_count": 37,
     "metadata": {},
     "output_type": "execute_result"
    }
   ],
   "source": [
    "pd.to_datetime(\"May 2015 20\")"
   ]
  },
  {
   "cell_type": "code",
   "execution_count": 38,
   "metadata": {},
   "outputs": [
    {
     "data": {
      "text/plain": [
       "Timestamp('2015-05-20 00:00:00')"
      ]
     },
     "execution_count": 38,
     "metadata": {},
     "output_type": "execute_result"
    }
   ],
   "source": [
    "pd.to_datetime(\"2015 20th may\")"
   ]
  },
  {
   "cell_type": "code",
   "execution_count": 39,
   "metadata": {},
   "outputs": [
    {
     "data": {
      "text/plain": [
       "DatetimeIndex(['2015-05-20', '2015-02-20'], dtype='datetime64[ns]', freq=None)"
      ]
     },
     "execution_count": 39,
     "metadata": {},
     "output_type": "execute_result"
    }
   ],
   "source": [
    "pd.to_datetime([\"2015-05-20\", \"Feb 20 2015\"])"
   ]
  },
  {
   "cell_type": "code",
   "execution_count": 40,
   "metadata": {
    "scrolled": true
   },
   "outputs": [
    {
     "data": {
      "text/plain": [
       "DatetimeIndex(['2015-05-20', '2015-02-20', 'NaT'], dtype='datetime64[ns]', freq=None)"
      ]
     },
     "execution_count": 40,
     "metadata": {},
     "output_type": "execute_result"
    }
   ],
   "source": [
    "pd.to_datetime([\"2015-05-20\", \"Feb 20 2015\", \"Elephant\"], errors=\"coerce\")"
   ]
  },
  {
   "cell_type": "code",
   "execution_count": null,
   "metadata": {},
   "outputs": [],
   "source": []
  },
  {
   "cell_type": "markdown",
   "metadata": {},
   "source": [
    "## Indexing and Slicing Time Series"
   ]
  },
  {
   "cell_type": "code",
   "execution_count": 41,
   "metadata": {},
   "outputs": [],
   "source": [
    "import pandas as pd"
   ]
  },
  {
   "cell_type": "code",
   "execution_count": 42,
   "metadata": {},
   "outputs": [],
   "source": [
    "temp = pd.read_csv(\"temp.csv\", parse_dates= [\"datetime\"], index_col= \"datetime\")"
   ]
  },
  {
   "cell_type": "code",
   "execution_count": 43,
   "metadata": {},
   "outputs": [
    {
     "data": {
      "text/html": [
       "<div>\n",
       "<style scoped>\n",
       "    .dataframe tbody tr th:only-of-type {\n",
       "        vertical-align: middle;\n",
       "    }\n",
       "\n",
       "    .dataframe tbody tr th {\n",
       "        vertical-align: top;\n",
       "    }\n",
       "\n",
       "    .dataframe thead th {\n",
       "        text-align: right;\n",
       "    }\n",
       "</style>\n",
       "<table border=\"1\" class=\"dataframe\">\n",
       "  <thead>\n",
       "    <tr style=\"text-align: right;\">\n",
       "      <th></th>\n",
       "      <th>LA</th>\n",
       "      <th>NY</th>\n",
       "    </tr>\n",
       "    <tr>\n",
       "      <th>datetime</th>\n",
       "      <th></th>\n",
       "      <th></th>\n",
       "    </tr>\n",
       "  </thead>\n",
       "  <tbody>\n",
       "    <tr>\n",
       "      <th>2013-01-01 00:00:00</th>\n",
       "      <td>11.7</td>\n",
       "      <td>-1.1</td>\n",
       "    </tr>\n",
       "    <tr>\n",
       "      <th>2013-01-01 01:00:00</th>\n",
       "      <td>10.7</td>\n",
       "      <td>-1.7</td>\n",
       "    </tr>\n",
       "    <tr>\n",
       "      <th>2013-01-01 02:00:00</th>\n",
       "      <td>9.9</td>\n",
       "      <td>-2.0</td>\n",
       "    </tr>\n",
       "    <tr>\n",
       "      <th>2013-01-01 03:00:00</th>\n",
       "      <td>9.3</td>\n",
       "      <td>-2.1</td>\n",
       "    </tr>\n",
       "    <tr>\n",
       "      <th>2013-01-01 04:00:00</th>\n",
       "      <td>8.8</td>\n",
       "      <td>-2.3</td>\n",
       "    </tr>\n",
       "  </tbody>\n",
       "</table>\n",
       "</div>"
      ],
      "text/plain": [
       "                       LA   NY\n",
       "datetime                      \n",
       "2013-01-01 00:00:00  11.7 -1.1\n",
       "2013-01-01 01:00:00  10.7 -1.7\n",
       "2013-01-01 02:00:00   9.9 -2.0\n",
       "2013-01-01 03:00:00   9.3 -2.1\n",
       "2013-01-01 04:00:00   8.8 -2.3"
      ]
     },
     "execution_count": 43,
     "metadata": {},
     "output_type": "execute_result"
    }
   ],
   "source": [
    "temp.head()"
   ]
  },
  {
   "cell_type": "code",
   "execution_count": 44,
   "metadata": {},
   "outputs": [
    {
     "name": "stdout",
     "output_type": "stream",
     "text": [
      "<class 'pandas.core.frame.DataFrame'>\n",
      "DatetimeIndex: 35064 entries, 2013-01-01 00:00:00 to 2016-12-31 23:00:00\n",
      "Data columns (total 2 columns):\n",
      " #   Column  Non-Null Count  Dtype  \n",
      "---  ------  --------------  -----  \n",
      " 0   LA      35062 non-null  float64\n",
      " 1   NY      35064 non-null  float64\n",
      "dtypes: float64(2)\n",
      "memory usage: 821.8 KB\n"
     ]
    }
   ],
   "source": [
    "temp.info()"
   ]
  },
  {
   "cell_type": "code",
   "execution_count": 45,
   "metadata": {},
   "outputs": [
    {
     "data": {
      "text/plain": [
       "LA    10.7\n",
       "NY    -1.7\n",
       "Name: 2013-01-01 01:00:00, dtype: float64"
      ]
     },
     "execution_count": 45,
     "metadata": {},
     "output_type": "execute_result"
    }
   ],
   "source": [
    "temp.loc[\"2013-01-01 01:00:00\"]"
   ]
  },
  {
   "cell_type": "code",
   "execution_count": 46,
   "metadata": {
    "scrolled": true
   },
   "outputs": [
    {
     "data": {
      "text/html": [
       "<div>\n",
       "<style scoped>\n",
       "    .dataframe tbody tr th:only-of-type {\n",
       "        vertical-align: middle;\n",
       "    }\n",
       "\n",
       "    .dataframe tbody tr th {\n",
       "        vertical-align: top;\n",
       "    }\n",
       "\n",
       "    .dataframe thead th {\n",
       "        text-align: right;\n",
       "    }\n",
       "</style>\n",
       "<table border=\"1\" class=\"dataframe\">\n",
       "  <thead>\n",
       "    <tr style=\"text-align: right;\">\n",
       "      <th></th>\n",
       "      <th>LA</th>\n",
       "      <th>NY</th>\n",
       "    </tr>\n",
       "    <tr>\n",
       "      <th>datetime</th>\n",
       "      <th></th>\n",
       "      <th></th>\n",
       "    </tr>\n",
       "  </thead>\n",
       "  <tbody>\n",
       "    <tr>\n",
       "      <th>2015-01-01 00:00:00</th>\n",
       "      <td>3.8</td>\n",
       "      <td>-5.1</td>\n",
       "    </tr>\n",
       "    <tr>\n",
       "      <th>2015-01-01 01:00:00</th>\n",
       "      <td>4.4</td>\n",
       "      <td>-5.1</td>\n",
       "    </tr>\n",
       "    <tr>\n",
       "      <th>2015-01-01 02:00:00</th>\n",
       "      <td>3.2</td>\n",
       "      <td>-6.0</td>\n",
       "    </tr>\n",
       "    <tr>\n",
       "      <th>2015-01-01 03:00:00</th>\n",
       "      <td>1.2</td>\n",
       "      <td>-6.0</td>\n",
       "    </tr>\n",
       "    <tr>\n",
       "      <th>2015-01-01 04:00:00</th>\n",
       "      <td>0.2</td>\n",
       "      <td>-6.0</td>\n",
       "    </tr>\n",
       "    <tr>\n",
       "      <th>...</th>\n",
       "      <td>...</td>\n",
       "      <td>...</td>\n",
       "    </tr>\n",
       "    <tr>\n",
       "      <th>2015-12-31 19:00:00</th>\n",
       "      <td>16.0</td>\n",
       "      <td>8.1</td>\n",
       "    </tr>\n",
       "    <tr>\n",
       "      <th>2015-12-31 20:00:00</th>\n",
       "      <td>16.0</td>\n",
       "      <td>8.1</td>\n",
       "    </tr>\n",
       "    <tr>\n",
       "      <th>2015-12-31 21:00:00</th>\n",
       "      <td>16.4</td>\n",
       "      <td>7.9</td>\n",
       "    </tr>\n",
       "    <tr>\n",
       "      <th>2015-12-31 22:00:00</th>\n",
       "      <td>16.6</td>\n",
       "      <td>7.2</td>\n",
       "    </tr>\n",
       "    <tr>\n",
       "      <th>2015-12-31 23:00:00</th>\n",
       "      <td>16.8</td>\n",
       "      <td>6.2</td>\n",
       "    </tr>\n",
       "  </tbody>\n",
       "</table>\n",
       "<p>8760 rows × 2 columns</p>\n",
       "</div>"
      ],
      "text/plain": [
       "                       LA   NY\n",
       "datetime                      \n",
       "2015-01-01 00:00:00   3.8 -5.1\n",
       "2015-01-01 01:00:00   4.4 -5.1\n",
       "2015-01-01 02:00:00   3.2 -6.0\n",
       "2015-01-01 03:00:00   1.2 -6.0\n",
       "2015-01-01 04:00:00   0.2 -6.0\n",
       "...                   ...  ...\n",
       "2015-12-31 19:00:00  16.0  8.1\n",
       "2015-12-31 20:00:00  16.0  8.1\n",
       "2015-12-31 21:00:00  16.4  7.9\n",
       "2015-12-31 22:00:00  16.6  7.2\n",
       "2015-12-31 23:00:00  16.8  6.2\n",
       "\n",
       "[8760 rows x 2 columns]"
      ]
     },
     "execution_count": 46,
     "metadata": {},
     "output_type": "execute_result"
    }
   ],
   "source": [
    "temp.loc[\"2015\"]"
   ]
  },
  {
   "cell_type": "code",
   "execution_count": 48,
   "metadata": {
    "scrolled": true
   },
   "outputs": [
    {
     "data": {
      "text/html": [
       "<div>\n",
       "<style scoped>\n",
       "    .dataframe tbody tr th:only-of-type {\n",
       "        vertical-align: middle;\n",
       "    }\n",
       "\n",
       "    .dataframe tbody tr th {\n",
       "        vertical-align: top;\n",
       "    }\n",
       "\n",
       "    .dataframe thead th {\n",
       "        text-align: right;\n",
       "    }\n",
       "</style>\n",
       "<table border=\"1\" class=\"dataframe\">\n",
       "  <thead>\n",
       "    <tr style=\"text-align: right;\">\n",
       "      <th></th>\n",
       "      <th>LA</th>\n",
       "      <th>NY</th>\n",
       "    </tr>\n",
       "    <tr>\n",
       "      <th>datetime</th>\n",
       "      <th></th>\n",
       "      <th></th>\n",
       "    </tr>\n",
       "  </thead>\n",
       "  <tbody>\n",
       "    <tr>\n",
       "      <th>2015-05-01 00:00:00</th>\n",
       "      <td>25.5</td>\n",
       "      <td>13.9</td>\n",
       "    </tr>\n",
       "    <tr>\n",
       "      <th>2015-05-01 01:00:00</th>\n",
       "      <td>25.7</td>\n",
       "      <td>13.9</td>\n",
       "    </tr>\n",
       "    <tr>\n",
       "      <th>2015-05-01 02:00:00</th>\n",
       "      <td>23.8</td>\n",
       "      <td>10.5</td>\n",
       "    </tr>\n",
       "    <tr>\n",
       "      <th>2015-05-01 03:00:00</th>\n",
       "      <td>22.0</td>\n",
       "      <td>10.2</td>\n",
       "    </tr>\n",
       "    <tr>\n",
       "      <th>2015-05-01 04:00:00</th>\n",
       "      <td>20.1</td>\n",
       "      <td>8.6</td>\n",
       "    </tr>\n",
       "    <tr>\n",
       "      <th>...</th>\n",
       "      <td>...</td>\n",
       "      <td>...</td>\n",
       "    </tr>\n",
       "    <tr>\n",
       "      <th>2015-05-31 19:00:00</th>\n",
       "      <td>25.4</td>\n",
       "      <td>25.5</td>\n",
       "    </tr>\n",
       "    <tr>\n",
       "      <th>2015-05-31 20:00:00</th>\n",
       "      <td>26.0</td>\n",
       "      <td>23.9</td>\n",
       "    </tr>\n",
       "    <tr>\n",
       "      <th>2015-05-31 21:00:00</th>\n",
       "      <td>24.9</td>\n",
       "      <td>22.5</td>\n",
       "    </tr>\n",
       "    <tr>\n",
       "      <th>2015-05-31 22:00:00</th>\n",
       "      <td>26.0</td>\n",
       "      <td>21.3</td>\n",
       "    </tr>\n",
       "    <tr>\n",
       "      <th>2015-05-31 23:00:00</th>\n",
       "      <td>25.5</td>\n",
       "      <td>19.9</td>\n",
       "    </tr>\n",
       "  </tbody>\n",
       "</table>\n",
       "<p>744 rows × 2 columns</p>\n",
       "</div>"
      ],
      "text/plain": [
       "                       LA    NY\n",
       "datetime                       \n",
       "2015-05-01 00:00:00  25.5  13.9\n",
       "2015-05-01 01:00:00  25.7  13.9\n",
       "2015-05-01 02:00:00  23.8  10.5\n",
       "2015-05-01 03:00:00  22.0  10.2\n",
       "2015-05-01 04:00:00  20.1   8.6\n",
       "...                   ...   ...\n",
       "2015-05-31 19:00:00  25.4  25.5\n",
       "2015-05-31 20:00:00  26.0  23.9\n",
       "2015-05-31 21:00:00  24.9  22.5\n",
       "2015-05-31 22:00:00  26.0  21.3\n",
       "2015-05-31 23:00:00  25.5  19.9\n",
       "\n",
       "[744 rows x 2 columns]"
      ]
     },
     "execution_count": 48,
     "metadata": {},
     "output_type": "execute_result"
    }
   ],
   "source": [
    "temp.loc[\"2015-05\"]"
   ]
  },
  {
   "cell_type": "code",
   "execution_count": 49,
   "metadata": {
    "scrolled": true
   },
   "outputs": [
    {
     "data": {
      "text/plain": [
       "(24, 2)"
      ]
     },
     "execution_count": 49,
     "metadata": {},
     "output_type": "execute_result"
    }
   ],
   "source": [
    "temp.loc[\"2015-05-20\"].shape"
   ]
  },
  {
   "cell_type": "code",
   "execution_count": 50,
   "metadata": {},
   "outputs": [
    {
     "data": {
      "text/plain": [
       "LA     7.8\n",
       "NY    13.3\n",
       "Name: 2015-05-20 10:00:00, dtype: float64"
      ]
     },
     "execution_count": 50,
     "metadata": {},
     "output_type": "execute_result"
    }
   ],
   "source": [
    "temp.loc[\"2015-05-20 10:00:00\"]"
   ]
  },
  {
   "cell_type": "code",
   "execution_count": 51,
   "metadata": {
    "scrolled": true
   },
   "outputs": [],
   "source": [
    "#temp.loc[\"2015-05-20 10:30:00\"]"
   ]
  },
  {
   "cell_type": "code",
   "execution_count": 52,
   "metadata": {
    "scrolled": true
   },
   "outputs": [
    {
     "data": {
      "text/html": [
       "<div>\n",
       "<style scoped>\n",
       "    .dataframe tbody tr th:only-of-type {\n",
       "        vertical-align: middle;\n",
       "    }\n",
       "\n",
       "    .dataframe tbody tr th {\n",
       "        vertical-align: top;\n",
       "    }\n",
       "\n",
       "    .dataframe thead th {\n",
       "        text-align: right;\n",
       "    }\n",
       "</style>\n",
       "<table border=\"1\" class=\"dataframe\">\n",
       "  <thead>\n",
       "    <tr style=\"text-align: right;\">\n",
       "      <th></th>\n",
       "      <th>LA</th>\n",
       "      <th>NY</th>\n",
       "    </tr>\n",
       "    <tr>\n",
       "      <th>datetime</th>\n",
       "      <th></th>\n",
       "      <th></th>\n",
       "    </tr>\n",
       "  </thead>\n",
       "  <tbody>\n",
       "    <tr>\n",
       "      <th>2015-01-01 00:00:00</th>\n",
       "      <td>3.8</td>\n",
       "      <td>-5.1</td>\n",
       "    </tr>\n",
       "    <tr>\n",
       "      <th>2015-01-01 01:00:00</th>\n",
       "      <td>4.4</td>\n",
       "      <td>-5.1</td>\n",
       "    </tr>\n",
       "    <tr>\n",
       "      <th>2015-01-01 02:00:00</th>\n",
       "      <td>3.2</td>\n",
       "      <td>-6.0</td>\n",
       "    </tr>\n",
       "    <tr>\n",
       "      <th>2015-01-01 03:00:00</th>\n",
       "      <td>1.2</td>\n",
       "      <td>-6.0</td>\n",
       "    </tr>\n",
       "    <tr>\n",
       "      <th>2015-01-01 04:00:00</th>\n",
       "      <td>0.2</td>\n",
       "      <td>-6.0</td>\n",
       "    </tr>\n",
       "    <tr>\n",
       "      <th>...</th>\n",
       "      <td>...</td>\n",
       "      <td>...</td>\n",
       "    </tr>\n",
       "    <tr>\n",
       "      <th>2015-12-31 19:00:00</th>\n",
       "      <td>16.0</td>\n",
       "      <td>8.1</td>\n",
       "    </tr>\n",
       "    <tr>\n",
       "      <th>2015-12-31 20:00:00</th>\n",
       "      <td>16.0</td>\n",
       "      <td>8.1</td>\n",
       "    </tr>\n",
       "    <tr>\n",
       "      <th>2015-12-31 21:00:00</th>\n",
       "      <td>16.4</td>\n",
       "      <td>7.9</td>\n",
       "    </tr>\n",
       "    <tr>\n",
       "      <th>2015-12-31 22:00:00</th>\n",
       "      <td>16.6</td>\n",
       "      <td>7.2</td>\n",
       "    </tr>\n",
       "    <tr>\n",
       "      <th>2015-12-31 23:00:00</th>\n",
       "      <td>16.8</td>\n",
       "      <td>6.2</td>\n",
       "    </tr>\n",
       "  </tbody>\n",
       "</table>\n",
       "<p>8760 rows × 2 columns</p>\n",
       "</div>"
      ],
      "text/plain": [
       "                       LA   NY\n",
       "datetime                      \n",
       "2015-01-01 00:00:00   3.8 -5.1\n",
       "2015-01-01 01:00:00   4.4 -5.1\n",
       "2015-01-01 02:00:00   3.2 -6.0\n",
       "2015-01-01 03:00:00   1.2 -6.0\n",
       "2015-01-01 04:00:00   0.2 -6.0\n",
       "...                   ...  ...\n",
       "2015-12-31 19:00:00  16.0  8.1\n",
       "2015-12-31 20:00:00  16.0  8.1\n",
       "2015-12-31 21:00:00  16.4  7.9\n",
       "2015-12-31 22:00:00  16.6  7.2\n",
       "2015-12-31 23:00:00  16.8  6.2\n",
       "\n",
       "[8760 rows x 2 columns]"
      ]
     },
     "execution_count": 52,
     "metadata": {},
     "output_type": "execute_result"
    }
   ],
   "source": [
    "temp.loc[\"2015-01-01\" : \"2015-12-31\"]"
   ]
  },
  {
   "cell_type": "code",
   "execution_count": 53,
   "metadata": {},
   "outputs": [
    {
     "data": {
      "text/plain": [
       "True"
      ]
     },
     "execution_count": 53,
     "metadata": {},
     "output_type": "execute_result"
    }
   ],
   "source": [
    "temp.loc[\"2015-01-01\" : \"2015-12-31\"].equals(temp.loc[\"2015\"])"
   ]
  },
  {
   "cell_type": "code",
   "execution_count": 54,
   "metadata": {
    "scrolled": true
   },
   "outputs": [
    {
     "data": {
      "text/html": [
       "<div>\n",
       "<style scoped>\n",
       "    .dataframe tbody tr th:only-of-type {\n",
       "        vertical-align: middle;\n",
       "    }\n",
       "\n",
       "    .dataframe tbody tr th {\n",
       "        vertical-align: top;\n",
       "    }\n",
       "\n",
       "    .dataframe thead th {\n",
       "        text-align: right;\n",
       "    }\n",
       "</style>\n",
       "<table border=\"1\" class=\"dataframe\">\n",
       "  <thead>\n",
       "    <tr style=\"text-align: right;\">\n",
       "      <th></th>\n",
       "      <th>LA</th>\n",
       "      <th>NY</th>\n",
       "    </tr>\n",
       "    <tr>\n",
       "      <th>datetime</th>\n",
       "      <th></th>\n",
       "      <th></th>\n",
       "    </tr>\n",
       "  </thead>\n",
       "  <tbody>\n",
       "    <tr>\n",
       "      <th>2015-04-15 00:00:00</th>\n",
       "      <td>19.1</td>\n",
       "      <td>12.8</td>\n",
       "    </tr>\n",
       "    <tr>\n",
       "      <th>2015-04-15 01:00:00</th>\n",
       "      <td>20.0</td>\n",
       "      <td>12.0</td>\n",
       "    </tr>\n",
       "    <tr>\n",
       "      <th>2015-04-15 02:00:00</th>\n",
       "      <td>17.7</td>\n",
       "      <td>11.3</td>\n",
       "    </tr>\n",
       "    <tr>\n",
       "      <th>2015-04-15 03:00:00</th>\n",
       "      <td>15.5</td>\n",
       "      <td>11.2</td>\n",
       "    </tr>\n",
       "    <tr>\n",
       "      <th>2015-04-15 04:00:00</th>\n",
       "      <td>13.3</td>\n",
       "      <td>10.4</td>\n",
       "    </tr>\n",
       "    <tr>\n",
       "      <th>...</th>\n",
       "      <td>...</td>\n",
       "      <td>...</td>\n",
       "    </tr>\n",
       "    <tr>\n",
       "      <th>2016-02-23 19:00:00</th>\n",
       "      <td>23.4</td>\n",
       "      <td>2.6</td>\n",
       "    </tr>\n",
       "    <tr>\n",
       "      <th>2016-02-23 20:00:00</th>\n",
       "      <td>23.4</td>\n",
       "      <td>2.2</td>\n",
       "    </tr>\n",
       "    <tr>\n",
       "      <th>2016-02-23 21:00:00</th>\n",
       "      <td>26.8</td>\n",
       "      <td>2.2</td>\n",
       "    </tr>\n",
       "    <tr>\n",
       "      <th>2016-02-23 22:00:00</th>\n",
       "      <td>26.8</td>\n",
       "      <td>2.0</td>\n",
       "    </tr>\n",
       "    <tr>\n",
       "      <th>2016-02-23 23:00:00</th>\n",
       "      <td>26.8</td>\n",
       "      <td>2.3</td>\n",
       "    </tr>\n",
       "  </tbody>\n",
       "</table>\n",
       "<p>7560 rows × 2 columns</p>\n",
       "</div>"
      ],
      "text/plain": [
       "                       LA    NY\n",
       "datetime                       \n",
       "2015-04-15 00:00:00  19.1  12.8\n",
       "2015-04-15 01:00:00  20.0  12.0\n",
       "2015-04-15 02:00:00  17.7  11.3\n",
       "2015-04-15 03:00:00  15.5  11.2\n",
       "2015-04-15 04:00:00  13.3  10.4\n",
       "...                   ...   ...\n",
       "2016-02-23 19:00:00  23.4   2.6\n",
       "2016-02-23 20:00:00  23.4   2.2\n",
       "2016-02-23 21:00:00  26.8   2.2\n",
       "2016-02-23 22:00:00  26.8   2.0\n",
       "2016-02-23 23:00:00  26.8   2.3\n",
       "\n",
       "[7560 rows x 2 columns]"
      ]
     },
     "execution_count": 54,
     "metadata": {},
     "output_type": "execute_result"
    }
   ],
   "source": [
    "temp.loc[\"2015-04-15\" : \"2016-02-23\"]"
   ]
  },
  {
   "cell_type": "code",
   "execution_count": 55,
   "metadata": {
    "scrolled": true
   },
   "outputs": [
    {
     "data": {
      "text/html": [
       "<div>\n",
       "<style scoped>\n",
       "    .dataframe tbody tr th:only-of-type {\n",
       "        vertical-align: middle;\n",
       "    }\n",
       "\n",
       "    .dataframe tbody tr th {\n",
       "        vertical-align: top;\n",
       "    }\n",
       "\n",
       "    .dataframe thead th {\n",
       "        text-align: right;\n",
       "    }\n",
       "</style>\n",
       "<table border=\"1\" class=\"dataframe\">\n",
       "  <thead>\n",
       "    <tr style=\"text-align: right;\">\n",
       "      <th></th>\n",
       "      <th>LA</th>\n",
       "      <th>NY</th>\n",
       "    </tr>\n",
       "    <tr>\n",
       "      <th>datetime</th>\n",
       "      <th></th>\n",
       "      <th></th>\n",
       "    </tr>\n",
       "  </thead>\n",
       "  <tbody>\n",
       "    <tr>\n",
       "      <th>2015-05-20 00:00:00</th>\n",
       "      <td>17.7</td>\n",
       "      <td>19.8</td>\n",
       "    </tr>\n",
       "    <tr>\n",
       "      <th>2015-05-20 01:00:00</th>\n",
       "      <td>18.0</td>\n",
       "      <td>19.7</td>\n",
       "    </tr>\n",
       "    <tr>\n",
       "      <th>2015-05-20 02:00:00</th>\n",
       "      <td>16.6</td>\n",
       "      <td>19.0</td>\n",
       "    </tr>\n",
       "    <tr>\n",
       "      <th>2015-05-20 03:00:00</th>\n",
       "      <td>14.4</td>\n",
       "      <td>19.0</td>\n",
       "    </tr>\n",
       "    <tr>\n",
       "      <th>2015-05-20 04:00:00</th>\n",
       "      <td>13.3</td>\n",
       "      <td>19.7</td>\n",
       "    </tr>\n",
       "    <tr>\n",
       "      <th>...</th>\n",
       "      <td>...</td>\n",
       "      <td>...</td>\n",
       "    </tr>\n",
       "    <tr>\n",
       "      <th>2016-12-31 19:00:00</th>\n",
       "      <td>13.5</td>\n",
       "      <td>4.6</td>\n",
       "    </tr>\n",
       "    <tr>\n",
       "      <th>2016-12-31 20:00:00</th>\n",
       "      <td>13.2</td>\n",
       "      <td>5.7</td>\n",
       "    </tr>\n",
       "    <tr>\n",
       "      <th>2016-12-31 21:00:00</th>\n",
       "      <td>12.8</td>\n",
       "      <td>5.8</td>\n",
       "    </tr>\n",
       "    <tr>\n",
       "      <th>2016-12-31 22:00:00</th>\n",
       "      <td>12.3</td>\n",
       "      <td>5.7</td>\n",
       "    </tr>\n",
       "    <tr>\n",
       "      <th>2016-12-31 23:00:00</th>\n",
       "      <td>11.9</td>\n",
       "      <td>5.5</td>\n",
       "    </tr>\n",
       "  </tbody>\n",
       "</table>\n",
       "<p>14208 rows × 2 columns</p>\n",
       "</div>"
      ],
      "text/plain": [
       "                       LA    NY\n",
       "datetime                       \n",
       "2015-05-20 00:00:00  17.7  19.8\n",
       "2015-05-20 01:00:00  18.0  19.7\n",
       "2015-05-20 02:00:00  16.6  19.0\n",
       "2015-05-20 03:00:00  14.4  19.0\n",
       "2015-05-20 04:00:00  13.3  19.7\n",
       "...                   ...   ...\n",
       "2016-12-31 19:00:00  13.5   4.6\n",
       "2016-12-31 20:00:00  13.2   5.7\n",
       "2016-12-31 21:00:00  12.8   5.8\n",
       "2016-12-31 22:00:00  12.3   5.7\n",
       "2016-12-31 23:00:00  11.9   5.5\n",
       "\n",
       "[14208 rows x 2 columns]"
      ]
     },
     "execution_count": 55,
     "metadata": {},
     "output_type": "execute_result"
    }
   ],
   "source": [
    "temp.loc[\"2015-05-20\":]"
   ]
  },
  {
   "cell_type": "code",
   "execution_count": 56,
   "metadata": {
    "scrolled": true
   },
   "outputs": [
    {
     "data": {
      "text/html": [
       "<div>\n",
       "<style scoped>\n",
       "    .dataframe tbody tr th:only-of-type {\n",
       "        vertical-align: middle;\n",
       "    }\n",
       "\n",
       "    .dataframe tbody tr th {\n",
       "        vertical-align: top;\n",
       "    }\n",
       "\n",
       "    .dataframe thead th {\n",
       "        text-align: right;\n",
       "    }\n",
       "</style>\n",
       "<table border=\"1\" class=\"dataframe\">\n",
       "  <thead>\n",
       "    <tr style=\"text-align: right;\">\n",
       "      <th></th>\n",
       "      <th>LA</th>\n",
       "      <th>NY</th>\n",
       "    </tr>\n",
       "    <tr>\n",
       "      <th>datetime</th>\n",
       "      <th></th>\n",
       "      <th></th>\n",
       "    </tr>\n",
       "  </thead>\n",
       "  <tbody>\n",
       "    <tr>\n",
       "      <th>2013-01-01 00:00:00</th>\n",
       "      <td>11.7</td>\n",
       "      <td>-1.1</td>\n",
       "    </tr>\n",
       "    <tr>\n",
       "      <th>2013-01-01 01:00:00</th>\n",
       "      <td>10.7</td>\n",
       "      <td>-1.7</td>\n",
       "    </tr>\n",
       "    <tr>\n",
       "      <th>2013-01-01 02:00:00</th>\n",
       "      <td>9.9</td>\n",
       "      <td>-2.0</td>\n",
       "    </tr>\n",
       "    <tr>\n",
       "      <th>2013-01-01 03:00:00</th>\n",
       "      <td>9.3</td>\n",
       "      <td>-2.1</td>\n",
       "    </tr>\n",
       "    <tr>\n",
       "      <th>2013-01-01 04:00:00</th>\n",
       "      <td>8.8</td>\n",
       "      <td>-2.3</td>\n",
       "    </tr>\n",
       "    <tr>\n",
       "      <th>...</th>\n",
       "      <td>...</td>\n",
       "      <td>...</td>\n",
       "    </tr>\n",
       "    <tr>\n",
       "      <th>2015-05-20 19:00:00</th>\n",
       "      <td>17.7</td>\n",
       "      <td>18.1</td>\n",
       "    </tr>\n",
       "    <tr>\n",
       "      <th>2015-05-20 20:00:00</th>\n",
       "      <td>18.4</td>\n",
       "      <td>17.8</td>\n",
       "    </tr>\n",
       "    <tr>\n",
       "      <th>2015-05-20 21:00:00</th>\n",
       "      <td>18.0</td>\n",
       "      <td>17.8</td>\n",
       "    </tr>\n",
       "    <tr>\n",
       "      <th>2015-05-20 22:00:00</th>\n",
       "      <td>19.1</td>\n",
       "      <td>14.2</td>\n",
       "    </tr>\n",
       "    <tr>\n",
       "      <th>2015-05-20 23:00:00</th>\n",
       "      <td>19.1</td>\n",
       "      <td>14.2</td>\n",
       "    </tr>\n",
       "  </tbody>\n",
       "</table>\n",
       "<p>20880 rows × 2 columns</p>\n",
       "</div>"
      ],
      "text/plain": [
       "                       LA    NY\n",
       "datetime                       \n",
       "2013-01-01 00:00:00  11.7  -1.1\n",
       "2013-01-01 01:00:00  10.7  -1.7\n",
       "2013-01-01 02:00:00   9.9  -2.0\n",
       "2013-01-01 03:00:00   9.3  -2.1\n",
       "2013-01-01 04:00:00   8.8  -2.3\n",
       "...                   ...   ...\n",
       "2015-05-20 19:00:00  17.7  18.1\n",
       "2015-05-20 20:00:00  18.4  17.8\n",
       "2015-05-20 21:00:00  18.0  17.8\n",
       "2015-05-20 22:00:00  19.1  14.2\n",
       "2015-05-20 23:00:00  19.1  14.2\n",
       "\n",
       "[20880 rows x 2 columns]"
      ]
     },
     "execution_count": 56,
     "metadata": {},
     "output_type": "execute_result"
    }
   ],
   "source": [
    "temp.loc[:\"2015-05-20\"]"
   ]
  },
  {
   "cell_type": "code",
   "execution_count": null,
   "metadata": {},
   "outputs": [],
   "source": [
    "temp.loc[\"20FEBRUARY2015\"]"
   ]
  },
  {
   "cell_type": "code",
   "execution_count": null,
   "metadata": {
    "scrolled": true
   },
   "outputs": [],
   "source": [
    "#temp.loc[[\"2015-05-20 10:00:00\", \"2015-05-20 12:00:00\"]]"
   ]
  },
  {
   "cell_type": "code",
   "execution_count": null,
   "metadata": {},
   "outputs": [],
   "source": [
    "two_timestamps = pd.to_datetime([\"2015-05-20 10:00:00\", \"2015-05-20 12:00:00\"])\n",
    "two_timestamps"
   ]
  },
  {
   "cell_type": "code",
   "execution_count": null,
   "metadata": {},
   "outputs": [],
   "source": [
    "temp.loc[two_timestamps]"
   ]
  },
  {
   "cell_type": "code",
   "execution_count": null,
   "metadata": {},
   "outputs": [],
   "source": []
  },
  {
   "cell_type": "markdown",
   "metadata": {},
   "source": [
    "## Downsampling Time Series with resample()"
   ]
  },
  {
   "cell_type": "code",
   "execution_count": 57,
   "metadata": {},
   "outputs": [],
   "source": [
    "import pandas as pd\n",
    "import matplotlib.pyplot as plt\n",
    "plt.style.use(\"seaborn\")"
   ]
  },
  {
   "cell_type": "code",
   "execution_count": 58,
   "metadata": {},
   "outputs": [],
   "source": [
    "temp = pd.read_csv(\"temp.csv\", parse_dates= [\"datetime\"], index_col = \"datetime\")"
   ]
  },
  {
   "cell_type": "code",
   "execution_count": 59,
   "metadata": {},
   "outputs": [
    {
     "data": {
      "text/html": [
       "<div>\n",
       "<style scoped>\n",
       "    .dataframe tbody tr th:only-of-type {\n",
       "        vertical-align: middle;\n",
       "    }\n",
       "\n",
       "    .dataframe tbody tr th {\n",
       "        vertical-align: top;\n",
       "    }\n",
       "\n",
       "    .dataframe thead th {\n",
       "        text-align: right;\n",
       "    }\n",
       "</style>\n",
       "<table border=\"1\" class=\"dataframe\">\n",
       "  <thead>\n",
       "    <tr style=\"text-align: right;\">\n",
       "      <th></th>\n",
       "      <th>LA</th>\n",
       "      <th>NY</th>\n",
       "    </tr>\n",
       "    <tr>\n",
       "      <th>datetime</th>\n",
       "      <th></th>\n",
       "      <th></th>\n",
       "    </tr>\n",
       "  </thead>\n",
       "  <tbody>\n",
       "    <tr>\n",
       "      <th>2013-01-01 00:00:00</th>\n",
       "      <td>11.7</td>\n",
       "      <td>-1.1</td>\n",
       "    </tr>\n",
       "    <tr>\n",
       "      <th>2013-01-01 01:00:00</th>\n",
       "      <td>10.7</td>\n",
       "      <td>-1.7</td>\n",
       "    </tr>\n",
       "    <tr>\n",
       "      <th>2013-01-01 02:00:00</th>\n",
       "      <td>9.9</td>\n",
       "      <td>-2.0</td>\n",
       "    </tr>\n",
       "    <tr>\n",
       "      <th>2013-01-01 03:00:00</th>\n",
       "      <td>9.3</td>\n",
       "      <td>-2.1</td>\n",
       "    </tr>\n",
       "    <tr>\n",
       "      <th>2013-01-01 04:00:00</th>\n",
       "      <td>8.8</td>\n",
       "      <td>-2.3</td>\n",
       "    </tr>\n",
       "  </tbody>\n",
       "</table>\n",
       "</div>"
      ],
      "text/plain": [
       "                       LA   NY\n",
       "datetime                      \n",
       "2013-01-01 00:00:00  11.7 -1.1\n",
       "2013-01-01 01:00:00  10.7 -1.7\n",
       "2013-01-01 02:00:00   9.9 -2.0\n",
       "2013-01-01 03:00:00   9.3 -2.1\n",
       "2013-01-01 04:00:00   8.8 -2.3"
      ]
     },
     "execution_count": 59,
     "metadata": {},
     "output_type": "execute_result"
    }
   ],
   "source": [
    "temp.head()"
   ]
  },
  {
   "cell_type": "code",
   "execution_count": 60,
   "metadata": {},
   "outputs": [
    {
     "name": "stdout",
     "output_type": "stream",
     "text": [
      "<class 'pandas.core.frame.DataFrame'>\n",
      "DatetimeIndex: 35064 entries, 2013-01-01 00:00:00 to 2016-12-31 23:00:00\n",
      "Data columns (total 2 columns):\n",
      " #   Column  Non-Null Count  Dtype  \n",
      "---  ------  --------------  -----  \n",
      " 0   LA      35062 non-null  float64\n",
      " 1   NY      35064 non-null  float64\n",
      "dtypes: float64(2)\n",
      "memory usage: 821.8 KB\n"
     ]
    }
   ],
   "source": [
    "temp.info()"
   ]
  },
  {
   "cell_type": "code",
   "execution_count": 62,
   "metadata": {
    "scrolled": true
   },
   "outputs": [
    {
     "data": {
      "text/html": [
       "<div>\n",
       "<style scoped>\n",
       "    .dataframe tbody tr th:only-of-type {\n",
       "        vertical-align: middle;\n",
       "    }\n",
       "\n",
       "    .dataframe tbody tr th {\n",
       "        vertical-align: top;\n",
       "    }\n",
       "\n",
       "    .dataframe thead th {\n",
       "        text-align: right;\n",
       "    }\n",
       "</style>\n",
       "<table border=\"1\" class=\"dataframe\">\n",
       "  <thead>\n",
       "    <tr style=\"text-align: right;\">\n",
       "      <th></th>\n",
       "      <th>LA</th>\n",
       "      <th>NY</th>\n",
       "    </tr>\n",
       "    <tr>\n",
       "      <th>datetime</th>\n",
       "      <th></th>\n",
       "      <th></th>\n",
       "    </tr>\n",
       "  </thead>\n",
       "  <tbody>\n",
       "    <tr>\n",
       "      <th>2013-01-02 00:00:00</th>\n",
       "      <td>13.2</td>\n",
       "      <td>2.6</td>\n",
       "    </tr>\n",
       "    <tr>\n",
       "      <th>2013-01-02 01:00:00</th>\n",
       "      <td>11.8</td>\n",
       "      <td>2.7</td>\n",
       "    </tr>\n",
       "    <tr>\n",
       "      <th>2013-01-02 02:00:00</th>\n",
       "      <td>10.5</td>\n",
       "      <td>2.9</td>\n",
       "    </tr>\n",
       "    <tr>\n",
       "      <th>2013-01-02 03:00:00</th>\n",
       "      <td>9.5</td>\n",
       "      <td>2.9</td>\n",
       "    </tr>\n",
       "    <tr>\n",
       "      <th>2013-01-02 04:00:00</th>\n",
       "      <td>8.3</td>\n",
       "      <td>2.9</td>\n",
       "    </tr>\n",
       "    <tr>\n",
       "      <th>2013-01-02 05:00:00</th>\n",
       "      <td>8.0</td>\n",
       "      <td>3.5</td>\n",
       "    </tr>\n",
       "    <tr>\n",
       "      <th>2013-01-02 06:00:00</th>\n",
       "      <td>7.5</td>\n",
       "      <td>3.7</td>\n",
       "    </tr>\n",
       "    <tr>\n",
       "      <th>2013-01-02 07:00:00</th>\n",
       "      <td>7.1</td>\n",
       "      <td>3.5</td>\n",
       "    </tr>\n",
       "    <tr>\n",
       "      <th>2013-01-02 08:00:00</th>\n",
       "      <td>6.4</td>\n",
       "      <td>3.7</td>\n",
       "    </tr>\n",
       "    <tr>\n",
       "      <th>2013-01-02 09:00:00</th>\n",
       "      <td>6.0</td>\n",
       "      <td>3.6</td>\n",
       "    </tr>\n",
       "    <tr>\n",
       "      <th>2013-01-02 10:00:00</th>\n",
       "      <td>5.9</td>\n",
       "      <td>3.5</td>\n",
       "    </tr>\n",
       "    <tr>\n",
       "      <th>2013-01-02 11:00:00</th>\n",
       "      <td>6.1</td>\n",
       "      <td>3.6</td>\n",
       "    </tr>\n",
       "    <tr>\n",
       "      <th>2013-01-02 12:00:00</th>\n",
       "      <td>5.8</td>\n",
       "      <td>3.5</td>\n",
       "    </tr>\n",
       "    <tr>\n",
       "      <th>2013-01-02 13:00:00</th>\n",
       "      <td>5.6</td>\n",
       "      <td>3.5</td>\n",
       "    </tr>\n",
       "    <tr>\n",
       "      <th>2013-01-02 14:00:00</th>\n",
       "      <td>5.8</td>\n",
       "      <td>3.7</td>\n",
       "    </tr>\n",
       "    <tr>\n",
       "      <th>2013-01-02 15:00:00</th>\n",
       "      <td>5.9</td>\n",
       "      <td>4.0</td>\n",
       "    </tr>\n",
       "    <tr>\n",
       "      <th>2013-01-02 16:00:00</th>\n",
       "      <td>6.4</td>\n",
       "      <td>4.0</td>\n",
       "    </tr>\n",
       "    <tr>\n",
       "      <th>2013-01-02 17:00:00</th>\n",
       "      <td>9.0</td>\n",
       "      <td>3.6</td>\n",
       "    </tr>\n",
       "    <tr>\n",
       "      <th>2013-01-02 18:00:00</th>\n",
       "      <td>11.5</td>\n",
       "      <td>3.1</td>\n",
       "    </tr>\n",
       "    <tr>\n",
       "      <th>2013-01-02 19:00:00</th>\n",
       "      <td>13.3</td>\n",
       "      <td>3.2</td>\n",
       "    </tr>\n",
       "    <tr>\n",
       "      <th>2013-01-02 20:00:00</th>\n",
       "      <td>14.2</td>\n",
       "      <td>3.2</td>\n",
       "    </tr>\n",
       "    <tr>\n",
       "      <th>2013-01-02 21:00:00</th>\n",
       "      <td>15.0</td>\n",
       "      <td>2.9</td>\n",
       "    </tr>\n",
       "    <tr>\n",
       "      <th>2013-01-02 22:00:00</th>\n",
       "      <td>14.9</td>\n",
       "      <td>2.0</td>\n",
       "    </tr>\n",
       "    <tr>\n",
       "      <th>2013-01-02 23:00:00</th>\n",
       "      <td>15.1</td>\n",
       "      <td>1.2</td>\n",
       "    </tr>\n",
       "  </tbody>\n",
       "</table>\n",
       "</div>"
      ],
      "text/plain": [
       "                       LA   NY\n",
       "datetime                      \n",
       "2013-01-02 00:00:00  13.2  2.6\n",
       "2013-01-02 01:00:00  11.8  2.7\n",
       "2013-01-02 02:00:00  10.5  2.9\n",
       "2013-01-02 03:00:00   9.5  2.9\n",
       "2013-01-02 04:00:00   8.3  2.9\n",
       "2013-01-02 05:00:00   8.0  3.5\n",
       "2013-01-02 06:00:00   7.5  3.7\n",
       "2013-01-02 07:00:00   7.1  3.5\n",
       "2013-01-02 08:00:00   6.4  3.7\n",
       "2013-01-02 09:00:00   6.0  3.6\n",
       "2013-01-02 10:00:00   5.9  3.5\n",
       "2013-01-02 11:00:00   6.1  3.6\n",
       "2013-01-02 12:00:00   5.8  3.5\n",
       "2013-01-02 13:00:00   5.6  3.5\n",
       "2013-01-02 14:00:00   5.8  3.7\n",
       "2013-01-02 15:00:00   5.9  4.0\n",
       "2013-01-02 16:00:00   6.4  4.0\n",
       "2013-01-02 17:00:00   9.0  3.6\n",
       "2013-01-02 18:00:00  11.5  3.1\n",
       "2013-01-02 19:00:00  13.3  3.2\n",
       "2013-01-02 20:00:00  14.2  3.2\n",
       "2013-01-02 21:00:00  15.0  2.9\n",
       "2013-01-02 22:00:00  14.9  2.0\n",
       "2013-01-02 23:00:00  15.1  1.2"
      ]
     },
     "execution_count": 62,
     "metadata": {},
     "output_type": "execute_result"
    }
   ],
   "source": [
    "list(temp.resample(\"D\"))[1][1]"
   ]
  },
  {
   "cell_type": "code",
   "execution_count": 63,
   "metadata": {},
   "outputs": [
    {
     "data": {
      "text/html": [
       "<div>\n",
       "<style scoped>\n",
       "    .dataframe tbody tr th:only-of-type {\n",
       "        vertical-align: middle;\n",
       "    }\n",
       "\n",
       "    .dataframe tbody tr th {\n",
       "        vertical-align: top;\n",
       "    }\n",
       "\n",
       "    .dataframe thead th {\n",
       "        text-align: right;\n",
       "    }\n",
       "</style>\n",
       "<table border=\"1\" class=\"dataframe\">\n",
       "  <thead>\n",
       "    <tr style=\"text-align: right;\">\n",
       "      <th></th>\n",
       "      <th>LA</th>\n",
       "      <th>NY</th>\n",
       "    </tr>\n",
       "    <tr>\n",
       "      <th>datetime</th>\n",
       "      <th></th>\n",
       "      <th></th>\n",
       "    </tr>\n",
       "  </thead>\n",
       "  <tbody>\n",
       "    <tr>\n",
       "      <th>2013-01-01 00:00:00</th>\n",
       "      <td>11.7</td>\n",
       "      <td>-1.1</td>\n",
       "    </tr>\n",
       "    <tr>\n",
       "      <th>2013-01-01 01:00:00</th>\n",
       "      <td>10.7</td>\n",
       "      <td>-1.7</td>\n",
       "    </tr>\n",
       "    <tr>\n",
       "      <th>2013-01-01 02:00:00</th>\n",
       "      <td>9.9</td>\n",
       "      <td>-2.0</td>\n",
       "    </tr>\n",
       "    <tr>\n",
       "      <th>2013-01-01 03:00:00</th>\n",
       "      <td>9.3</td>\n",
       "      <td>-2.1</td>\n",
       "    </tr>\n",
       "    <tr>\n",
       "      <th>2013-01-01 04:00:00</th>\n",
       "      <td>8.8</td>\n",
       "      <td>-2.3</td>\n",
       "    </tr>\n",
       "    <tr>\n",
       "      <th>2013-01-01 05:00:00</th>\n",
       "      <td>8.7</td>\n",
       "      <td>-2.5</td>\n",
       "    </tr>\n",
       "    <tr>\n",
       "      <th>2013-01-01 06:00:00</th>\n",
       "      <td>6.9</td>\n",
       "      <td>-3.2</td>\n",
       "    </tr>\n",
       "    <tr>\n",
       "      <th>2013-01-01 07:00:00</th>\n",
       "      <td>7.8</td>\n",
       "      <td>-3.4</td>\n",
       "    </tr>\n",
       "    <tr>\n",
       "      <th>2013-01-01 08:00:00</th>\n",
       "      <td>6.7</td>\n",
       "      <td>-3.0</td>\n",
       "    </tr>\n",
       "    <tr>\n",
       "      <th>2013-01-01 09:00:00</th>\n",
       "      <td>6.6</td>\n",
       "      <td>-1.8</td>\n",
       "    </tr>\n",
       "    <tr>\n",
       "      <th>2013-01-01 10:00:00</th>\n",
       "      <td>6.1</td>\n",
       "      <td>-1.4</td>\n",
       "    </tr>\n",
       "    <tr>\n",
       "      <th>2013-01-01 11:00:00</th>\n",
       "      <td>5.6</td>\n",
       "      <td>-1.8</td>\n",
       "    </tr>\n",
       "    <tr>\n",
       "      <th>2013-01-01 12:00:00</th>\n",
       "      <td>5.1</td>\n",
       "      <td>-1.7</td>\n",
       "    </tr>\n",
       "    <tr>\n",
       "      <th>2013-01-01 13:00:00</th>\n",
       "      <td>5.2</td>\n",
       "      <td>-1.5</td>\n",
       "    </tr>\n",
       "    <tr>\n",
       "      <th>2013-01-01 14:00:00</th>\n",
       "      <td>4.6</td>\n",
       "      <td>-1.0</td>\n",
       "    </tr>\n",
       "    <tr>\n",
       "      <th>2013-01-01 15:00:00</th>\n",
       "      <td>5.1</td>\n",
       "      <td>-0.0</td>\n",
       "    </tr>\n",
       "    <tr>\n",
       "      <th>2013-01-01 16:00:00</th>\n",
       "      <td>6.2</td>\n",
       "      <td>1.2</td>\n",
       "    </tr>\n",
       "    <tr>\n",
       "      <th>2013-01-01 17:00:00</th>\n",
       "      <td>9.3</td>\n",
       "      <td>2.2</td>\n",
       "    </tr>\n",
       "    <tr>\n",
       "      <th>2013-01-01 18:00:00</th>\n",
       "      <td>11.4</td>\n",
       "      <td>3.3</td>\n",
       "    </tr>\n",
       "    <tr>\n",
       "      <th>2013-01-01 19:00:00</th>\n",
       "      <td>12.0</td>\n",
       "      <td>3.5</td>\n",
       "    </tr>\n",
       "    <tr>\n",
       "      <th>2013-01-01 20:00:00</th>\n",
       "      <td>12.9</td>\n",
       "      <td>3.1</td>\n",
       "    </tr>\n",
       "    <tr>\n",
       "      <th>2013-01-01 21:00:00</th>\n",
       "      <td>13.9</td>\n",
       "      <td>2.4</td>\n",
       "    </tr>\n",
       "    <tr>\n",
       "      <th>2013-01-01 22:00:00</th>\n",
       "      <td>14.1</td>\n",
       "      <td>2.4</td>\n",
       "    </tr>\n",
       "    <tr>\n",
       "      <th>2013-01-01 23:00:00</th>\n",
       "      <td>14.0</td>\n",
       "      <td>2.7</td>\n",
       "    </tr>\n",
       "    <tr>\n",
       "      <th>2013-01-02 00:00:00</th>\n",
       "      <td>13.2</td>\n",
       "      <td>2.6</td>\n",
       "    </tr>\n",
       "  </tbody>\n",
       "</table>\n",
       "</div>"
      ],
      "text/plain": [
       "                       LA   NY\n",
       "datetime                      \n",
       "2013-01-01 00:00:00  11.7 -1.1\n",
       "2013-01-01 01:00:00  10.7 -1.7\n",
       "2013-01-01 02:00:00   9.9 -2.0\n",
       "2013-01-01 03:00:00   9.3 -2.1\n",
       "2013-01-01 04:00:00   8.8 -2.3\n",
       "2013-01-01 05:00:00   8.7 -2.5\n",
       "2013-01-01 06:00:00   6.9 -3.2\n",
       "2013-01-01 07:00:00   7.8 -3.4\n",
       "2013-01-01 08:00:00   6.7 -3.0\n",
       "2013-01-01 09:00:00   6.6 -1.8\n",
       "2013-01-01 10:00:00   6.1 -1.4\n",
       "2013-01-01 11:00:00   5.6 -1.8\n",
       "2013-01-01 12:00:00   5.1 -1.7\n",
       "2013-01-01 13:00:00   5.2 -1.5\n",
       "2013-01-01 14:00:00   4.6 -1.0\n",
       "2013-01-01 15:00:00   5.1 -0.0\n",
       "2013-01-01 16:00:00   6.2  1.2\n",
       "2013-01-01 17:00:00   9.3  2.2\n",
       "2013-01-01 18:00:00  11.4  3.3\n",
       "2013-01-01 19:00:00  12.0  3.5\n",
       "2013-01-01 20:00:00  12.9  3.1\n",
       "2013-01-01 21:00:00  13.9  2.4\n",
       "2013-01-01 22:00:00  14.1  2.4\n",
       "2013-01-01 23:00:00  14.0  2.7\n",
       "2013-01-02 00:00:00  13.2  2.6"
      ]
     },
     "execution_count": 63,
     "metadata": {},
     "output_type": "execute_result"
    }
   ],
   "source": [
    "temp.head(25)"
   ]
  },
  {
   "cell_type": "code",
   "execution_count": 64,
   "metadata": {
    "scrolled": true
   },
   "outputs": [
    {
     "data": {
      "text/html": [
       "<div>\n",
       "<style scoped>\n",
       "    .dataframe tbody tr th:only-of-type {\n",
       "        vertical-align: middle;\n",
       "    }\n",
       "\n",
       "    .dataframe tbody tr th {\n",
       "        vertical-align: top;\n",
       "    }\n",
       "\n",
       "    .dataframe thead th {\n",
       "        text-align: right;\n",
       "    }\n",
       "</style>\n",
       "<table border=\"1\" class=\"dataframe\">\n",
       "  <thead>\n",
       "    <tr style=\"text-align: right;\">\n",
       "      <th></th>\n",
       "      <th>LA</th>\n",
       "      <th>NY</th>\n",
       "    </tr>\n",
       "    <tr>\n",
       "      <th>datetime</th>\n",
       "      <th></th>\n",
       "      <th></th>\n",
       "    </tr>\n",
       "  </thead>\n",
       "  <tbody>\n",
       "    <tr>\n",
       "      <th>2013-01-01</th>\n",
       "      <td>212.6</td>\n",
       "      <td>-9.7</td>\n",
       "    </tr>\n",
       "    <tr>\n",
       "      <th>2013-01-02</th>\n",
       "      <td>222.8</td>\n",
       "      <td>77.0</td>\n",
       "    </tr>\n",
       "    <tr>\n",
       "      <th>2013-01-03</th>\n",
       "      <td>247.3</td>\n",
       "      <td>-58.2</td>\n",
       "    </tr>\n",
       "    <tr>\n",
       "      <th>2013-01-04</th>\n",
       "      <td>276.3</td>\n",
       "      <td>-49.7</td>\n",
       "    </tr>\n",
       "    <tr>\n",
       "      <th>2013-01-05</th>\n",
       "      <td>266.0</td>\n",
       "      <td>19.6</td>\n",
       "    </tr>\n",
       "    <tr>\n",
       "      <th>...</th>\n",
       "      <td>...</td>\n",
       "      <td>...</td>\n",
       "    </tr>\n",
       "    <tr>\n",
       "      <th>2016-12-27</th>\n",
       "      <td>291.7</td>\n",
       "      <td>253.9</td>\n",
       "    </tr>\n",
       "    <tr>\n",
       "      <th>2016-12-28</th>\n",
       "      <td>346.4</td>\n",
       "      <td>96.4</td>\n",
       "    </tr>\n",
       "    <tr>\n",
       "      <th>2016-12-29</th>\n",
       "      <td>385.1</td>\n",
       "      <td>31.5</td>\n",
       "    </tr>\n",
       "    <tr>\n",
       "      <th>2016-12-30</th>\n",
       "      <td>382.4</td>\n",
       "      <td>52.9</td>\n",
       "    </tr>\n",
       "    <tr>\n",
       "      <th>2016-12-31</th>\n",
       "      <td>318.6</td>\n",
       "      <td>28.9</td>\n",
       "    </tr>\n",
       "  </tbody>\n",
       "</table>\n",
       "<p>1461 rows × 2 columns</p>\n",
       "</div>"
      ],
      "text/plain": [
       "               LA     NY\n",
       "datetime                \n",
       "2013-01-01  212.6   -9.7\n",
       "2013-01-02  222.8   77.0\n",
       "2013-01-03  247.3  -58.2\n",
       "2013-01-04  276.3  -49.7\n",
       "2013-01-05  266.0   19.6\n",
       "...           ...    ...\n",
       "2016-12-27  291.7  253.9\n",
       "2016-12-28  346.4   96.4\n",
       "2016-12-29  385.1   31.5\n",
       "2016-12-30  382.4   52.9\n",
       "2016-12-31  318.6   28.9\n",
       "\n",
       "[1461 rows x 2 columns]"
      ]
     },
     "execution_count": 64,
     "metadata": {},
     "output_type": "execute_result"
    }
   ],
   "source": [
    "temp.resample(\"D\").sum()"
   ]
  },
  {
   "cell_type": "code",
   "execution_count": 65,
   "metadata": {
    "scrolled": true
   },
   "outputs": [
    {
     "data": {
      "text/html": [
       "<div>\n",
       "<style scoped>\n",
       "    .dataframe tbody tr th:only-of-type {\n",
       "        vertical-align: middle;\n",
       "    }\n",
       "\n",
       "    .dataframe tbody tr th {\n",
       "        vertical-align: top;\n",
       "    }\n",
       "\n",
       "    .dataframe thead th {\n",
       "        text-align: right;\n",
       "    }\n",
       "</style>\n",
       "<table border=\"1\" class=\"dataframe\">\n",
       "  <thead>\n",
       "    <tr style=\"text-align: right;\">\n",
       "      <th></th>\n",
       "      <th>LA</th>\n",
       "      <th>NY</th>\n",
       "    </tr>\n",
       "    <tr>\n",
       "      <th>datetime</th>\n",
       "      <th></th>\n",
       "      <th></th>\n",
       "    </tr>\n",
       "  </thead>\n",
       "  <tbody>\n",
       "    <tr>\n",
       "      <th>2013-01-01 00:00:00</th>\n",
       "      <td>11.7</td>\n",
       "      <td>-1.1</td>\n",
       "    </tr>\n",
       "    <tr>\n",
       "      <th>2013-01-01 02:00:00</th>\n",
       "      <td>9.9</td>\n",
       "      <td>-2.0</td>\n",
       "    </tr>\n",
       "    <tr>\n",
       "      <th>2013-01-01 04:00:00</th>\n",
       "      <td>8.8</td>\n",
       "      <td>-2.3</td>\n",
       "    </tr>\n",
       "    <tr>\n",
       "      <th>2013-01-01 06:00:00</th>\n",
       "      <td>6.9</td>\n",
       "      <td>-3.2</td>\n",
       "    </tr>\n",
       "    <tr>\n",
       "      <th>2013-01-01 08:00:00</th>\n",
       "      <td>6.7</td>\n",
       "      <td>-3.0</td>\n",
       "    </tr>\n",
       "    <tr>\n",
       "      <th>...</th>\n",
       "      <td>...</td>\n",
       "      <td>...</td>\n",
       "    </tr>\n",
       "    <tr>\n",
       "      <th>2016-12-31 14:00:00</th>\n",
       "      <td>12.7</td>\n",
       "      <td>-1.3</td>\n",
       "    </tr>\n",
       "    <tr>\n",
       "      <th>2016-12-31 16:00:00</th>\n",
       "      <td>12.6</td>\n",
       "      <td>1.1</td>\n",
       "    </tr>\n",
       "    <tr>\n",
       "      <th>2016-12-31 18:00:00</th>\n",
       "      <td>13.2</td>\n",
       "      <td>3.4</td>\n",
       "    </tr>\n",
       "    <tr>\n",
       "      <th>2016-12-31 20:00:00</th>\n",
       "      <td>13.2</td>\n",
       "      <td>5.7</td>\n",
       "    </tr>\n",
       "    <tr>\n",
       "      <th>2016-12-31 22:00:00</th>\n",
       "      <td>12.3</td>\n",
       "      <td>5.7</td>\n",
       "    </tr>\n",
       "  </tbody>\n",
       "</table>\n",
       "<p>17532 rows × 2 columns</p>\n",
       "</div>"
      ],
      "text/plain": [
       "                       LA   NY\n",
       "datetime                      \n",
       "2013-01-01 00:00:00  11.7 -1.1\n",
       "2013-01-01 02:00:00   9.9 -2.0\n",
       "2013-01-01 04:00:00   8.8 -2.3\n",
       "2013-01-01 06:00:00   6.9 -3.2\n",
       "2013-01-01 08:00:00   6.7 -3.0\n",
       "...                   ...  ...\n",
       "2016-12-31 14:00:00  12.7 -1.3\n",
       "2016-12-31 16:00:00  12.6  1.1\n",
       "2016-12-31 18:00:00  13.2  3.4\n",
       "2016-12-31 20:00:00  13.2  5.7\n",
       "2016-12-31 22:00:00  12.3  5.7\n",
       "\n",
       "[17532 rows x 2 columns]"
      ]
     },
     "execution_count": 65,
     "metadata": {},
     "output_type": "execute_result"
    }
   ],
   "source": [
    "temp.resample(\"2H\").first()"
   ]
  },
  {
   "cell_type": "code",
   "execution_count": null,
   "metadata": {
    "scrolled": true
   },
   "outputs": [],
   "source": [
    "temp.resample(\"W\").mean()"
   ]
  },
  {
   "cell_type": "code",
   "execution_count": null,
   "metadata": {
    "scrolled": true
   },
   "outputs": [],
   "source": [
    "temp.resample(\"W-Wed\").mean()"
   ]
  },
  {
   "cell_type": "code",
   "execution_count": null,
   "metadata": {
    "scrolled": true
   },
   "outputs": [],
   "source": [
    "temp.resample(\"M\").mean()"
   ]
  },
  {
   "cell_type": "code",
   "execution_count": null,
   "metadata": {
    "scrolled": true
   },
   "outputs": [],
   "source": [
    "temp.resample(\"MS\").mean()"
   ]
  },
  {
   "cell_type": "code",
   "execution_count": null,
   "metadata": {
    "scrolled": true
   },
   "outputs": [],
   "source": [
    "temp.resample(\"MS\", loffset=\"14D\").mean()"
   ]
  },
  {
   "cell_type": "code",
   "execution_count": null,
   "metadata": {
    "scrolled": true
   },
   "outputs": [],
   "source": [
    "temp.resample(\"Q\").mean()"
   ]
  },
  {
   "cell_type": "code",
   "execution_count": null,
   "metadata": {
    "scrolled": true
   },
   "outputs": [],
   "source": [
    "temp.resample(\"Q-Feb\").mean()"
   ]
  },
  {
   "cell_type": "code",
   "execution_count": null,
   "metadata": {
    "scrolled": true
   },
   "outputs": [],
   "source": [
    "temp.resample(\"Y\").mean()"
   ]
  },
  {
   "cell_type": "code",
   "execution_count": null,
   "metadata": {},
   "outputs": [],
   "source": [
    "temp.resample(\"YS\").mean()"
   ]
  },
  {
   "cell_type": "code",
   "execution_count": null,
   "metadata": {},
   "outputs": [],
   "source": []
  }
 ],
 "metadata": {
  "kernelspec": {
   "display_name": "Python 3",
   "language": "python",
   "name": "python3"
  },
  "language_info": {
   "codemirror_mode": {
    "name": "ipython",
    "version": 3
   },
   "file_extension": ".py",
   "mimetype": "text/x-python",
   "name": "python",
   "nbconvert_exporter": "python",
   "pygments_lexer": "ipython3",
   "version": "3.8.5"
  }
 },
 "nbformat": 4,
 "nbformat_minor": 2
}

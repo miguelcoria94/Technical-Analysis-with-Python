{
 "cells": [
  {
   "cell_type": "markdown",
   "metadata": {},
   "source": [
    "# Financial Data Analysis"
   ]
  },
  {
   "cell_type": "markdown",
   "metadata": {},
   "source": [
    "## Importing and Exporting Stock Price Data from Yahoo Finance"
   ]
  },
  {
   "cell_type": "code",
   "execution_count": 1,
   "metadata": {},
   "outputs": [],
   "source": [
    "import pandas as pd\n",
    "import yfinance as yf\n",
    "import matplotlib.pyplot as plt"
   ]
  },
  {
   "cell_type": "code",
   "execution_count": 2,
   "metadata": {},
   "outputs": [],
   "source": [
    "ticker = [\"AAPL\", \"BA\", \"KO\", \"IBM\", \"DIS\", \"MSFT\" ]"
   ]
  },
  {
   "cell_type": "code",
   "execution_count": 5,
   "metadata": {
    "scrolled": true
   },
   "outputs": [
    {
     "name": "stdout",
     "output_type": "stream",
     "text": [
      "[*********************100%***********************]  6 of 6 completed\n"
     ]
    }
   ],
   "source": [
    "stocks = yf.download(ticker, start = \"2010-01-01\", end = \"2020-02-06\")"
   ]
  },
  {
   "cell_type": "code",
   "execution_count": 6,
   "metadata": {
    "scrolled": true
   },
   "outputs": [
    {
     "data": {
      "text/html": [
       "<div>\n",
       "<style scoped>\n",
       "    .dataframe tbody tr th:only-of-type {\n",
       "        vertical-align: middle;\n",
       "    }\n",
       "\n",
       "    .dataframe tbody tr th {\n",
       "        vertical-align: top;\n",
       "    }\n",
       "\n",
       "    .dataframe thead tr th {\n",
       "        text-align: left;\n",
       "    }\n",
       "\n",
       "    .dataframe thead tr:last-of-type th {\n",
       "        text-align: right;\n",
       "    }\n",
       "</style>\n",
       "<table border=\"1\" class=\"dataframe\">\n",
       "  <thead>\n",
       "    <tr>\n",
       "      <th></th>\n",
       "      <th colspan=\"6\" halign=\"left\">Adj Close</th>\n",
       "      <th colspan=\"4\" halign=\"left\">Close</th>\n",
       "      <th>...</th>\n",
       "      <th colspan=\"4\" halign=\"left\">Open</th>\n",
       "      <th colspan=\"6\" halign=\"left\">Volume</th>\n",
       "    </tr>\n",
       "    <tr>\n",
       "      <th></th>\n",
       "      <th>AAPL</th>\n",
       "      <th>BA</th>\n",
       "      <th>DIS</th>\n",
       "      <th>IBM</th>\n",
       "      <th>KO</th>\n",
       "      <th>MSFT</th>\n",
       "      <th>AAPL</th>\n",
       "      <th>BA</th>\n",
       "      <th>DIS</th>\n",
       "      <th>IBM</th>\n",
       "      <th>...</th>\n",
       "      <th>DIS</th>\n",
       "      <th>IBM</th>\n",
       "      <th>KO</th>\n",
       "      <th>MSFT</th>\n",
       "      <th>AAPL</th>\n",
       "      <th>BA</th>\n",
       "      <th>DIS</th>\n",
       "      <th>IBM</th>\n",
       "      <th>KO</th>\n",
       "      <th>MSFT</th>\n",
       "    </tr>\n",
       "    <tr>\n",
       "      <th>Date</th>\n",
       "      <th></th>\n",
       "      <th></th>\n",
       "      <th></th>\n",
       "      <th></th>\n",
       "      <th></th>\n",
       "      <th></th>\n",
       "      <th></th>\n",
       "      <th></th>\n",
       "      <th></th>\n",
       "      <th></th>\n",
       "      <th></th>\n",
       "      <th></th>\n",
       "      <th></th>\n",
       "      <th></th>\n",
       "      <th></th>\n",
       "      <th></th>\n",
       "      <th></th>\n",
       "      <th></th>\n",
       "      <th></th>\n",
       "      <th></th>\n",
       "      <th></th>\n",
       "    </tr>\n",
       "  </thead>\n",
       "  <tbody>\n",
       "    <tr>\n",
       "      <th>2010-01-04</th>\n",
       "      <td>6.583586</td>\n",
       "      <td>43.777542</td>\n",
       "      <td>27.933924</td>\n",
       "      <td>92.528694</td>\n",
       "      <td>20.265518</td>\n",
       "      <td>24.049969</td>\n",
       "      <td>7.643214</td>\n",
       "      <td>56.180000</td>\n",
       "      <td>32.070000</td>\n",
       "      <td>132.449997</td>\n",
       "      <td>...</td>\n",
       "      <td>32.50</td>\n",
       "      <td>131.179993</td>\n",
       "      <td>28.580000</td>\n",
       "      <td>30.620001</td>\n",
       "      <td>493729600</td>\n",
       "      <td>6186700</td>\n",
       "      <td>13700400</td>\n",
       "      <td>6155300</td>\n",
       "      <td>13870400</td>\n",
       "      <td>38409100</td>\n",
       "    </tr>\n",
       "    <tr>\n",
       "      <th>2010-01-05</th>\n",
       "      <td>6.594968</td>\n",
       "      <td>45.211330</td>\n",
       "      <td>27.864237</td>\n",
       "      <td>91.410950</td>\n",
       "      <td>20.020369</td>\n",
       "      <td>24.057743</td>\n",
       "      <td>7.656429</td>\n",
       "      <td>58.020000</td>\n",
       "      <td>31.990000</td>\n",
       "      <td>130.850006</td>\n",
       "      <td>...</td>\n",
       "      <td>32.07</td>\n",
       "      <td>131.679993</td>\n",
       "      <td>28.424999</td>\n",
       "      <td>30.850000</td>\n",
       "      <td>601904800</td>\n",
       "      <td>8867800</td>\n",
       "      <td>10307700</td>\n",
       "      <td>6841400</td>\n",
       "      <td>23172400</td>\n",
       "      <td>49749600</td>\n",
       "    </tr>\n",
       "    <tr>\n",
       "      <th>2010-01-06</th>\n",
       "      <td>6.490066</td>\n",
       "      <td>46.582798</td>\n",
       "      <td>27.716166</td>\n",
       "      <td>90.817116</td>\n",
       "      <td>20.013266</td>\n",
       "      <td>23.910097</td>\n",
       "      <td>7.534643</td>\n",
       "      <td>59.779999</td>\n",
       "      <td>31.820000</td>\n",
       "      <td>130.000000</td>\n",
       "      <td>...</td>\n",
       "      <td>31.90</td>\n",
       "      <td>130.679993</td>\n",
       "      <td>28.174999</td>\n",
       "      <td>30.879999</td>\n",
       "      <td>552160000</td>\n",
       "      <td>8836500</td>\n",
       "      <td>10709500</td>\n",
       "      <td>5605300</td>\n",
       "      <td>19264600</td>\n",
       "      <td>58182400</td>\n",
       "    </tr>\n",
       "    <tr>\n",
       "      <th>2010-01-07</th>\n",
       "      <td>6.478067</td>\n",
       "      <td>48.468555</td>\n",
       "      <td>27.724878</td>\n",
       "      <td>90.502762</td>\n",
       "      <td>19.963526</td>\n",
       "      <td>23.661432</td>\n",
       "      <td>7.520714</td>\n",
       "      <td>62.200001</td>\n",
       "      <td>31.830000</td>\n",
       "      <td>129.550003</td>\n",
       "      <td>...</td>\n",
       "      <td>31.77</td>\n",
       "      <td>129.869995</td>\n",
       "      <td>28.165001</td>\n",
       "      <td>30.629999</td>\n",
       "      <td>477131200</td>\n",
       "      <td>14379100</td>\n",
       "      <td>8202100</td>\n",
       "      <td>5840600</td>\n",
       "      <td>13234600</td>\n",
       "      <td>50559700</td>\n",
       "    </tr>\n",
       "    <tr>\n",
       "      <th>2010-01-08</th>\n",
       "      <td>6.521136</td>\n",
       "      <td>48.001007</td>\n",
       "      <td>27.768419</td>\n",
       "      <td>91.410950</td>\n",
       "      <td>19.594034</td>\n",
       "      <td>23.824627</td>\n",
       "      <td>7.570714</td>\n",
       "      <td>61.599998</td>\n",
       "      <td>31.879999</td>\n",
       "      <td>130.850006</td>\n",
       "      <td>...</td>\n",
       "      <td>31.66</td>\n",
       "      <td>129.070007</td>\n",
       "      <td>27.730000</td>\n",
       "      <td>30.280001</td>\n",
       "      <td>447610800</td>\n",
       "      <td>7146600</td>\n",
       "      <td>7657500</td>\n",
       "      <td>4197200</td>\n",
       "      <td>28712400</td>\n",
       "      <td>51197400</td>\n",
       "    </tr>\n",
       "  </tbody>\n",
       "</table>\n",
       "<p>5 rows × 36 columns</p>\n",
       "</div>"
      ],
      "text/plain": [
       "           Adj Close                                                         \\\n",
       "                AAPL         BA        DIS        IBM         KO       MSFT   \n",
       "Date                                                                          \n",
       "2010-01-04  6.583586  43.777542  27.933924  92.528694  20.265518  24.049969   \n",
       "2010-01-05  6.594968  45.211330  27.864237  91.410950  20.020369  24.057743   \n",
       "2010-01-06  6.490066  46.582798  27.716166  90.817116  20.013266  23.910097   \n",
       "2010-01-07  6.478067  48.468555  27.724878  90.502762  19.963526  23.661432   \n",
       "2010-01-08  6.521136  48.001007  27.768419  91.410950  19.594034  23.824627   \n",
       "\n",
       "               Close                                    ...   Open  \\\n",
       "                AAPL         BA        DIS         IBM  ...    DIS   \n",
       "Date                                                    ...          \n",
       "2010-01-04  7.643214  56.180000  32.070000  132.449997  ...  32.50   \n",
       "2010-01-05  7.656429  58.020000  31.990000  130.850006  ...  32.07   \n",
       "2010-01-06  7.534643  59.779999  31.820000  130.000000  ...  31.90   \n",
       "2010-01-07  7.520714  62.200001  31.830000  129.550003  ...  31.77   \n",
       "2010-01-08  7.570714  61.599998  31.879999  130.850006  ...  31.66   \n",
       "\n",
       "                                                 Volume                      \\\n",
       "                   IBM         KO       MSFT       AAPL        BA       DIS   \n",
       "Date                                                                          \n",
       "2010-01-04  131.179993  28.580000  30.620001  493729600   6186700  13700400   \n",
       "2010-01-05  131.679993  28.424999  30.850000  601904800   8867800  10307700   \n",
       "2010-01-06  130.679993  28.174999  30.879999  552160000   8836500  10709500   \n",
       "2010-01-07  129.869995  28.165001  30.629999  477131200  14379100   8202100   \n",
       "2010-01-08  129.070007  27.730000  30.280001  447610800   7146600   7657500   \n",
       "\n",
       "                                         \n",
       "                IBM        KO      MSFT  \n",
       "Date                                     \n",
       "2010-01-04  6155300  13870400  38409100  \n",
       "2010-01-05  6841400  23172400  49749600  \n",
       "2010-01-06  5605300  19264600  58182400  \n",
       "2010-01-07  5840600  13234600  50559700  \n",
       "2010-01-08  4197200  28712400  51197400  \n",
       "\n",
       "[5 rows x 36 columns]"
      ]
     },
     "execution_count": 6,
     "metadata": {},
     "output_type": "execute_result"
    }
   ],
   "source": [
    "stocks.head()"
   ]
  },
  {
   "cell_type": "code",
   "execution_count": 7,
   "metadata": {},
   "outputs": [
    {
     "data": {
      "text/html": [
       "<div>\n",
       "<style scoped>\n",
       "    .dataframe tbody tr th:only-of-type {\n",
       "        vertical-align: middle;\n",
       "    }\n",
       "\n",
       "    .dataframe tbody tr th {\n",
       "        vertical-align: top;\n",
       "    }\n",
       "\n",
       "    .dataframe thead tr th {\n",
       "        text-align: left;\n",
       "    }\n",
       "\n",
       "    .dataframe thead tr:last-of-type th {\n",
       "        text-align: right;\n",
       "    }\n",
       "</style>\n",
       "<table border=\"1\" class=\"dataframe\">\n",
       "  <thead>\n",
       "    <tr>\n",
       "      <th></th>\n",
       "      <th colspan=\"6\" halign=\"left\">Adj Close</th>\n",
       "      <th colspan=\"4\" halign=\"left\">Close</th>\n",
       "      <th>...</th>\n",
       "      <th colspan=\"4\" halign=\"left\">Open</th>\n",
       "      <th colspan=\"6\" halign=\"left\">Volume</th>\n",
       "    </tr>\n",
       "    <tr>\n",
       "      <th></th>\n",
       "      <th>AAPL</th>\n",
       "      <th>BA</th>\n",
       "      <th>DIS</th>\n",
       "      <th>IBM</th>\n",
       "      <th>KO</th>\n",
       "      <th>MSFT</th>\n",
       "      <th>AAPL</th>\n",
       "      <th>BA</th>\n",
       "      <th>DIS</th>\n",
       "      <th>IBM</th>\n",
       "      <th>...</th>\n",
       "      <th>DIS</th>\n",
       "      <th>IBM</th>\n",
       "      <th>KO</th>\n",
       "      <th>MSFT</th>\n",
       "      <th>AAPL</th>\n",
       "      <th>BA</th>\n",
       "      <th>DIS</th>\n",
       "      <th>IBM</th>\n",
       "      <th>KO</th>\n",
       "      <th>MSFT</th>\n",
       "    </tr>\n",
       "    <tr>\n",
       "      <th>Date</th>\n",
       "      <th></th>\n",
       "      <th></th>\n",
       "      <th></th>\n",
       "      <th></th>\n",
       "      <th></th>\n",
       "      <th></th>\n",
       "      <th></th>\n",
       "      <th></th>\n",
       "      <th></th>\n",
       "      <th></th>\n",
       "      <th></th>\n",
       "      <th></th>\n",
       "      <th></th>\n",
       "      <th></th>\n",
       "      <th></th>\n",
       "      <th></th>\n",
       "      <th></th>\n",
       "      <th></th>\n",
       "      <th></th>\n",
       "      <th></th>\n",
       "      <th></th>\n",
       "    </tr>\n",
       "  </thead>\n",
       "  <tbody>\n",
       "    <tr>\n",
       "      <th>2020-01-30</th>\n",
       "      <td>80.154472</td>\n",
       "      <td>321.387817</td>\n",
       "      <td>137.809998</td>\n",
       "      <td>128.241013</td>\n",
       "      <td>56.912415</td>\n",
       "      <td>170.575958</td>\n",
       "      <td>80.967499</td>\n",
       "      <td>323.299988</td>\n",
       "      <td>137.809998</td>\n",
       "      <td>136.770004</td>\n",
       "      <td>...</td>\n",
       "      <td>135.089996</td>\n",
       "      <td>136.759995</td>\n",
       "      <td>57.930000</td>\n",
       "      <td>174.050003</td>\n",
       "      <td>126743200</td>\n",
       "      <td>6022000</td>\n",
       "      <td>11847300</td>\n",
       "      <td>5057900</td>\n",
       "      <td>20225600</td>\n",
       "      <td>51597500</td>\n",
       "    </tr>\n",
       "    <tr>\n",
       "      <th>2020-01-31</th>\n",
       "      <td>76.600517</td>\n",
       "      <td>316.387573</td>\n",
       "      <td>138.309998</td>\n",
       "      <td>134.766983</td>\n",
       "      <td>56.467640</td>\n",
       "      <td>168.058472</td>\n",
       "      <td>77.377502</td>\n",
       "      <td>318.269989</td>\n",
       "      <td>138.309998</td>\n",
       "      <td>143.729996</td>\n",
       "      <td>...</td>\n",
       "      <td>138.399994</td>\n",
       "      <td>142.899994</td>\n",
       "      <td>58.970001</td>\n",
       "      <td>172.210007</td>\n",
       "      <td>199588400</td>\n",
       "      <td>4999600</td>\n",
       "      <td>12379100</td>\n",
       "      <td>18994600</td>\n",
       "      <td>17685200</td>\n",
       "      <td>36142700</td>\n",
       "    </tr>\n",
       "    <tr>\n",
       "      <th>2020-02-03</th>\n",
       "      <td>76.390160</td>\n",
       "      <td>314.131012</td>\n",
       "      <td>141.320007</td>\n",
       "      <td>137.148605</td>\n",
       "      <td>56.641682</td>\n",
       "      <td>172.155548</td>\n",
       "      <td>77.165001</td>\n",
       "      <td>316.000000</td>\n",
       "      <td>141.320007</td>\n",
       "      <td>146.270004</td>\n",
       "      <td>...</td>\n",
       "      <td>139.789993</td>\n",
       "      <td>144.250000</td>\n",
       "      <td>58.750000</td>\n",
       "      <td>170.429993</td>\n",
       "      <td>173985600</td>\n",
       "      <td>4847700</td>\n",
       "      <td>12660000</td>\n",
       "      <td>8887500</td>\n",
       "      <td>12336800</td>\n",
       "      <td>30149100</td>\n",
       "    </tr>\n",
       "    <tr>\n",
       "      <th>2020-02-04</th>\n",
       "      <td>78.912079</td>\n",
       "      <td>316.059540</td>\n",
       "      <td>144.729996</td>\n",
       "      <td>139.811493</td>\n",
       "      <td>56.893078</td>\n",
       "      <td>177.822327</td>\n",
       "      <td>79.712502</td>\n",
       "      <td>317.940002</td>\n",
       "      <td>144.729996</td>\n",
       "      <td>149.110001</td>\n",
       "      <td>...</td>\n",
       "      <td>145.490005</td>\n",
       "      <td>147.779999</td>\n",
       "      <td>58.750000</td>\n",
       "      <td>177.139999</td>\n",
       "      <td>136616400</td>\n",
       "      <td>3779800</td>\n",
       "      <td>23519700</td>\n",
       "      <td>5621000</td>\n",
       "      <td>15417900</td>\n",
       "      <td>36433300</td>\n",
       "    </tr>\n",
       "    <tr>\n",
       "      <th>2020-02-05</th>\n",
       "      <td>79.555550</td>\n",
       "      <td>327.600861</td>\n",
       "      <td>141.369995</td>\n",
       "      <td>146.581253</td>\n",
       "      <td>56.902748</td>\n",
       "      <td>177.605148</td>\n",
       "      <td>80.362503</td>\n",
       "      <td>329.549988</td>\n",
       "      <td>141.369995</td>\n",
       "      <td>156.330002</td>\n",
       "      <td>...</td>\n",
       "      <td>146.600006</td>\n",
       "      <td>150.210007</td>\n",
       "      <td>58.900002</td>\n",
       "      <td>184.029999</td>\n",
       "      <td>118826800</td>\n",
       "      <td>6071800</td>\n",
       "      <td>27824100</td>\n",
       "      <td>14386800</td>\n",
       "      <td>11414900</td>\n",
       "      <td>39186300</td>\n",
       "    </tr>\n",
       "  </tbody>\n",
       "</table>\n",
       "<p>5 rows × 36 columns</p>\n",
       "</div>"
      ],
      "text/plain": [
       "            Adj Close                                                 \\\n",
       "                 AAPL          BA         DIS         IBM         KO   \n",
       "Date                                                                   \n",
       "2020-01-30  80.154472  321.387817  137.809998  128.241013  56.912415   \n",
       "2020-01-31  76.600517  316.387573  138.309998  134.766983  56.467640   \n",
       "2020-02-03  76.390160  314.131012  141.320007  137.148605  56.641682   \n",
       "2020-02-04  78.912079  316.059540  144.729996  139.811493  56.893078   \n",
       "2020-02-05  79.555550  327.600861  141.369995  146.581253  56.902748   \n",
       "\n",
       "                            Close                                      ...  \\\n",
       "                  MSFT       AAPL          BA         DIS         IBM  ...   \n",
       "Date                                                                   ...   \n",
       "2020-01-30  170.575958  80.967499  323.299988  137.809998  136.770004  ...   \n",
       "2020-01-31  168.058472  77.377502  318.269989  138.309998  143.729996  ...   \n",
       "2020-02-03  172.155548  77.165001  316.000000  141.320007  146.270004  ...   \n",
       "2020-02-04  177.822327  79.712502  317.940002  144.729996  149.110001  ...   \n",
       "2020-02-05  177.605148  80.362503  329.549988  141.369995  156.330002  ...   \n",
       "\n",
       "                  Open                                        Volume           \\\n",
       "                   DIS         IBM         KO        MSFT       AAPL       BA   \n",
       "Date                                                                            \n",
       "2020-01-30  135.089996  136.759995  57.930000  174.050003  126743200  6022000   \n",
       "2020-01-31  138.399994  142.899994  58.970001  172.210007  199588400  4999600   \n",
       "2020-02-03  139.789993  144.250000  58.750000  170.429993  173985600  4847700   \n",
       "2020-02-04  145.490005  147.779999  58.750000  177.139999  136616400  3779800   \n",
       "2020-02-05  146.600006  150.210007  58.900002  184.029999  118826800  6071800   \n",
       "\n",
       "                                                    \n",
       "                 DIS       IBM        KO      MSFT  \n",
       "Date                                                \n",
       "2020-01-30  11847300   5057900  20225600  51597500  \n",
       "2020-01-31  12379100  18994600  17685200  36142700  \n",
       "2020-02-03  12660000   8887500  12336800  30149100  \n",
       "2020-02-04  23519700   5621000  15417900  36433300  \n",
       "2020-02-05  27824100  14386800  11414900  39186300  \n",
       "\n",
       "[5 rows x 36 columns]"
      ]
     },
     "execution_count": 7,
     "metadata": {},
     "output_type": "execute_result"
    }
   ],
   "source": [
    "stocks.tail()"
   ]
  },
  {
   "cell_type": "code",
   "execution_count": 8,
   "metadata": {
    "scrolled": true
   },
   "outputs": [
    {
     "name": "stdout",
     "output_type": "stream",
     "text": [
      "<class 'pandas.core.frame.DataFrame'>\n",
      "DatetimeIndex: 2540 entries, 2010-01-04 to 2020-02-05\n",
      "Data columns (total 36 columns):\n",
      " #   Column             Non-Null Count  Dtype  \n",
      "---  ------             --------------  -----  \n",
      " 0   (Adj Close, AAPL)  2540 non-null   float64\n",
      " 1   (Adj Close, BA)    2540 non-null   float64\n",
      " 2   (Adj Close, DIS)   2540 non-null   float64\n",
      " 3   (Adj Close, IBM)   2540 non-null   float64\n",
      " 4   (Adj Close, KO)    2540 non-null   float64\n",
      " 5   (Adj Close, MSFT)  2540 non-null   float64\n",
      " 6   (Close, AAPL)      2540 non-null   float64\n",
      " 7   (Close, BA)        2540 non-null   float64\n",
      " 8   (Close, DIS)       2540 non-null   float64\n",
      " 9   (Close, IBM)       2540 non-null   float64\n",
      " 10  (Close, KO)        2540 non-null   float64\n",
      " 11  (Close, MSFT)      2540 non-null   float64\n",
      " 12  (High, AAPL)       2540 non-null   float64\n",
      " 13  (High, BA)         2540 non-null   float64\n",
      " 14  (High, DIS)        2540 non-null   float64\n",
      " 15  (High, IBM)        2540 non-null   float64\n",
      " 16  (High, KO)         2540 non-null   float64\n",
      " 17  (High, MSFT)       2540 non-null   float64\n",
      " 18  (Low, AAPL)        2540 non-null   float64\n",
      " 19  (Low, BA)          2540 non-null   float64\n",
      " 20  (Low, DIS)         2540 non-null   float64\n",
      " 21  (Low, IBM)         2540 non-null   float64\n",
      " 22  (Low, KO)          2540 non-null   float64\n",
      " 23  (Low, MSFT)        2540 non-null   float64\n",
      " 24  (Open, AAPL)       2540 non-null   float64\n",
      " 25  (Open, BA)         2540 non-null   float64\n",
      " 26  (Open, DIS)        2540 non-null   float64\n",
      " 27  (Open, IBM)        2540 non-null   float64\n",
      " 28  (Open, KO)         2540 non-null   float64\n",
      " 29  (Open, MSFT)       2540 non-null   float64\n",
      " 30  (Volume, AAPL)     2540 non-null   int64  \n",
      " 31  (Volume, BA)       2540 non-null   int64  \n",
      " 32  (Volume, DIS)      2540 non-null   int64  \n",
      " 33  (Volume, IBM)      2540 non-null   int64  \n",
      " 34  (Volume, KO)       2540 non-null   int64  \n",
      " 35  (Volume, MSFT)     2540 non-null   int64  \n",
      "dtypes: float64(30), int64(6)\n",
      "memory usage: 734.2 KB\n"
     ]
    }
   ],
   "source": [
    "stocks.info()"
   ]
  },
  {
   "cell_type": "code",
   "execution_count": 9,
   "metadata": {},
   "outputs": [],
   "source": [
    "stocks.to_csv(\"stocks.csv\")"
   ]
  },
  {
   "cell_type": "code",
   "execution_count": 13,
   "metadata": {},
   "outputs": [],
   "source": [
    "stocks = pd.read_csv(\"stocks.csv\", header = [0, 1], index_col = [0], parse_dates = [0])"
   ]
  },
  {
   "cell_type": "code",
   "execution_count": 14,
   "metadata": {},
   "outputs": [
    {
     "data": {
      "text/html": [
       "<div>\n",
       "<style scoped>\n",
       "    .dataframe tbody tr th:only-of-type {\n",
       "        vertical-align: middle;\n",
       "    }\n",
       "\n",
       "    .dataframe tbody tr th {\n",
       "        vertical-align: top;\n",
       "    }\n",
       "\n",
       "    .dataframe thead tr th {\n",
       "        text-align: left;\n",
       "    }\n",
       "\n",
       "    .dataframe thead tr:last-of-type th {\n",
       "        text-align: right;\n",
       "    }\n",
       "</style>\n",
       "<table border=\"1\" class=\"dataframe\">\n",
       "  <thead>\n",
       "    <tr>\n",
       "      <th></th>\n",
       "      <th colspan=\"6\" halign=\"left\">Adj Close</th>\n",
       "      <th colspan=\"4\" halign=\"left\">Close</th>\n",
       "      <th>...</th>\n",
       "      <th colspan=\"4\" halign=\"left\">Open</th>\n",
       "      <th colspan=\"6\" halign=\"left\">Volume</th>\n",
       "    </tr>\n",
       "    <tr>\n",
       "      <th></th>\n",
       "      <th>AAPL</th>\n",
       "      <th>BA</th>\n",
       "      <th>DIS</th>\n",
       "      <th>IBM</th>\n",
       "      <th>KO</th>\n",
       "      <th>MSFT</th>\n",
       "      <th>AAPL</th>\n",
       "      <th>BA</th>\n",
       "      <th>DIS</th>\n",
       "      <th>IBM</th>\n",
       "      <th>...</th>\n",
       "      <th>DIS</th>\n",
       "      <th>IBM</th>\n",
       "      <th>KO</th>\n",
       "      <th>MSFT</th>\n",
       "      <th>AAPL</th>\n",
       "      <th>BA</th>\n",
       "      <th>DIS</th>\n",
       "      <th>IBM</th>\n",
       "      <th>KO</th>\n",
       "      <th>MSFT</th>\n",
       "    </tr>\n",
       "    <tr>\n",
       "      <th>Date</th>\n",
       "      <th></th>\n",
       "      <th></th>\n",
       "      <th></th>\n",
       "      <th></th>\n",
       "      <th></th>\n",
       "      <th></th>\n",
       "      <th></th>\n",
       "      <th></th>\n",
       "      <th></th>\n",
       "      <th></th>\n",
       "      <th></th>\n",
       "      <th></th>\n",
       "      <th></th>\n",
       "      <th></th>\n",
       "      <th></th>\n",
       "      <th></th>\n",
       "      <th></th>\n",
       "      <th></th>\n",
       "      <th></th>\n",
       "      <th></th>\n",
       "      <th></th>\n",
       "    </tr>\n",
       "  </thead>\n",
       "  <tbody>\n",
       "    <tr>\n",
       "      <th>2010-01-04</th>\n",
       "      <td>6.583586</td>\n",
       "      <td>43.777542</td>\n",
       "      <td>27.933924</td>\n",
       "      <td>92.528694</td>\n",
       "      <td>20.265518</td>\n",
       "      <td>24.049969</td>\n",
       "      <td>7.643214</td>\n",
       "      <td>56.180000</td>\n",
       "      <td>32.070000</td>\n",
       "      <td>132.449997</td>\n",
       "      <td>...</td>\n",
       "      <td>32.50</td>\n",
       "      <td>131.179993</td>\n",
       "      <td>28.580000</td>\n",
       "      <td>30.620001</td>\n",
       "      <td>493729600</td>\n",
       "      <td>6186700</td>\n",
       "      <td>13700400</td>\n",
       "      <td>6155300</td>\n",
       "      <td>13870400</td>\n",
       "      <td>38409100</td>\n",
       "    </tr>\n",
       "    <tr>\n",
       "      <th>2010-01-05</th>\n",
       "      <td>6.594968</td>\n",
       "      <td>45.211330</td>\n",
       "      <td>27.864237</td>\n",
       "      <td>91.410950</td>\n",
       "      <td>20.020369</td>\n",
       "      <td>24.057743</td>\n",
       "      <td>7.656429</td>\n",
       "      <td>58.020000</td>\n",
       "      <td>31.990000</td>\n",
       "      <td>130.850006</td>\n",
       "      <td>...</td>\n",
       "      <td>32.07</td>\n",
       "      <td>131.679993</td>\n",
       "      <td>28.424999</td>\n",
       "      <td>30.850000</td>\n",
       "      <td>601904800</td>\n",
       "      <td>8867800</td>\n",
       "      <td>10307700</td>\n",
       "      <td>6841400</td>\n",
       "      <td>23172400</td>\n",
       "      <td>49749600</td>\n",
       "    </tr>\n",
       "    <tr>\n",
       "      <th>2010-01-06</th>\n",
       "      <td>6.490066</td>\n",
       "      <td>46.582798</td>\n",
       "      <td>27.716166</td>\n",
       "      <td>90.817116</td>\n",
       "      <td>20.013266</td>\n",
       "      <td>23.910097</td>\n",
       "      <td>7.534643</td>\n",
       "      <td>59.779999</td>\n",
       "      <td>31.820000</td>\n",
       "      <td>130.000000</td>\n",
       "      <td>...</td>\n",
       "      <td>31.90</td>\n",
       "      <td>130.679993</td>\n",
       "      <td>28.174999</td>\n",
       "      <td>30.879999</td>\n",
       "      <td>552160000</td>\n",
       "      <td>8836500</td>\n",
       "      <td>10709500</td>\n",
       "      <td>5605300</td>\n",
       "      <td>19264600</td>\n",
       "      <td>58182400</td>\n",
       "    </tr>\n",
       "    <tr>\n",
       "      <th>2010-01-07</th>\n",
       "      <td>6.478067</td>\n",
       "      <td>48.468555</td>\n",
       "      <td>27.724878</td>\n",
       "      <td>90.502762</td>\n",
       "      <td>19.963526</td>\n",
       "      <td>23.661432</td>\n",
       "      <td>7.520714</td>\n",
       "      <td>62.200001</td>\n",
       "      <td>31.830000</td>\n",
       "      <td>129.550003</td>\n",
       "      <td>...</td>\n",
       "      <td>31.77</td>\n",
       "      <td>129.869995</td>\n",
       "      <td>28.165001</td>\n",
       "      <td>30.629999</td>\n",
       "      <td>477131200</td>\n",
       "      <td>14379100</td>\n",
       "      <td>8202100</td>\n",
       "      <td>5840600</td>\n",
       "      <td>13234600</td>\n",
       "      <td>50559700</td>\n",
       "    </tr>\n",
       "    <tr>\n",
       "      <th>2010-01-08</th>\n",
       "      <td>6.521136</td>\n",
       "      <td>48.001007</td>\n",
       "      <td>27.768419</td>\n",
       "      <td>91.410950</td>\n",
       "      <td>19.594034</td>\n",
       "      <td>23.824627</td>\n",
       "      <td>7.570714</td>\n",
       "      <td>61.599998</td>\n",
       "      <td>31.879999</td>\n",
       "      <td>130.850006</td>\n",
       "      <td>...</td>\n",
       "      <td>31.66</td>\n",
       "      <td>129.070007</td>\n",
       "      <td>27.730000</td>\n",
       "      <td>30.280001</td>\n",
       "      <td>447610800</td>\n",
       "      <td>7146600</td>\n",
       "      <td>7657500</td>\n",
       "      <td>4197200</td>\n",
       "      <td>28712400</td>\n",
       "      <td>51197400</td>\n",
       "    </tr>\n",
       "  </tbody>\n",
       "</table>\n",
       "<p>5 rows × 36 columns</p>\n",
       "</div>"
      ],
      "text/plain": [
       "           Adj Close                                                         \\\n",
       "                AAPL         BA        DIS        IBM         KO       MSFT   \n",
       "Date                                                                          \n",
       "2010-01-04  6.583586  43.777542  27.933924  92.528694  20.265518  24.049969   \n",
       "2010-01-05  6.594968  45.211330  27.864237  91.410950  20.020369  24.057743   \n",
       "2010-01-06  6.490066  46.582798  27.716166  90.817116  20.013266  23.910097   \n",
       "2010-01-07  6.478067  48.468555  27.724878  90.502762  19.963526  23.661432   \n",
       "2010-01-08  6.521136  48.001007  27.768419  91.410950  19.594034  23.824627   \n",
       "\n",
       "               Close                                    ...   Open  \\\n",
       "                AAPL         BA        DIS         IBM  ...    DIS   \n",
       "Date                                                    ...          \n",
       "2010-01-04  7.643214  56.180000  32.070000  132.449997  ...  32.50   \n",
       "2010-01-05  7.656429  58.020000  31.990000  130.850006  ...  32.07   \n",
       "2010-01-06  7.534643  59.779999  31.820000  130.000000  ...  31.90   \n",
       "2010-01-07  7.520714  62.200001  31.830000  129.550003  ...  31.77   \n",
       "2010-01-08  7.570714  61.599998  31.879999  130.850006  ...  31.66   \n",
       "\n",
       "                                                 Volume                      \\\n",
       "                   IBM         KO       MSFT       AAPL        BA       DIS   \n",
       "Date                                                                          \n",
       "2010-01-04  131.179993  28.580000  30.620001  493729600   6186700  13700400   \n",
       "2010-01-05  131.679993  28.424999  30.850000  601904800   8867800  10307700   \n",
       "2010-01-06  130.679993  28.174999  30.879999  552160000   8836500  10709500   \n",
       "2010-01-07  129.869995  28.165001  30.629999  477131200  14379100   8202100   \n",
       "2010-01-08  129.070007  27.730000  30.280001  447610800   7146600   7657500   \n",
       "\n",
       "                                         \n",
       "                IBM        KO      MSFT  \n",
       "Date                                     \n",
       "2010-01-04  6155300  13870400  38409100  \n",
       "2010-01-05  6841400  23172400  49749600  \n",
       "2010-01-06  5605300  19264600  58182400  \n",
       "2010-01-07  5840600  13234600  50559700  \n",
       "2010-01-08  4197200  28712400  51197400  \n",
       "\n",
       "[5 rows x 36 columns]"
      ]
     },
     "execution_count": 14,
     "metadata": {},
     "output_type": "execute_result"
    }
   ],
   "source": [
    "stocks.head()"
   ]
  },
  {
   "cell_type": "code",
   "execution_count": 15,
   "metadata": {},
   "outputs": [],
   "source": [
    "stocks.columns = stocks.columns.to_flat_index()"
   ]
  },
  {
   "cell_type": "code",
   "execution_count": 16,
   "metadata": {},
   "outputs": [
    {
     "data": {
      "text/plain": [
       "Index([('Adj Close', 'AAPL'),   ('Adj Close', 'BA'),  ('Adj Close', 'DIS'),\n",
       "        ('Adj Close', 'IBM'),   ('Adj Close', 'KO'), ('Adj Close', 'MSFT'),\n",
       "           ('Close', 'AAPL'),       ('Close', 'BA'),      ('Close', 'DIS'),\n",
       "            ('Close', 'IBM'),       ('Close', 'KO'),     ('Close', 'MSFT'),\n",
       "            ('High', 'AAPL'),        ('High', 'BA'),       ('High', 'DIS'),\n",
       "             ('High', 'IBM'),        ('High', 'KO'),      ('High', 'MSFT'),\n",
       "             ('Low', 'AAPL'),         ('Low', 'BA'),        ('Low', 'DIS'),\n",
       "              ('Low', 'IBM'),         ('Low', 'KO'),       ('Low', 'MSFT'),\n",
       "            ('Open', 'AAPL'),        ('Open', 'BA'),       ('Open', 'DIS'),\n",
       "             ('Open', 'IBM'),        ('Open', 'KO'),      ('Open', 'MSFT'),\n",
       "          ('Volume', 'AAPL'),      ('Volume', 'BA'),     ('Volume', 'DIS'),\n",
       "           ('Volume', 'IBM'),      ('Volume', 'KO'),    ('Volume', 'MSFT')],\n",
       "      dtype='object')"
      ]
     },
     "execution_count": 16,
     "metadata": {},
     "output_type": "execute_result"
    }
   ],
   "source": [
    "stocks.columns"
   ]
  },
  {
   "cell_type": "code",
   "execution_count": 17,
   "metadata": {},
   "outputs": [],
   "source": [
    "stocks.columns = pd.MultiIndex.from_tuples(stocks.columns)"
   ]
  },
  {
   "cell_type": "code",
   "execution_count": 18,
   "metadata": {},
   "outputs": [
    {
     "data": {
      "text/html": [
       "<div>\n",
       "<style scoped>\n",
       "    .dataframe tbody tr th:only-of-type {\n",
       "        vertical-align: middle;\n",
       "    }\n",
       "\n",
       "    .dataframe tbody tr th {\n",
       "        vertical-align: top;\n",
       "    }\n",
       "\n",
       "    .dataframe thead tr th {\n",
       "        text-align: left;\n",
       "    }\n",
       "\n",
       "    .dataframe thead tr:last-of-type th {\n",
       "        text-align: right;\n",
       "    }\n",
       "</style>\n",
       "<table border=\"1\" class=\"dataframe\">\n",
       "  <thead>\n",
       "    <tr>\n",
       "      <th></th>\n",
       "      <th colspan=\"6\" halign=\"left\">Adj Close</th>\n",
       "      <th colspan=\"4\" halign=\"left\">Close</th>\n",
       "      <th>...</th>\n",
       "      <th colspan=\"4\" halign=\"left\">Open</th>\n",
       "      <th colspan=\"6\" halign=\"left\">Volume</th>\n",
       "    </tr>\n",
       "    <tr>\n",
       "      <th></th>\n",
       "      <th>AAPL</th>\n",
       "      <th>BA</th>\n",
       "      <th>DIS</th>\n",
       "      <th>IBM</th>\n",
       "      <th>KO</th>\n",
       "      <th>MSFT</th>\n",
       "      <th>AAPL</th>\n",
       "      <th>BA</th>\n",
       "      <th>DIS</th>\n",
       "      <th>IBM</th>\n",
       "      <th>...</th>\n",
       "      <th>DIS</th>\n",
       "      <th>IBM</th>\n",
       "      <th>KO</th>\n",
       "      <th>MSFT</th>\n",
       "      <th>AAPL</th>\n",
       "      <th>BA</th>\n",
       "      <th>DIS</th>\n",
       "      <th>IBM</th>\n",
       "      <th>KO</th>\n",
       "      <th>MSFT</th>\n",
       "    </tr>\n",
       "    <tr>\n",
       "      <th>Date</th>\n",
       "      <th></th>\n",
       "      <th></th>\n",
       "      <th></th>\n",
       "      <th></th>\n",
       "      <th></th>\n",
       "      <th></th>\n",
       "      <th></th>\n",
       "      <th></th>\n",
       "      <th></th>\n",
       "      <th></th>\n",
       "      <th></th>\n",
       "      <th></th>\n",
       "      <th></th>\n",
       "      <th></th>\n",
       "      <th></th>\n",
       "      <th></th>\n",
       "      <th></th>\n",
       "      <th></th>\n",
       "      <th></th>\n",
       "      <th></th>\n",
       "      <th></th>\n",
       "    </tr>\n",
       "  </thead>\n",
       "  <tbody>\n",
       "    <tr>\n",
       "      <th>2010-01-04</th>\n",
       "      <td>6.583586</td>\n",
       "      <td>43.777542</td>\n",
       "      <td>27.933924</td>\n",
       "      <td>92.528694</td>\n",
       "      <td>20.265518</td>\n",
       "      <td>24.049969</td>\n",
       "      <td>7.643214</td>\n",
       "      <td>56.180000</td>\n",
       "      <td>32.070000</td>\n",
       "      <td>132.449997</td>\n",
       "      <td>...</td>\n",
       "      <td>32.50</td>\n",
       "      <td>131.179993</td>\n",
       "      <td>28.580000</td>\n",
       "      <td>30.620001</td>\n",
       "      <td>493729600</td>\n",
       "      <td>6186700</td>\n",
       "      <td>13700400</td>\n",
       "      <td>6155300</td>\n",
       "      <td>13870400</td>\n",
       "      <td>38409100</td>\n",
       "    </tr>\n",
       "    <tr>\n",
       "      <th>2010-01-05</th>\n",
       "      <td>6.594968</td>\n",
       "      <td>45.211330</td>\n",
       "      <td>27.864237</td>\n",
       "      <td>91.410950</td>\n",
       "      <td>20.020369</td>\n",
       "      <td>24.057743</td>\n",
       "      <td>7.656429</td>\n",
       "      <td>58.020000</td>\n",
       "      <td>31.990000</td>\n",
       "      <td>130.850006</td>\n",
       "      <td>...</td>\n",
       "      <td>32.07</td>\n",
       "      <td>131.679993</td>\n",
       "      <td>28.424999</td>\n",
       "      <td>30.850000</td>\n",
       "      <td>601904800</td>\n",
       "      <td>8867800</td>\n",
       "      <td>10307700</td>\n",
       "      <td>6841400</td>\n",
       "      <td>23172400</td>\n",
       "      <td>49749600</td>\n",
       "    </tr>\n",
       "    <tr>\n",
       "      <th>2010-01-06</th>\n",
       "      <td>6.490066</td>\n",
       "      <td>46.582798</td>\n",
       "      <td>27.716166</td>\n",
       "      <td>90.817116</td>\n",
       "      <td>20.013266</td>\n",
       "      <td>23.910097</td>\n",
       "      <td>7.534643</td>\n",
       "      <td>59.779999</td>\n",
       "      <td>31.820000</td>\n",
       "      <td>130.000000</td>\n",
       "      <td>...</td>\n",
       "      <td>31.90</td>\n",
       "      <td>130.679993</td>\n",
       "      <td>28.174999</td>\n",
       "      <td>30.879999</td>\n",
       "      <td>552160000</td>\n",
       "      <td>8836500</td>\n",
       "      <td>10709500</td>\n",
       "      <td>5605300</td>\n",
       "      <td>19264600</td>\n",
       "      <td>58182400</td>\n",
       "    </tr>\n",
       "    <tr>\n",
       "      <th>2010-01-07</th>\n",
       "      <td>6.478067</td>\n",
       "      <td>48.468555</td>\n",
       "      <td>27.724878</td>\n",
       "      <td>90.502762</td>\n",
       "      <td>19.963526</td>\n",
       "      <td>23.661432</td>\n",
       "      <td>7.520714</td>\n",
       "      <td>62.200001</td>\n",
       "      <td>31.830000</td>\n",
       "      <td>129.550003</td>\n",
       "      <td>...</td>\n",
       "      <td>31.77</td>\n",
       "      <td>129.869995</td>\n",
       "      <td>28.165001</td>\n",
       "      <td>30.629999</td>\n",
       "      <td>477131200</td>\n",
       "      <td>14379100</td>\n",
       "      <td>8202100</td>\n",
       "      <td>5840600</td>\n",
       "      <td>13234600</td>\n",
       "      <td>50559700</td>\n",
       "    </tr>\n",
       "    <tr>\n",
       "      <th>2010-01-08</th>\n",
       "      <td>6.521136</td>\n",
       "      <td>48.001007</td>\n",
       "      <td>27.768419</td>\n",
       "      <td>91.410950</td>\n",
       "      <td>19.594034</td>\n",
       "      <td>23.824627</td>\n",
       "      <td>7.570714</td>\n",
       "      <td>61.599998</td>\n",
       "      <td>31.879999</td>\n",
       "      <td>130.850006</td>\n",
       "      <td>...</td>\n",
       "      <td>31.66</td>\n",
       "      <td>129.070007</td>\n",
       "      <td>27.730000</td>\n",
       "      <td>30.280001</td>\n",
       "      <td>447610800</td>\n",
       "      <td>7146600</td>\n",
       "      <td>7657500</td>\n",
       "      <td>4197200</td>\n",
       "      <td>28712400</td>\n",
       "      <td>51197400</td>\n",
       "    </tr>\n",
       "  </tbody>\n",
       "</table>\n",
       "<p>5 rows × 36 columns</p>\n",
       "</div>"
      ],
      "text/plain": [
       "           Adj Close                                                         \\\n",
       "                AAPL         BA        DIS        IBM         KO       MSFT   \n",
       "Date                                                                          \n",
       "2010-01-04  6.583586  43.777542  27.933924  92.528694  20.265518  24.049969   \n",
       "2010-01-05  6.594968  45.211330  27.864237  91.410950  20.020369  24.057743   \n",
       "2010-01-06  6.490066  46.582798  27.716166  90.817116  20.013266  23.910097   \n",
       "2010-01-07  6.478067  48.468555  27.724878  90.502762  19.963526  23.661432   \n",
       "2010-01-08  6.521136  48.001007  27.768419  91.410950  19.594034  23.824627   \n",
       "\n",
       "               Close                                    ...   Open  \\\n",
       "                AAPL         BA        DIS         IBM  ...    DIS   \n",
       "Date                                                    ...          \n",
       "2010-01-04  7.643214  56.180000  32.070000  132.449997  ...  32.50   \n",
       "2010-01-05  7.656429  58.020000  31.990000  130.850006  ...  32.07   \n",
       "2010-01-06  7.534643  59.779999  31.820000  130.000000  ...  31.90   \n",
       "2010-01-07  7.520714  62.200001  31.830000  129.550003  ...  31.77   \n",
       "2010-01-08  7.570714  61.599998  31.879999  130.850006  ...  31.66   \n",
       "\n",
       "                                                 Volume                      \\\n",
       "                   IBM         KO       MSFT       AAPL        BA       DIS   \n",
       "Date                                                                          \n",
       "2010-01-04  131.179993  28.580000  30.620001  493729600   6186700  13700400   \n",
       "2010-01-05  131.679993  28.424999  30.850000  601904800   8867800  10307700   \n",
       "2010-01-06  130.679993  28.174999  30.879999  552160000   8836500  10709500   \n",
       "2010-01-07  129.869995  28.165001  30.629999  477131200  14379100   8202100   \n",
       "2010-01-08  129.070007  27.730000  30.280001  447610800   7146600   7657500   \n",
       "\n",
       "                                         \n",
       "                IBM        KO      MSFT  \n",
       "Date                                     \n",
       "2010-01-04  6155300  13870400  38409100  \n",
       "2010-01-05  6841400  23172400  49749600  \n",
       "2010-01-06  5605300  19264600  58182400  \n",
       "2010-01-07  5840600  13234600  50559700  \n",
       "2010-01-08  4197200  28712400  51197400  \n",
       "\n",
       "[5 rows x 36 columns]"
      ]
     },
     "execution_count": 18,
     "metadata": {},
     "output_type": "execute_result"
    }
   ],
   "source": [
    "stocks.head()"
   ]
  },
  {
   "cell_type": "code",
   "execution_count": 19,
   "metadata": {},
   "outputs": [
    {
     "data": {
      "text/html": [
       "<div>\n",
       "<style scoped>\n",
       "    .dataframe tbody tr th:only-of-type {\n",
       "        vertical-align: middle;\n",
       "    }\n",
       "\n",
       "    .dataframe tbody tr th {\n",
       "        vertical-align: top;\n",
       "    }\n",
       "\n",
       "    .dataframe thead tr th {\n",
       "        text-align: left;\n",
       "    }\n",
       "\n",
       "    .dataframe thead tr:last-of-type th {\n",
       "        text-align: right;\n",
       "    }\n",
       "</style>\n",
       "<table border=\"1\" class=\"dataframe\">\n",
       "  <thead>\n",
       "    <tr>\n",
       "      <th></th>\n",
       "      <th colspan=\"6\" halign=\"left\">AAPL</th>\n",
       "      <th colspan=\"4\" halign=\"left\">BA</th>\n",
       "      <th>...</th>\n",
       "      <th colspan=\"4\" halign=\"left\">KO</th>\n",
       "      <th colspan=\"6\" halign=\"left\">MSFT</th>\n",
       "    </tr>\n",
       "    <tr>\n",
       "      <th></th>\n",
       "      <th>Adj Close</th>\n",
       "      <th>Close</th>\n",
       "      <th>High</th>\n",
       "      <th>Low</th>\n",
       "      <th>Open</th>\n",
       "      <th>Volume</th>\n",
       "      <th>Adj Close</th>\n",
       "      <th>Close</th>\n",
       "      <th>High</th>\n",
       "      <th>Low</th>\n",
       "      <th>...</th>\n",
       "      <th>High</th>\n",
       "      <th>Low</th>\n",
       "      <th>Open</th>\n",
       "      <th>Volume</th>\n",
       "      <th>Adj Close</th>\n",
       "      <th>Close</th>\n",
       "      <th>High</th>\n",
       "      <th>Low</th>\n",
       "      <th>Open</th>\n",
       "      <th>Volume</th>\n",
       "    </tr>\n",
       "    <tr>\n",
       "      <th>Date</th>\n",
       "      <th></th>\n",
       "      <th></th>\n",
       "      <th></th>\n",
       "      <th></th>\n",
       "      <th></th>\n",
       "      <th></th>\n",
       "      <th></th>\n",
       "      <th></th>\n",
       "      <th></th>\n",
       "      <th></th>\n",
       "      <th></th>\n",
       "      <th></th>\n",
       "      <th></th>\n",
       "      <th></th>\n",
       "      <th></th>\n",
       "      <th></th>\n",
       "      <th></th>\n",
       "      <th></th>\n",
       "      <th></th>\n",
       "      <th></th>\n",
       "      <th></th>\n",
       "    </tr>\n",
       "  </thead>\n",
       "  <tbody>\n",
       "    <tr>\n",
       "      <th>2010-01-04</th>\n",
       "      <td>6.583586</td>\n",
       "      <td>7.643214</td>\n",
       "      <td>7.660714</td>\n",
       "      <td>7.585000</td>\n",
       "      <td>7.622500</td>\n",
       "      <td>493729600</td>\n",
       "      <td>43.777542</td>\n",
       "      <td>56.180000</td>\n",
       "      <td>56.389999</td>\n",
       "      <td>54.799999</td>\n",
       "      <td>...</td>\n",
       "      <td>28.610001</td>\n",
       "      <td>28.450001</td>\n",
       "      <td>28.580000</td>\n",
       "      <td>13870400</td>\n",
       "      <td>24.049969</td>\n",
       "      <td>30.950001</td>\n",
       "      <td>31.100000</td>\n",
       "      <td>30.590000</td>\n",
       "      <td>30.620001</td>\n",
       "      <td>38409100</td>\n",
       "    </tr>\n",
       "    <tr>\n",
       "      <th>2010-01-05</th>\n",
       "      <td>6.594968</td>\n",
       "      <td>7.656429</td>\n",
       "      <td>7.699643</td>\n",
       "      <td>7.616071</td>\n",
       "      <td>7.664286</td>\n",
       "      <td>601904800</td>\n",
       "      <td>45.211330</td>\n",
       "      <td>58.020000</td>\n",
       "      <td>58.279999</td>\n",
       "      <td>56.000000</td>\n",
       "      <td>...</td>\n",
       "      <td>28.495001</td>\n",
       "      <td>28.070000</td>\n",
       "      <td>28.424999</td>\n",
       "      <td>23172400</td>\n",
       "      <td>24.057743</td>\n",
       "      <td>30.959999</td>\n",
       "      <td>31.100000</td>\n",
       "      <td>30.639999</td>\n",
       "      <td>30.850000</td>\n",
       "      <td>49749600</td>\n",
       "    </tr>\n",
       "    <tr>\n",
       "      <th>2010-01-06</th>\n",
       "      <td>6.490066</td>\n",
       "      <td>7.534643</td>\n",
       "      <td>7.686786</td>\n",
       "      <td>7.526786</td>\n",
       "      <td>7.656429</td>\n",
       "      <td>552160000</td>\n",
       "      <td>46.582798</td>\n",
       "      <td>59.779999</td>\n",
       "      <td>59.990002</td>\n",
       "      <td>57.880001</td>\n",
       "      <td>...</td>\n",
       "      <td>28.219999</td>\n",
       "      <td>27.990000</td>\n",
       "      <td>28.174999</td>\n",
       "      <td>19264600</td>\n",
       "      <td>23.910097</td>\n",
       "      <td>30.770000</td>\n",
       "      <td>31.080000</td>\n",
       "      <td>30.520000</td>\n",
       "      <td>30.879999</td>\n",
       "      <td>58182400</td>\n",
       "    </tr>\n",
       "    <tr>\n",
       "      <th>2010-01-07</th>\n",
       "      <td>6.478067</td>\n",
       "      <td>7.520714</td>\n",
       "      <td>7.571429</td>\n",
       "      <td>7.466071</td>\n",
       "      <td>7.562500</td>\n",
       "      <td>477131200</td>\n",
       "      <td>48.468555</td>\n",
       "      <td>62.200001</td>\n",
       "      <td>62.310001</td>\n",
       "      <td>59.020000</td>\n",
       "      <td>...</td>\n",
       "      <td>28.184999</td>\n",
       "      <td>27.875000</td>\n",
       "      <td>28.165001</td>\n",
       "      <td>13234600</td>\n",
       "      <td>23.661432</td>\n",
       "      <td>30.450001</td>\n",
       "      <td>30.700001</td>\n",
       "      <td>30.190001</td>\n",
       "      <td>30.629999</td>\n",
       "      <td>50559700</td>\n",
       "    </tr>\n",
       "    <tr>\n",
       "      <th>2010-01-08</th>\n",
       "      <td>6.521136</td>\n",
       "      <td>7.570714</td>\n",
       "      <td>7.571429</td>\n",
       "      <td>7.466429</td>\n",
       "      <td>7.510714</td>\n",
       "      <td>447610800</td>\n",
       "      <td>48.001007</td>\n",
       "      <td>61.599998</td>\n",
       "      <td>61.779999</td>\n",
       "      <td>60.860001</td>\n",
       "      <td>...</td>\n",
       "      <td>27.820000</td>\n",
       "      <td>27.375000</td>\n",
       "      <td>27.730000</td>\n",
       "      <td>28712400</td>\n",
       "      <td>23.824627</td>\n",
       "      <td>30.660000</td>\n",
       "      <td>30.879999</td>\n",
       "      <td>30.240000</td>\n",
       "      <td>30.280001</td>\n",
       "      <td>51197400</td>\n",
       "    </tr>\n",
       "    <tr>\n",
       "      <th>...</th>\n",
       "      <td>...</td>\n",
       "      <td>...</td>\n",
       "      <td>...</td>\n",
       "      <td>...</td>\n",
       "      <td>...</td>\n",
       "      <td>...</td>\n",
       "      <td>...</td>\n",
       "      <td>...</td>\n",
       "      <td>...</td>\n",
       "      <td>...</td>\n",
       "      <td>...</td>\n",
       "      <td>...</td>\n",
       "      <td>...</td>\n",
       "      <td>...</td>\n",
       "      <td>...</td>\n",
       "      <td>...</td>\n",
       "      <td>...</td>\n",
       "      <td>...</td>\n",
       "      <td>...</td>\n",
       "      <td>...</td>\n",
       "      <td>...</td>\n",
       "    </tr>\n",
       "    <tr>\n",
       "      <th>2020-01-30</th>\n",
       "      <td>80.154472</td>\n",
       "      <td>80.967499</td>\n",
       "      <td>81.022499</td>\n",
       "      <td>79.687500</td>\n",
       "      <td>80.135002</td>\n",
       "      <td>126743200</td>\n",
       "      <td>321.387817</td>\n",
       "      <td>323.299988</td>\n",
       "      <td>325.350006</td>\n",
       "      <td>317.640015</td>\n",
       "      <td>...</td>\n",
       "      <td>58.980000</td>\n",
       "      <td>57.759998</td>\n",
       "      <td>57.930000</td>\n",
       "      <td>20225600</td>\n",
       "      <td>170.575958</td>\n",
       "      <td>172.779999</td>\n",
       "      <td>174.050003</td>\n",
       "      <td>170.789993</td>\n",
       "      <td>174.050003</td>\n",
       "      <td>51597500</td>\n",
       "    </tr>\n",
       "    <tr>\n",
       "      <th>2020-01-31</th>\n",
       "      <td>76.600517</td>\n",
       "      <td>77.377502</td>\n",
       "      <td>80.669998</td>\n",
       "      <td>77.072502</td>\n",
       "      <td>80.232498</td>\n",
       "      <td>199588400</td>\n",
       "      <td>316.387573</td>\n",
       "      <td>318.269989</td>\n",
       "      <td>321.929993</td>\n",
       "      <td>316.989990</td>\n",
       "      <td>...</td>\n",
       "      <td>59.080002</td>\n",
       "      <td>58.150002</td>\n",
       "      <td>58.970001</td>\n",
       "      <td>17685200</td>\n",
       "      <td>168.058472</td>\n",
       "      <td>170.229996</td>\n",
       "      <td>172.399994</td>\n",
       "      <td>169.580002</td>\n",
       "      <td>172.210007</td>\n",
       "      <td>36142700</td>\n",
       "    </tr>\n",
       "    <tr>\n",
       "      <th>2020-02-03</th>\n",
       "      <td>76.390160</td>\n",
       "      <td>77.165001</td>\n",
       "      <td>78.372498</td>\n",
       "      <td>75.555000</td>\n",
       "      <td>76.074997</td>\n",
       "      <td>173985600</td>\n",
       "      <td>314.131012</td>\n",
       "      <td>316.000000</td>\n",
       "      <td>320.739990</td>\n",
       "      <td>314.880005</td>\n",
       "      <td>...</td>\n",
       "      <td>58.970001</td>\n",
       "      <td>58.520000</td>\n",
       "      <td>58.750000</td>\n",
       "      <td>12336800</td>\n",
       "      <td>172.155548</td>\n",
       "      <td>174.380005</td>\n",
       "      <td>174.500000</td>\n",
       "      <td>170.399994</td>\n",
       "      <td>170.429993</td>\n",
       "      <td>30149100</td>\n",
       "    </tr>\n",
       "    <tr>\n",
       "      <th>2020-02-04</th>\n",
       "      <td>78.912079</td>\n",
       "      <td>79.712502</td>\n",
       "      <td>79.910004</td>\n",
       "      <td>78.407501</td>\n",
       "      <td>78.827499</td>\n",
       "      <td>136616400</td>\n",
       "      <td>316.059540</td>\n",
       "      <td>317.940002</td>\n",
       "      <td>319.480011</td>\n",
       "      <td>315.029999</td>\n",
       "      <td>...</td>\n",
       "      <td>59.450001</td>\n",
       "      <td>58.619999</td>\n",
       "      <td>58.750000</td>\n",
       "      <td>15417900</td>\n",
       "      <td>177.822327</td>\n",
       "      <td>180.119995</td>\n",
       "      <td>180.639999</td>\n",
       "      <td>176.309998</td>\n",
       "      <td>177.139999</td>\n",
       "      <td>36433300</td>\n",
       "    </tr>\n",
       "    <tr>\n",
       "      <th>2020-02-05</th>\n",
       "      <td>79.555550</td>\n",
       "      <td>80.362503</td>\n",
       "      <td>81.190002</td>\n",
       "      <td>79.737503</td>\n",
       "      <td>80.879997</td>\n",
       "      <td>118826800</td>\n",
       "      <td>327.600861</td>\n",
       "      <td>329.549988</td>\n",
       "      <td>329.679993</td>\n",
       "      <td>319.230011</td>\n",
       "      <td>...</td>\n",
       "      <td>59.080002</td>\n",
       "      <td>58.540001</td>\n",
       "      <td>58.900002</td>\n",
       "      <td>11414900</td>\n",
       "      <td>177.605148</td>\n",
       "      <td>179.899994</td>\n",
       "      <td>184.199997</td>\n",
       "      <td>178.410004</td>\n",
       "      <td>184.029999</td>\n",
       "      <td>39186300</td>\n",
       "    </tr>\n",
       "  </tbody>\n",
       "</table>\n",
       "<p>2540 rows × 36 columns</p>\n",
       "</div>"
      ],
      "text/plain": [
       "                 AAPL                                                         \\\n",
       "            Adj Close      Close       High        Low       Open     Volume   \n",
       "Date                                                                           \n",
       "2010-01-04   6.583586   7.643214   7.660714   7.585000   7.622500  493729600   \n",
       "2010-01-05   6.594968   7.656429   7.699643   7.616071   7.664286  601904800   \n",
       "2010-01-06   6.490066   7.534643   7.686786   7.526786   7.656429  552160000   \n",
       "2010-01-07   6.478067   7.520714   7.571429   7.466071   7.562500  477131200   \n",
       "2010-01-08   6.521136   7.570714   7.571429   7.466429   7.510714  447610800   \n",
       "...               ...        ...        ...        ...        ...        ...   \n",
       "2020-01-30  80.154472  80.967499  81.022499  79.687500  80.135002  126743200   \n",
       "2020-01-31  76.600517  77.377502  80.669998  77.072502  80.232498  199588400   \n",
       "2020-02-03  76.390160  77.165001  78.372498  75.555000  76.074997  173985600   \n",
       "2020-02-04  78.912079  79.712502  79.910004  78.407501  78.827499  136616400   \n",
       "2020-02-05  79.555550  80.362503  81.190002  79.737503  80.879997  118826800   \n",
       "\n",
       "                    BA                                      ...         KO  \\\n",
       "             Adj Close       Close        High         Low  ...       High   \n",
       "Date                                                        ...              \n",
       "2010-01-04   43.777542   56.180000   56.389999   54.799999  ...  28.610001   \n",
       "2010-01-05   45.211330   58.020000   58.279999   56.000000  ...  28.495001   \n",
       "2010-01-06   46.582798   59.779999   59.990002   57.880001  ...  28.219999   \n",
       "2010-01-07   48.468555   62.200001   62.310001   59.020000  ...  28.184999   \n",
       "2010-01-08   48.001007   61.599998   61.779999   60.860001  ...  27.820000   \n",
       "...                ...         ...         ...         ...  ...        ...   \n",
       "2020-01-30  321.387817  323.299988  325.350006  317.640015  ...  58.980000   \n",
       "2020-01-31  316.387573  318.269989  321.929993  316.989990  ...  59.080002   \n",
       "2020-02-03  314.131012  316.000000  320.739990  314.880005  ...  58.970001   \n",
       "2020-02-04  316.059540  317.940002  319.480011  315.029999  ...  59.450001   \n",
       "2020-02-05  327.600861  329.549988  329.679993  319.230011  ...  59.080002   \n",
       "\n",
       "                                                  MSFT              \\\n",
       "                  Low       Open    Volume   Adj Close       Close   \n",
       "Date                                                                 \n",
       "2010-01-04  28.450001  28.580000  13870400   24.049969   30.950001   \n",
       "2010-01-05  28.070000  28.424999  23172400   24.057743   30.959999   \n",
       "2010-01-06  27.990000  28.174999  19264600   23.910097   30.770000   \n",
       "2010-01-07  27.875000  28.165001  13234600   23.661432   30.450001   \n",
       "2010-01-08  27.375000  27.730000  28712400   23.824627   30.660000   \n",
       "...               ...        ...       ...         ...         ...   \n",
       "2020-01-30  57.759998  57.930000  20225600  170.575958  172.779999   \n",
       "2020-01-31  58.150002  58.970001  17685200  168.058472  170.229996   \n",
       "2020-02-03  58.520000  58.750000  12336800  172.155548  174.380005   \n",
       "2020-02-04  58.619999  58.750000  15417900  177.822327  180.119995   \n",
       "2020-02-05  58.540001  58.900002  11414900  177.605148  179.899994   \n",
       "\n",
       "                                                          \n",
       "                  High         Low        Open    Volume  \n",
       "Date                                                      \n",
       "2010-01-04   31.100000   30.590000   30.620001  38409100  \n",
       "2010-01-05   31.100000   30.639999   30.850000  49749600  \n",
       "2010-01-06   31.080000   30.520000   30.879999  58182400  \n",
       "2010-01-07   30.700001   30.190001   30.629999  50559700  \n",
       "2010-01-08   30.879999   30.240000   30.280001  51197400  \n",
       "...                ...         ...         ...       ...  \n",
       "2020-01-30  174.050003  170.789993  174.050003  51597500  \n",
       "2020-01-31  172.399994  169.580002  172.210007  36142700  \n",
       "2020-02-03  174.500000  170.399994  170.429993  30149100  \n",
       "2020-02-04  180.639999  176.309998  177.139999  36433300  \n",
       "2020-02-05  184.199997  178.410004  184.029999  39186300  \n",
       "\n",
       "[2540 rows x 36 columns]"
      ]
     },
     "execution_count": 19,
     "metadata": {},
     "output_type": "execute_result"
    }
   ],
   "source": [
    "stocks.swaplevel(axis = 1).sort_index(axis = 1)"
   ]
  },
  {
   "cell_type": "code",
   "execution_count": null,
   "metadata": {},
   "outputs": [],
   "source": []
  },
  {
   "cell_type": "markdown",
   "metadata": {},
   "source": [
    "## Initial Inspection and Visualization"
   ]
  },
  {
   "cell_type": "code",
   "execution_count": 20,
   "metadata": {},
   "outputs": [],
   "source": [
    "import pandas as pd"
   ]
  },
  {
   "cell_type": "code",
   "execution_count": 21,
   "metadata": {},
   "outputs": [],
   "source": [
    "stocks = pd.read_csv(\"stocks.csv\", header = [0,1], index_col= [0], parse_dates= [0])"
   ]
  },
  {
   "cell_type": "code",
   "execution_count": 22,
   "metadata": {},
   "outputs": [
    {
     "data": {
      "text/html": [
       "<div>\n",
       "<style scoped>\n",
       "    .dataframe tbody tr th:only-of-type {\n",
       "        vertical-align: middle;\n",
       "    }\n",
       "\n",
       "    .dataframe tbody tr th {\n",
       "        vertical-align: top;\n",
       "    }\n",
       "\n",
       "    .dataframe thead tr th {\n",
       "        text-align: left;\n",
       "    }\n",
       "\n",
       "    .dataframe thead tr:last-of-type th {\n",
       "        text-align: right;\n",
       "    }\n",
       "</style>\n",
       "<table border=\"1\" class=\"dataframe\">\n",
       "  <thead>\n",
       "    <tr>\n",
       "      <th></th>\n",
       "      <th colspan=\"6\" halign=\"left\">Adj Close</th>\n",
       "      <th colspan=\"4\" halign=\"left\">Close</th>\n",
       "      <th>...</th>\n",
       "      <th colspan=\"4\" halign=\"left\">Open</th>\n",
       "      <th colspan=\"6\" halign=\"left\">Volume</th>\n",
       "    </tr>\n",
       "    <tr>\n",
       "      <th></th>\n",
       "      <th>AAPL</th>\n",
       "      <th>BA</th>\n",
       "      <th>DIS</th>\n",
       "      <th>IBM</th>\n",
       "      <th>KO</th>\n",
       "      <th>MSFT</th>\n",
       "      <th>AAPL</th>\n",
       "      <th>BA</th>\n",
       "      <th>DIS</th>\n",
       "      <th>IBM</th>\n",
       "      <th>...</th>\n",
       "      <th>DIS</th>\n",
       "      <th>IBM</th>\n",
       "      <th>KO</th>\n",
       "      <th>MSFT</th>\n",
       "      <th>AAPL</th>\n",
       "      <th>BA</th>\n",
       "      <th>DIS</th>\n",
       "      <th>IBM</th>\n",
       "      <th>KO</th>\n",
       "      <th>MSFT</th>\n",
       "    </tr>\n",
       "    <tr>\n",
       "      <th>Date</th>\n",
       "      <th></th>\n",
       "      <th></th>\n",
       "      <th></th>\n",
       "      <th></th>\n",
       "      <th></th>\n",
       "      <th></th>\n",
       "      <th></th>\n",
       "      <th></th>\n",
       "      <th></th>\n",
       "      <th></th>\n",
       "      <th></th>\n",
       "      <th></th>\n",
       "      <th></th>\n",
       "      <th></th>\n",
       "      <th></th>\n",
       "      <th></th>\n",
       "      <th></th>\n",
       "      <th></th>\n",
       "      <th></th>\n",
       "      <th></th>\n",
       "      <th></th>\n",
       "    </tr>\n",
       "  </thead>\n",
       "  <tbody>\n",
       "    <tr>\n",
       "      <th>2010-01-04</th>\n",
       "      <td>6.583586</td>\n",
       "      <td>43.777542</td>\n",
       "      <td>27.933924</td>\n",
       "      <td>92.528694</td>\n",
       "      <td>20.265518</td>\n",
       "      <td>24.049969</td>\n",
       "      <td>7.643214</td>\n",
       "      <td>56.180000</td>\n",
       "      <td>32.070000</td>\n",
       "      <td>132.449997</td>\n",
       "      <td>...</td>\n",
       "      <td>32.50</td>\n",
       "      <td>131.179993</td>\n",
       "      <td>28.580000</td>\n",
       "      <td>30.620001</td>\n",
       "      <td>493729600</td>\n",
       "      <td>6186700</td>\n",
       "      <td>13700400</td>\n",
       "      <td>6155300</td>\n",
       "      <td>13870400</td>\n",
       "      <td>38409100</td>\n",
       "    </tr>\n",
       "    <tr>\n",
       "      <th>2010-01-05</th>\n",
       "      <td>6.594968</td>\n",
       "      <td>45.211330</td>\n",
       "      <td>27.864237</td>\n",
       "      <td>91.410950</td>\n",
       "      <td>20.020369</td>\n",
       "      <td>24.057743</td>\n",
       "      <td>7.656429</td>\n",
       "      <td>58.020000</td>\n",
       "      <td>31.990000</td>\n",
       "      <td>130.850006</td>\n",
       "      <td>...</td>\n",
       "      <td>32.07</td>\n",
       "      <td>131.679993</td>\n",
       "      <td>28.424999</td>\n",
       "      <td>30.850000</td>\n",
       "      <td>601904800</td>\n",
       "      <td>8867800</td>\n",
       "      <td>10307700</td>\n",
       "      <td>6841400</td>\n",
       "      <td>23172400</td>\n",
       "      <td>49749600</td>\n",
       "    </tr>\n",
       "    <tr>\n",
       "      <th>2010-01-06</th>\n",
       "      <td>6.490066</td>\n",
       "      <td>46.582798</td>\n",
       "      <td>27.716166</td>\n",
       "      <td>90.817116</td>\n",
       "      <td>20.013266</td>\n",
       "      <td>23.910097</td>\n",
       "      <td>7.534643</td>\n",
       "      <td>59.779999</td>\n",
       "      <td>31.820000</td>\n",
       "      <td>130.000000</td>\n",
       "      <td>...</td>\n",
       "      <td>31.90</td>\n",
       "      <td>130.679993</td>\n",
       "      <td>28.174999</td>\n",
       "      <td>30.879999</td>\n",
       "      <td>552160000</td>\n",
       "      <td>8836500</td>\n",
       "      <td>10709500</td>\n",
       "      <td>5605300</td>\n",
       "      <td>19264600</td>\n",
       "      <td>58182400</td>\n",
       "    </tr>\n",
       "    <tr>\n",
       "      <th>2010-01-07</th>\n",
       "      <td>6.478067</td>\n",
       "      <td>48.468555</td>\n",
       "      <td>27.724878</td>\n",
       "      <td>90.502762</td>\n",
       "      <td>19.963526</td>\n",
       "      <td>23.661432</td>\n",
       "      <td>7.520714</td>\n",
       "      <td>62.200001</td>\n",
       "      <td>31.830000</td>\n",
       "      <td>129.550003</td>\n",
       "      <td>...</td>\n",
       "      <td>31.77</td>\n",
       "      <td>129.869995</td>\n",
       "      <td>28.165001</td>\n",
       "      <td>30.629999</td>\n",
       "      <td>477131200</td>\n",
       "      <td>14379100</td>\n",
       "      <td>8202100</td>\n",
       "      <td>5840600</td>\n",
       "      <td>13234600</td>\n",
       "      <td>50559700</td>\n",
       "    </tr>\n",
       "    <tr>\n",
       "      <th>2010-01-08</th>\n",
       "      <td>6.521136</td>\n",
       "      <td>48.001007</td>\n",
       "      <td>27.768419</td>\n",
       "      <td>91.410950</td>\n",
       "      <td>19.594034</td>\n",
       "      <td>23.824627</td>\n",
       "      <td>7.570714</td>\n",
       "      <td>61.599998</td>\n",
       "      <td>31.879999</td>\n",
       "      <td>130.850006</td>\n",
       "      <td>...</td>\n",
       "      <td>31.66</td>\n",
       "      <td>129.070007</td>\n",
       "      <td>27.730000</td>\n",
       "      <td>30.280001</td>\n",
       "      <td>447610800</td>\n",
       "      <td>7146600</td>\n",
       "      <td>7657500</td>\n",
       "      <td>4197200</td>\n",
       "      <td>28712400</td>\n",
       "      <td>51197400</td>\n",
       "    </tr>\n",
       "  </tbody>\n",
       "</table>\n",
       "<p>5 rows × 36 columns</p>\n",
       "</div>"
      ],
      "text/plain": [
       "           Adj Close                                                         \\\n",
       "                AAPL         BA        DIS        IBM         KO       MSFT   \n",
       "Date                                                                          \n",
       "2010-01-04  6.583586  43.777542  27.933924  92.528694  20.265518  24.049969   \n",
       "2010-01-05  6.594968  45.211330  27.864237  91.410950  20.020369  24.057743   \n",
       "2010-01-06  6.490066  46.582798  27.716166  90.817116  20.013266  23.910097   \n",
       "2010-01-07  6.478067  48.468555  27.724878  90.502762  19.963526  23.661432   \n",
       "2010-01-08  6.521136  48.001007  27.768419  91.410950  19.594034  23.824627   \n",
       "\n",
       "               Close                                    ...   Open  \\\n",
       "                AAPL         BA        DIS         IBM  ...    DIS   \n",
       "Date                                                    ...          \n",
       "2010-01-04  7.643214  56.180000  32.070000  132.449997  ...  32.50   \n",
       "2010-01-05  7.656429  58.020000  31.990000  130.850006  ...  32.07   \n",
       "2010-01-06  7.534643  59.779999  31.820000  130.000000  ...  31.90   \n",
       "2010-01-07  7.520714  62.200001  31.830000  129.550003  ...  31.77   \n",
       "2010-01-08  7.570714  61.599998  31.879999  130.850006  ...  31.66   \n",
       "\n",
       "                                                 Volume                      \\\n",
       "                   IBM         KO       MSFT       AAPL        BA       DIS   \n",
       "Date                                                                          \n",
       "2010-01-04  131.179993  28.580000  30.620001  493729600   6186700  13700400   \n",
       "2010-01-05  131.679993  28.424999  30.850000  601904800   8867800  10307700   \n",
       "2010-01-06  130.679993  28.174999  30.879999  552160000   8836500  10709500   \n",
       "2010-01-07  129.869995  28.165001  30.629999  477131200  14379100   8202100   \n",
       "2010-01-08  129.070007  27.730000  30.280001  447610800   7146600   7657500   \n",
       "\n",
       "                                         \n",
       "                IBM        KO      MSFT  \n",
       "Date                                     \n",
       "2010-01-04  6155300  13870400  38409100  \n",
       "2010-01-05  6841400  23172400  49749600  \n",
       "2010-01-06  5605300  19264600  58182400  \n",
       "2010-01-07  5840600  13234600  50559700  \n",
       "2010-01-08  4197200  28712400  51197400  \n",
       "\n",
       "[5 rows x 36 columns]"
      ]
     },
     "execution_count": 22,
     "metadata": {},
     "output_type": "execute_result"
    }
   ],
   "source": [
    "stocks.head()"
   ]
  },
  {
   "cell_type": "code",
   "execution_count": 23,
   "metadata": {},
   "outputs": [
    {
     "data": {
      "text/html": [
       "<div>\n",
       "<style scoped>\n",
       "    .dataframe tbody tr th:only-of-type {\n",
       "        vertical-align: middle;\n",
       "    }\n",
       "\n",
       "    .dataframe tbody tr th {\n",
       "        vertical-align: top;\n",
       "    }\n",
       "\n",
       "    .dataframe thead tr th {\n",
       "        text-align: left;\n",
       "    }\n",
       "\n",
       "    .dataframe thead tr:last-of-type th {\n",
       "        text-align: right;\n",
       "    }\n",
       "</style>\n",
       "<table border=\"1\" class=\"dataframe\">\n",
       "  <thead>\n",
       "    <tr>\n",
       "      <th></th>\n",
       "      <th colspan=\"6\" halign=\"left\">Adj Close</th>\n",
       "      <th colspan=\"4\" halign=\"left\">Close</th>\n",
       "      <th>...</th>\n",
       "      <th colspan=\"4\" halign=\"left\">Open</th>\n",
       "      <th colspan=\"6\" halign=\"left\">Volume</th>\n",
       "    </tr>\n",
       "    <tr>\n",
       "      <th></th>\n",
       "      <th>AAPL</th>\n",
       "      <th>BA</th>\n",
       "      <th>DIS</th>\n",
       "      <th>IBM</th>\n",
       "      <th>KO</th>\n",
       "      <th>MSFT</th>\n",
       "      <th>AAPL</th>\n",
       "      <th>BA</th>\n",
       "      <th>DIS</th>\n",
       "      <th>IBM</th>\n",
       "      <th>...</th>\n",
       "      <th>DIS</th>\n",
       "      <th>IBM</th>\n",
       "      <th>KO</th>\n",
       "      <th>MSFT</th>\n",
       "      <th>AAPL</th>\n",
       "      <th>BA</th>\n",
       "      <th>DIS</th>\n",
       "      <th>IBM</th>\n",
       "      <th>KO</th>\n",
       "      <th>MSFT</th>\n",
       "    </tr>\n",
       "    <tr>\n",
       "      <th>Date</th>\n",
       "      <th></th>\n",
       "      <th></th>\n",
       "      <th></th>\n",
       "      <th></th>\n",
       "      <th></th>\n",
       "      <th></th>\n",
       "      <th></th>\n",
       "      <th></th>\n",
       "      <th></th>\n",
       "      <th></th>\n",
       "      <th></th>\n",
       "      <th></th>\n",
       "      <th></th>\n",
       "      <th></th>\n",
       "      <th></th>\n",
       "      <th></th>\n",
       "      <th></th>\n",
       "      <th></th>\n",
       "      <th></th>\n",
       "      <th></th>\n",
       "      <th></th>\n",
       "    </tr>\n",
       "  </thead>\n",
       "  <tbody>\n",
       "    <tr>\n",
       "      <th>2020-01-30</th>\n",
       "      <td>80.154472</td>\n",
       "      <td>321.387817</td>\n",
       "      <td>137.809998</td>\n",
       "      <td>128.241013</td>\n",
       "      <td>56.912415</td>\n",
       "      <td>170.575958</td>\n",
       "      <td>80.967499</td>\n",
       "      <td>323.299988</td>\n",
       "      <td>137.809998</td>\n",
       "      <td>136.770004</td>\n",
       "      <td>...</td>\n",
       "      <td>135.089996</td>\n",
       "      <td>136.759995</td>\n",
       "      <td>57.930000</td>\n",
       "      <td>174.050003</td>\n",
       "      <td>126743200</td>\n",
       "      <td>6022000</td>\n",
       "      <td>11847300</td>\n",
       "      <td>5057900</td>\n",
       "      <td>20225600</td>\n",
       "      <td>51597500</td>\n",
       "    </tr>\n",
       "    <tr>\n",
       "      <th>2020-01-31</th>\n",
       "      <td>76.600517</td>\n",
       "      <td>316.387573</td>\n",
       "      <td>138.309998</td>\n",
       "      <td>134.766983</td>\n",
       "      <td>56.467640</td>\n",
       "      <td>168.058472</td>\n",
       "      <td>77.377502</td>\n",
       "      <td>318.269989</td>\n",
       "      <td>138.309998</td>\n",
       "      <td>143.729996</td>\n",
       "      <td>...</td>\n",
       "      <td>138.399994</td>\n",
       "      <td>142.899994</td>\n",
       "      <td>58.970001</td>\n",
       "      <td>172.210007</td>\n",
       "      <td>199588400</td>\n",
       "      <td>4999600</td>\n",
       "      <td>12379100</td>\n",
       "      <td>18994600</td>\n",
       "      <td>17685200</td>\n",
       "      <td>36142700</td>\n",
       "    </tr>\n",
       "    <tr>\n",
       "      <th>2020-02-03</th>\n",
       "      <td>76.390160</td>\n",
       "      <td>314.131012</td>\n",
       "      <td>141.320007</td>\n",
       "      <td>137.148605</td>\n",
       "      <td>56.641682</td>\n",
       "      <td>172.155548</td>\n",
       "      <td>77.165001</td>\n",
       "      <td>316.000000</td>\n",
       "      <td>141.320007</td>\n",
       "      <td>146.270004</td>\n",
       "      <td>...</td>\n",
       "      <td>139.789993</td>\n",
       "      <td>144.250000</td>\n",
       "      <td>58.750000</td>\n",
       "      <td>170.429993</td>\n",
       "      <td>173985600</td>\n",
       "      <td>4847700</td>\n",
       "      <td>12660000</td>\n",
       "      <td>8887500</td>\n",
       "      <td>12336800</td>\n",
       "      <td>30149100</td>\n",
       "    </tr>\n",
       "    <tr>\n",
       "      <th>2020-02-04</th>\n",
       "      <td>78.912079</td>\n",
       "      <td>316.059540</td>\n",
       "      <td>144.729996</td>\n",
       "      <td>139.811493</td>\n",
       "      <td>56.893078</td>\n",
       "      <td>177.822327</td>\n",
       "      <td>79.712502</td>\n",
       "      <td>317.940002</td>\n",
       "      <td>144.729996</td>\n",
       "      <td>149.110001</td>\n",
       "      <td>...</td>\n",
       "      <td>145.490005</td>\n",
       "      <td>147.779999</td>\n",
       "      <td>58.750000</td>\n",
       "      <td>177.139999</td>\n",
       "      <td>136616400</td>\n",
       "      <td>3779800</td>\n",
       "      <td>23519700</td>\n",
       "      <td>5621000</td>\n",
       "      <td>15417900</td>\n",
       "      <td>36433300</td>\n",
       "    </tr>\n",
       "    <tr>\n",
       "      <th>2020-02-05</th>\n",
       "      <td>79.555550</td>\n",
       "      <td>327.600861</td>\n",
       "      <td>141.369995</td>\n",
       "      <td>146.581253</td>\n",
       "      <td>56.902748</td>\n",
       "      <td>177.605148</td>\n",
       "      <td>80.362503</td>\n",
       "      <td>329.549988</td>\n",
       "      <td>141.369995</td>\n",
       "      <td>156.330002</td>\n",
       "      <td>...</td>\n",
       "      <td>146.600006</td>\n",
       "      <td>150.210007</td>\n",
       "      <td>58.900002</td>\n",
       "      <td>184.029999</td>\n",
       "      <td>118826800</td>\n",
       "      <td>6071800</td>\n",
       "      <td>27824100</td>\n",
       "      <td>14386800</td>\n",
       "      <td>11414900</td>\n",
       "      <td>39186300</td>\n",
       "    </tr>\n",
       "  </tbody>\n",
       "</table>\n",
       "<p>5 rows × 36 columns</p>\n",
       "</div>"
      ],
      "text/plain": [
       "            Adj Close                                                 \\\n",
       "                 AAPL          BA         DIS         IBM         KO   \n",
       "Date                                                                   \n",
       "2020-01-30  80.154472  321.387817  137.809998  128.241013  56.912415   \n",
       "2020-01-31  76.600517  316.387573  138.309998  134.766983  56.467640   \n",
       "2020-02-03  76.390160  314.131012  141.320007  137.148605  56.641682   \n",
       "2020-02-04  78.912079  316.059540  144.729996  139.811493  56.893078   \n",
       "2020-02-05  79.555550  327.600861  141.369995  146.581253  56.902748   \n",
       "\n",
       "                            Close                                      ...  \\\n",
       "                  MSFT       AAPL          BA         DIS         IBM  ...   \n",
       "Date                                                                   ...   \n",
       "2020-01-30  170.575958  80.967499  323.299988  137.809998  136.770004  ...   \n",
       "2020-01-31  168.058472  77.377502  318.269989  138.309998  143.729996  ...   \n",
       "2020-02-03  172.155548  77.165001  316.000000  141.320007  146.270004  ...   \n",
       "2020-02-04  177.822327  79.712502  317.940002  144.729996  149.110001  ...   \n",
       "2020-02-05  177.605148  80.362503  329.549988  141.369995  156.330002  ...   \n",
       "\n",
       "                  Open                                        Volume           \\\n",
       "                   DIS         IBM         KO        MSFT       AAPL       BA   \n",
       "Date                                                                            \n",
       "2020-01-30  135.089996  136.759995  57.930000  174.050003  126743200  6022000   \n",
       "2020-01-31  138.399994  142.899994  58.970001  172.210007  199588400  4999600   \n",
       "2020-02-03  139.789993  144.250000  58.750000  170.429993  173985600  4847700   \n",
       "2020-02-04  145.490005  147.779999  58.750000  177.139999  136616400  3779800   \n",
       "2020-02-05  146.600006  150.210007  58.900002  184.029999  118826800  6071800   \n",
       "\n",
       "                                                    \n",
       "                 DIS       IBM        KO      MSFT  \n",
       "Date                                                \n",
       "2020-01-30  11847300   5057900  20225600  51597500  \n",
       "2020-01-31  12379100  18994600  17685200  36142700  \n",
       "2020-02-03  12660000   8887500  12336800  30149100  \n",
       "2020-02-04  23519700   5621000  15417900  36433300  \n",
       "2020-02-05  27824100  14386800  11414900  39186300  \n",
       "\n",
       "[5 rows x 36 columns]"
      ]
     },
     "execution_count": 23,
     "metadata": {},
     "output_type": "execute_result"
    }
   ],
   "source": [
    "stocks.tail()"
   ]
  },
  {
   "cell_type": "code",
   "execution_count": 24,
   "metadata": {
    "scrolled": false
   },
   "outputs": [
    {
     "name": "stdout",
     "output_type": "stream",
     "text": [
      "<class 'pandas.core.frame.DataFrame'>\n",
      "DatetimeIndex: 2540 entries, 2010-01-04 to 2020-02-05\n",
      "Data columns (total 36 columns):\n",
      " #   Column             Non-Null Count  Dtype  \n",
      "---  ------             --------------  -----  \n",
      " 0   (Adj Close, AAPL)  2540 non-null   float64\n",
      " 1   (Adj Close, BA)    2540 non-null   float64\n",
      " 2   (Adj Close, DIS)   2540 non-null   float64\n",
      " 3   (Adj Close, IBM)   2540 non-null   float64\n",
      " 4   (Adj Close, KO)    2540 non-null   float64\n",
      " 5   (Adj Close, MSFT)  2540 non-null   float64\n",
      " 6   (Close, AAPL)      2540 non-null   float64\n",
      " 7   (Close, BA)        2540 non-null   float64\n",
      " 8   (Close, DIS)       2540 non-null   float64\n",
      " 9   (Close, IBM)       2540 non-null   float64\n",
      " 10  (Close, KO)        2540 non-null   float64\n",
      " 11  (Close, MSFT)      2540 non-null   float64\n",
      " 12  (High, AAPL)       2540 non-null   float64\n",
      " 13  (High, BA)         2540 non-null   float64\n",
      " 14  (High, DIS)        2540 non-null   float64\n",
      " 15  (High, IBM)        2540 non-null   float64\n",
      " 16  (High, KO)         2540 non-null   float64\n",
      " 17  (High, MSFT)       2540 non-null   float64\n",
      " 18  (Low, AAPL)        2540 non-null   float64\n",
      " 19  (Low, BA)          2540 non-null   float64\n",
      " 20  (Low, DIS)         2540 non-null   float64\n",
      " 21  (Low, IBM)         2540 non-null   float64\n",
      " 22  (Low, KO)          2540 non-null   float64\n",
      " 23  (Low, MSFT)        2540 non-null   float64\n",
      " 24  (Open, AAPL)       2540 non-null   float64\n",
      " 25  (Open, BA)         2540 non-null   float64\n",
      " 26  (Open, DIS)        2540 non-null   float64\n",
      " 27  (Open, IBM)        2540 non-null   float64\n",
      " 28  (Open, KO)         2540 non-null   float64\n",
      " 29  (Open, MSFT)       2540 non-null   float64\n",
      " 30  (Volume, AAPL)     2540 non-null   int64  \n",
      " 31  (Volume, BA)       2540 non-null   int64  \n",
      " 32  (Volume, DIS)      2540 non-null   int64  \n",
      " 33  (Volume, IBM)      2540 non-null   int64  \n",
      " 34  (Volume, KO)       2540 non-null   int64  \n",
      " 35  (Volume, MSFT)     2540 non-null   int64  \n",
      "dtypes: float64(30), int64(6)\n",
      "memory usage: 734.2 KB\n"
     ]
    }
   ],
   "source": [
    "stocks.info()"
   ]
  },
  {
   "cell_type": "code",
   "execution_count": 25,
   "metadata": {},
   "outputs": [
    {
     "data": {
      "text/html": [
       "<div>\n",
       "<style scoped>\n",
       "    .dataframe tbody tr th:only-of-type {\n",
       "        vertical-align: middle;\n",
       "    }\n",
       "\n",
       "    .dataframe tbody tr th {\n",
       "        vertical-align: top;\n",
       "    }\n",
       "\n",
       "    .dataframe thead tr th {\n",
       "        text-align: left;\n",
       "    }\n",
       "</style>\n",
       "<table border=\"1\" class=\"dataframe\">\n",
       "  <thead>\n",
       "    <tr>\n",
       "      <th></th>\n",
       "      <th colspan=\"6\" halign=\"left\">Adj Close</th>\n",
       "      <th colspan=\"4\" halign=\"left\">Close</th>\n",
       "      <th>...</th>\n",
       "      <th colspan=\"4\" halign=\"left\">Open</th>\n",
       "      <th colspan=\"6\" halign=\"left\">Volume</th>\n",
       "    </tr>\n",
       "    <tr>\n",
       "      <th></th>\n",
       "      <th>AAPL</th>\n",
       "      <th>BA</th>\n",
       "      <th>DIS</th>\n",
       "      <th>IBM</th>\n",
       "      <th>KO</th>\n",
       "      <th>MSFT</th>\n",
       "      <th>AAPL</th>\n",
       "      <th>BA</th>\n",
       "      <th>DIS</th>\n",
       "      <th>IBM</th>\n",
       "      <th>...</th>\n",
       "      <th>DIS</th>\n",
       "      <th>IBM</th>\n",
       "      <th>KO</th>\n",
       "      <th>MSFT</th>\n",
       "      <th>AAPL</th>\n",
       "      <th>BA</th>\n",
       "      <th>DIS</th>\n",
       "      <th>IBM</th>\n",
       "      <th>KO</th>\n",
       "      <th>MSFT</th>\n",
       "    </tr>\n",
       "  </thead>\n",
       "  <tbody>\n",
       "    <tr>\n",
       "      <th>count</th>\n",
       "      <td>2540.000000</td>\n",
       "      <td>2540.000000</td>\n",
       "      <td>2540.000000</td>\n",
       "      <td>2540.000000</td>\n",
       "      <td>2540.000000</td>\n",
       "      <td>2540.000000</td>\n",
       "      <td>2540.000000</td>\n",
       "      <td>2540.000000</td>\n",
       "      <td>2540.000000</td>\n",
       "      <td>2540.000000</td>\n",
       "      <td>...</td>\n",
       "      <td>2540.000000</td>\n",
       "      <td>2540.000000</td>\n",
       "      <td>2540.000000</td>\n",
       "      <td>2540.000000</td>\n",
       "      <td>2.540000e+03</td>\n",
       "      <td>2.540000e+03</td>\n",
       "      <td>2.540000e+03</td>\n",
       "      <td>2.540000e+03</td>\n",
       "      <td>2.540000e+03</td>\n",
       "      <td>2.540000e+03</td>\n",
       "    </tr>\n",
       "    <tr>\n",
       "      <th>mean</th>\n",
       "      <td>26.241465</td>\n",
       "      <td>152.633346</td>\n",
       "      <td>77.713581</td>\n",
       "      <td>126.946417</td>\n",
       "      <td>34.101891</td>\n",
       "      <td>52.871431</td>\n",
       "      <td>28.063775</td>\n",
       "      <td>165.712657</td>\n",
       "      <td>82.259661</td>\n",
       "      <td>161.788579</td>\n",
       "      <td>...</td>\n",
       "      <td>82.266323</td>\n",
       "      <td>161.731283</td>\n",
       "      <td>40.594112</td>\n",
       "      <td>57.343280</td>\n",
       "      <td>2.980867e+08</td>\n",
       "      <td>4.712813e+06</td>\n",
       "      <td>8.950288e+06</td>\n",
       "      <td>4.704008e+06</td>\n",
       "      <td>1.481060e+07</td>\n",
       "      <td>3.981059e+07</td>\n",
       "    </tr>\n",
       "    <tr>\n",
       "      <th>std</th>\n",
       "      <td>15.045475</td>\n",
       "      <td>108.258672</td>\n",
       "      <td>33.888720</td>\n",
       "      <td>16.141546</td>\n",
       "      <td>8.311239</td>\n",
       "      <td>36.247028</td>\n",
       "      <td>14.808513</td>\n",
       "      <td>106.468202</td>\n",
       "      <td>33.273209</td>\n",
       "      <td>24.260820</td>\n",
       "      <td>...</td>\n",
       "      <td>33.316962</td>\n",
       "      <td>24.245408</td>\n",
       "      <td>6.534235</td>\n",
       "      <td>35.339054</td>\n",
       "      <td>2.346900e+08</td>\n",
       "      <td>2.751889e+06</td>\n",
       "      <td>5.176133e+06</td>\n",
       "      <td>2.512112e+06</td>\n",
       "      <td>6.540578e+06</td>\n",
       "      <td>2.292572e+07</td>\n",
       "    </tr>\n",
       "    <tr>\n",
       "      <th>min</th>\n",
       "      <td>5.908031</td>\n",
       "      <td>43.777542</td>\n",
       "      <td>25.536150</td>\n",
       "      <td>85.500839</td>\n",
       "      <td>17.938358</td>\n",
       "      <td>18.044788</td>\n",
       "      <td>6.858929</td>\n",
       "      <td>56.180000</td>\n",
       "      <td>29.000000</td>\n",
       "      <td>107.570000</td>\n",
       "      <td>...</td>\n",
       "      <td>28.730000</td>\n",
       "      <td>108.000000</td>\n",
       "      <td>25.110001</td>\n",
       "      <td>23.090000</td>\n",
       "      <td>4.544800e+07</td>\n",
       "      <td>7.889000e+05</td>\n",
       "      <td>2.165700e+06</td>\n",
       "      <td>1.193000e+06</td>\n",
       "      <td>2.996300e+06</td>\n",
       "      <td>7.425600e+06</td>\n",
       "    </tr>\n",
       "    <tr>\n",
       "      <th>25%</th>\n",
       "      <td>14.193371</td>\n",
       "      <td>61.379217</td>\n",
       "      <td>42.842198</td>\n",
       "      <td>120.067621</td>\n",
       "      <td>28.678133</td>\n",
       "      <td>24.144279</td>\n",
       "      <td>16.250893</td>\n",
       "      <td>74.297503</td>\n",
       "      <td>47.850000</td>\n",
       "      <td>142.859997</td>\n",
       "      <td>...</td>\n",
       "      <td>47.692500</td>\n",
       "      <td>142.650002</td>\n",
       "      <td>37.250000</td>\n",
       "      <td>29.617501</td>\n",
       "      <td>1.244058e+08</td>\n",
       "      <td>3.128850e+06</td>\n",
       "      <td>6.126225e+06</td>\n",
       "      <td>3.239600e+06</td>\n",
       "      <td>1.064945e+07</td>\n",
       "      <td>2.420508e+07</td>\n",
       "    </tr>\n",
       "    <tr>\n",
       "      <th>50%</th>\n",
       "      <td>22.892307</td>\n",
       "      <td>115.346943</td>\n",
       "      <td>87.265736</td>\n",
       "      <td>128.238525</td>\n",
       "      <td>33.892628</td>\n",
       "      <td>39.813673</td>\n",
       "      <td>24.982500</td>\n",
       "      <td>130.820000</td>\n",
       "      <td>92.489998</td>\n",
       "      <td>159.085007</td>\n",
       "      <td>...</td>\n",
       "      <td>92.459999</td>\n",
       "      <td>159.050003</td>\n",
       "      <td>41.200001</td>\n",
       "      <td>44.934999</td>\n",
       "      <td>2.188732e+08</td>\n",
       "      <td>4.121100e+06</td>\n",
       "      <td>7.705400e+06</td>\n",
       "      <td>4.067700e+06</td>\n",
       "      <td>1.334680e+07</td>\n",
       "      <td>3.414175e+07</td>\n",
       "    </tr>\n",
       "    <tr>\n",
       "      <th>75%</th>\n",
       "      <td>36.673621</td>\n",
       "      <td>221.085182</td>\n",
       "      <td>103.056992</td>\n",
       "      <td>139.015823</td>\n",
       "      <td>39.696596</td>\n",
       "      <td>68.828218</td>\n",
       "      <td>38.321250</td>\n",
       "      <td>233.664997</td>\n",
       "      <td>108.069998</td>\n",
       "      <td>183.815002</td>\n",
       "      <td>...</td>\n",
       "      <td>108.105000</td>\n",
       "      <td>183.649998</td>\n",
       "      <td>44.712500</td>\n",
       "      <td>72.520002</td>\n",
       "      <td>4.049698e+08</td>\n",
       "      <td>5.383900e+06</td>\n",
       "      <td>1.009595e+07</td>\n",
       "      <td>5.271350e+06</td>\n",
       "      <td>1.721875e+07</td>\n",
       "      <td>4.966185e+07</td>\n",
       "    </tr>\n",
       "    <tr>\n",
       "      <th>max</th>\n",
       "      <td>80.270790</td>\n",
       "      <td>430.299988</td>\n",
       "      <td>150.736893</td>\n",
       "      <td>159.538162</td>\n",
       "      <td>56.912415</td>\n",
       "      <td>177.822327</td>\n",
       "      <td>81.084999</td>\n",
       "      <td>440.619995</td>\n",
       "      <td>151.639999</td>\n",
       "      <td>215.800003</td>\n",
       "      <td>...</td>\n",
       "      <td>152.940002</td>\n",
       "      <td>215.380005</td>\n",
       "      <td>58.970001</td>\n",
       "      <td>184.029999</td>\n",
       "      <td>1.880998e+09</td>\n",
       "      <td>4.439180e+07</td>\n",
       "      <td>8.704850e+07</td>\n",
       "      <td>3.049020e+07</td>\n",
       "      <td>9.896750e+07</td>\n",
       "      <td>3.193179e+08</td>\n",
       "    </tr>\n",
       "  </tbody>\n",
       "</table>\n",
       "<p>8 rows × 36 columns</p>\n",
       "</div>"
      ],
      "text/plain": [
       "         Adj Close                                                      \\\n",
       "              AAPL           BA          DIS          IBM           KO   \n",
       "count  2540.000000  2540.000000  2540.000000  2540.000000  2540.000000   \n",
       "mean     26.241465   152.633346    77.713581   126.946417    34.101891   \n",
       "std      15.045475   108.258672    33.888720    16.141546     8.311239   \n",
       "min       5.908031    43.777542    25.536150    85.500839    17.938358   \n",
       "25%      14.193371    61.379217    42.842198   120.067621    28.678133   \n",
       "50%      22.892307   115.346943    87.265736   128.238525    33.892628   \n",
       "75%      36.673621   221.085182   103.056992   139.015823    39.696596   \n",
       "max      80.270790   430.299988   150.736893   159.538162    56.912415   \n",
       "\n",
       "                          Close                                         ...  \\\n",
       "              MSFT         AAPL           BA          DIS          IBM  ...   \n",
       "count  2540.000000  2540.000000  2540.000000  2540.000000  2540.000000  ...   \n",
       "mean     52.871431    28.063775   165.712657    82.259661   161.788579  ...   \n",
       "std      36.247028    14.808513   106.468202    33.273209    24.260820  ...   \n",
       "min      18.044788     6.858929    56.180000    29.000000   107.570000  ...   \n",
       "25%      24.144279    16.250893    74.297503    47.850000   142.859997  ...   \n",
       "50%      39.813673    24.982500   130.820000    92.489998   159.085007  ...   \n",
       "75%      68.828218    38.321250   233.664997   108.069998   183.815002  ...   \n",
       "max     177.822327    81.084999   440.619995   151.639999   215.800003  ...   \n",
       "\n",
       "              Open                                               Volume  \\\n",
       "               DIS          IBM           KO         MSFT          AAPL   \n",
       "count  2540.000000  2540.000000  2540.000000  2540.000000  2.540000e+03   \n",
       "mean     82.266323   161.731283    40.594112    57.343280  2.980867e+08   \n",
       "std      33.316962    24.245408     6.534235    35.339054  2.346900e+08   \n",
       "min      28.730000   108.000000    25.110001    23.090000  4.544800e+07   \n",
       "25%      47.692500   142.650002    37.250000    29.617501  1.244058e+08   \n",
       "50%      92.459999   159.050003    41.200001    44.934999  2.188732e+08   \n",
       "75%     108.105000   183.649998    44.712500    72.520002  4.049698e+08   \n",
       "max     152.940002   215.380005    58.970001   184.029999  1.880998e+09   \n",
       "\n",
       "                                                                             \n",
       "                 BA           DIS           IBM            KO          MSFT  \n",
       "count  2.540000e+03  2.540000e+03  2.540000e+03  2.540000e+03  2.540000e+03  \n",
       "mean   4.712813e+06  8.950288e+06  4.704008e+06  1.481060e+07  3.981059e+07  \n",
       "std    2.751889e+06  5.176133e+06  2.512112e+06  6.540578e+06  2.292572e+07  \n",
       "min    7.889000e+05  2.165700e+06  1.193000e+06  2.996300e+06  7.425600e+06  \n",
       "25%    3.128850e+06  6.126225e+06  3.239600e+06  1.064945e+07  2.420508e+07  \n",
       "50%    4.121100e+06  7.705400e+06  4.067700e+06  1.334680e+07  3.414175e+07  \n",
       "75%    5.383900e+06  1.009595e+07  5.271350e+06  1.721875e+07  4.966185e+07  \n",
       "max    4.439180e+07  8.704850e+07  3.049020e+07  9.896750e+07  3.193179e+08  \n",
       "\n",
       "[8 rows x 36 columns]"
      ]
     },
     "execution_count": 25,
     "metadata": {},
     "output_type": "execute_result"
    }
   ],
   "source": [
    "stocks.describe()"
   ]
  },
  {
   "cell_type": "code",
   "execution_count": 26,
   "metadata": {},
   "outputs": [],
   "source": [
    "close = stocks.loc[:, \"Close\"].copy()"
   ]
  },
  {
   "cell_type": "code",
   "execution_count": 27,
   "metadata": {},
   "outputs": [
    {
     "data": {
      "text/html": [
       "<div>\n",
       "<style scoped>\n",
       "    .dataframe tbody tr th:only-of-type {\n",
       "        vertical-align: middle;\n",
       "    }\n",
       "\n",
       "    .dataframe tbody tr th {\n",
       "        vertical-align: top;\n",
       "    }\n",
       "\n",
       "    .dataframe thead th {\n",
       "        text-align: right;\n",
       "    }\n",
       "</style>\n",
       "<table border=\"1\" class=\"dataframe\">\n",
       "  <thead>\n",
       "    <tr style=\"text-align: right;\">\n",
       "      <th></th>\n",
       "      <th>AAPL</th>\n",
       "      <th>BA</th>\n",
       "      <th>DIS</th>\n",
       "      <th>IBM</th>\n",
       "      <th>KO</th>\n",
       "      <th>MSFT</th>\n",
       "    </tr>\n",
       "    <tr>\n",
       "      <th>Date</th>\n",
       "      <th></th>\n",
       "      <th></th>\n",
       "      <th></th>\n",
       "      <th></th>\n",
       "      <th></th>\n",
       "      <th></th>\n",
       "    </tr>\n",
       "  </thead>\n",
       "  <tbody>\n",
       "    <tr>\n",
       "      <th>2010-01-04</th>\n",
       "      <td>7.643214</td>\n",
       "      <td>56.180000</td>\n",
       "      <td>32.070000</td>\n",
       "      <td>132.449997</td>\n",
       "      <td>28.520000</td>\n",
       "      <td>30.950001</td>\n",
       "    </tr>\n",
       "    <tr>\n",
       "      <th>2010-01-05</th>\n",
       "      <td>7.656429</td>\n",
       "      <td>58.020000</td>\n",
       "      <td>31.990000</td>\n",
       "      <td>130.850006</td>\n",
       "      <td>28.174999</td>\n",
       "      <td>30.959999</td>\n",
       "    </tr>\n",
       "    <tr>\n",
       "      <th>2010-01-06</th>\n",
       "      <td>7.534643</td>\n",
       "      <td>59.779999</td>\n",
       "      <td>31.820000</td>\n",
       "      <td>130.000000</td>\n",
       "      <td>28.165001</td>\n",
       "      <td>30.770000</td>\n",
       "    </tr>\n",
       "    <tr>\n",
       "      <th>2010-01-07</th>\n",
       "      <td>7.520714</td>\n",
       "      <td>62.200001</td>\n",
       "      <td>31.830000</td>\n",
       "      <td>129.550003</td>\n",
       "      <td>28.094999</td>\n",
       "      <td>30.450001</td>\n",
       "    </tr>\n",
       "    <tr>\n",
       "      <th>2010-01-08</th>\n",
       "      <td>7.570714</td>\n",
       "      <td>61.599998</td>\n",
       "      <td>31.879999</td>\n",
       "      <td>130.850006</td>\n",
       "      <td>27.575001</td>\n",
       "      <td>30.660000</td>\n",
       "    </tr>\n",
       "  </tbody>\n",
       "</table>\n",
       "</div>"
      ],
      "text/plain": [
       "                AAPL         BA        DIS         IBM         KO       MSFT\n",
       "Date                                                                        \n",
       "2010-01-04  7.643214  56.180000  32.070000  132.449997  28.520000  30.950001\n",
       "2010-01-05  7.656429  58.020000  31.990000  130.850006  28.174999  30.959999\n",
       "2010-01-06  7.534643  59.779999  31.820000  130.000000  28.165001  30.770000\n",
       "2010-01-07  7.520714  62.200001  31.830000  129.550003  28.094999  30.450001\n",
       "2010-01-08  7.570714  61.599998  31.879999  130.850006  27.575001  30.660000"
      ]
     },
     "execution_count": 27,
     "metadata": {},
     "output_type": "execute_result"
    }
   ],
   "source": [
    "close.head()"
   ]
  },
  {
   "cell_type": "code",
   "execution_count": 28,
   "metadata": {},
   "outputs": [],
   "source": [
    "import matplotlib.pyplot as plt\n",
    "plt.style.use(\"seaborn\")"
   ]
  },
  {
   "cell_type": "code",
   "execution_count": 29,
   "metadata": {
    "scrolled": false
   },
   "outputs": [
    {
     "data": {
      "image/png": "[encoded data removed]",
      "text/plain": [
       "<Figure size 1080x576 with 1 Axes>"
      ]
     },
     "metadata": {},
     "output_type": "display_data"
    }
   ],
   "source": [
    "close.plot(figsize = (15, 8 ), fontsize = 13)\n",
    "plt.legend(fontsize = 13)\n",
    "plt.show()"
   ]
  },
  {
   "cell_type": "code",
   "execution_count": null,
   "metadata": {},
   "outputs": [],
   "source": []
  },
  {
   "cell_type": "markdown",
   "metadata": {},
   "source": [
    "## Normalizing Time Series to a Base Value (100)"
   ]
  },
  {
   "cell_type": "code",
   "execution_count": 30,
   "metadata": {},
   "outputs": [
    {
     "data": {
      "text/html": [
       "<div>\n",
       "<style scoped>\n",
       "    .dataframe tbody tr th:only-of-type {\n",
       "        vertical-align: middle;\n",
       "    }\n",
       "\n",
       "    .dataframe tbody tr th {\n",
       "        vertical-align: top;\n",
       "    }\n",
       "\n",
       "    .dataframe thead th {\n",
       "        text-align: right;\n",
       "    }\n",
       "</style>\n",
       "<table border=\"1\" class=\"dataframe\">\n",
       "  <thead>\n",
       "    <tr style=\"text-align: right;\">\n",
       "      <th></th>\n",
       "      <th>AAPL</th>\n",
       "      <th>BA</th>\n",
       "      <th>DIS</th>\n",
       "      <th>IBM</th>\n",
       "      <th>KO</th>\n",
       "      <th>MSFT</th>\n",
       "    </tr>\n",
       "    <tr>\n",
       "      <th>Date</th>\n",
       "      <th></th>\n",
       "      <th></th>\n",
       "      <th></th>\n",
       "      <th></th>\n",
       "      <th></th>\n",
       "      <th></th>\n",
       "    </tr>\n",
       "  </thead>\n",
       "  <tbody>\n",
       "    <tr>\n",
       "      <th>2010-01-04</th>\n",
       "      <td>7.643214</td>\n",
       "      <td>56.180000</td>\n",
       "      <td>32.070000</td>\n",
       "      <td>132.449997</td>\n",
       "      <td>28.520000</td>\n",
       "      <td>30.950001</td>\n",
       "    </tr>\n",
       "    <tr>\n",
       "      <th>2010-01-05</th>\n",
       "      <td>7.656429</td>\n",
       "      <td>58.020000</td>\n",
       "      <td>31.990000</td>\n",
       "      <td>130.850006</td>\n",
       "      <td>28.174999</td>\n",
       "      <td>30.959999</td>\n",
       "    </tr>\n",
       "    <tr>\n",
       "      <th>2010-01-06</th>\n",
       "      <td>7.534643</td>\n",
       "      <td>59.779999</td>\n",
       "      <td>31.820000</td>\n",
       "      <td>130.000000</td>\n",
       "      <td>28.165001</td>\n",
       "      <td>30.770000</td>\n",
       "    </tr>\n",
       "    <tr>\n",
       "      <th>2010-01-07</th>\n",
       "      <td>7.520714</td>\n",
       "      <td>62.200001</td>\n",
       "      <td>31.830000</td>\n",
       "      <td>129.550003</td>\n",
       "      <td>28.094999</td>\n",
       "      <td>30.450001</td>\n",
       "    </tr>\n",
       "    <tr>\n",
       "      <th>2010-01-08</th>\n",
       "      <td>7.570714</td>\n",
       "      <td>61.599998</td>\n",
       "      <td>31.879999</td>\n",
       "      <td>130.850006</td>\n",
       "      <td>27.575001</td>\n",
       "      <td>30.660000</td>\n",
       "    </tr>\n",
       "  </tbody>\n",
       "</table>\n",
       "</div>"
      ],
      "text/plain": [
       "                AAPL         BA        DIS         IBM         KO       MSFT\n",
       "Date                                                                        \n",
       "2010-01-04  7.643214  56.180000  32.070000  132.449997  28.520000  30.950001\n",
       "2010-01-05  7.656429  58.020000  31.990000  130.850006  28.174999  30.959999\n",
       "2010-01-06  7.534643  59.779999  31.820000  130.000000  28.165001  30.770000\n",
       "2010-01-07  7.520714  62.200001  31.830000  129.550003  28.094999  30.450001\n",
       "2010-01-08  7.570714  61.599998  31.879999  130.850006  27.575001  30.660000"
      ]
     },
     "execution_count": 30,
     "metadata": {},
     "output_type": "execute_result"
    }
   ],
   "source": [
    "close.head()"
   ]
  },
  {
   "cell_type": "code",
   "execution_count": 31,
   "metadata": {},
   "outputs": [
    {
     "data": {
      "text/plain": [
       "7.643214225769043"
      ]
     },
     "execution_count": 31,
     "metadata": {},
     "output_type": "execute_result"
    }
   ],
   "source": [
    "close.iloc[0,0]"
   ]
  },
  {
   "cell_type": "code",
   "execution_count": 34,
   "metadata": {
    "scrolled": true
   },
   "outputs": [
    {
     "data": {
      "text/plain": [
       "Date\n",
       "2010-01-04     100.000000\n",
       "2010-01-05     100.172893\n",
       "2010-01-06      98.579511\n",
       "2010-01-07      98.397266\n",
       "2010-01-08      99.051443\n",
       "                 ...     \n",
       "2020-01-30    1059.338341\n",
       "2020-01-31    1012.368621\n",
       "2020-02-03    1009.588357\n",
       "2020-02-04    1042.918583\n",
       "2020-02-05    1051.422879\n",
       "Name: AAPL, Length: 2540, dtype: float64"
      ]
     },
     "execution_count": 34,
     "metadata": {},
     "output_type": "execute_result"
    }
   ],
   "source": [
    "close.AAPL.div(close.iloc[0,0]).mul(100)"
   ]
  },
  {
   "cell_type": "code",
   "execution_count": 35,
   "metadata": {
    "scrolled": true
   },
   "outputs": [
    {
     "data": {
      "text/plain": [
       "AAPL      7.643214\n",
       "BA       56.180000\n",
       "DIS      32.070000\n",
       "IBM     132.449997\n",
       "KO       28.520000\n",
       "MSFT     30.950001\n",
       "Name: 2010-01-04 00:00:00, dtype: float64"
      ]
     },
     "execution_count": 35,
     "metadata": {},
     "output_type": "execute_result"
    }
   ],
   "source": [
    "close.iloc[0]"
   ]
  },
  {
   "cell_type": "code",
   "execution_count": 36,
   "metadata": {
    "scrolled": true
   },
   "outputs": [
    {
     "data": {
      "text/html": [
       "<div>\n",
       "<style scoped>\n",
       "    .dataframe tbody tr th:only-of-type {\n",
       "        vertical-align: middle;\n",
       "    }\n",
       "\n",
       "    .dataframe tbody tr th {\n",
       "        vertical-align: top;\n",
       "    }\n",
       "\n",
       "    .dataframe thead th {\n",
       "        text-align: right;\n",
       "    }\n",
       "</style>\n",
       "<table border=\"1\" class=\"dataframe\">\n",
       "  <thead>\n",
       "    <tr style=\"text-align: right;\">\n",
       "      <th></th>\n",
       "      <th>AAPL</th>\n",
       "      <th>BA</th>\n",
       "      <th>DIS</th>\n",
       "      <th>IBM</th>\n",
       "      <th>KO</th>\n",
       "      <th>MSFT</th>\n",
       "    </tr>\n",
       "    <tr>\n",
       "      <th>Date</th>\n",
       "      <th></th>\n",
       "      <th></th>\n",
       "      <th></th>\n",
       "      <th></th>\n",
       "      <th></th>\n",
       "      <th></th>\n",
       "    </tr>\n",
       "  </thead>\n",
       "  <tbody>\n",
       "    <tr>\n",
       "      <th>2010-01-04</th>\n",
       "      <td>100.000000</td>\n",
       "      <td>100.000000</td>\n",
       "      <td>100.000000</td>\n",
       "      <td>100.000000</td>\n",
       "      <td>100.000000</td>\n",
       "      <td>100.000000</td>\n",
       "    </tr>\n",
       "    <tr>\n",
       "      <th>2010-01-05</th>\n",
       "      <td>100.172893</td>\n",
       "      <td>103.275187</td>\n",
       "      <td>99.750546</td>\n",
       "      <td>98.792004</td>\n",
       "      <td>98.790318</td>\n",
       "      <td>100.032305</td>\n",
       "    </tr>\n",
       "    <tr>\n",
       "      <th>2010-01-06</th>\n",
       "      <td>98.579511</td>\n",
       "      <td>106.407972</td>\n",
       "      <td>99.220455</td>\n",
       "      <td>98.150248</td>\n",
       "      <td>98.755261</td>\n",
       "      <td>99.418416</td>\n",
       "    </tr>\n",
       "    <tr>\n",
       "      <th>2010-01-07</th>\n",
       "      <td>98.397266</td>\n",
       "      <td>110.715558</td>\n",
       "      <td>99.251638</td>\n",
       "      <td>97.810499</td>\n",
       "      <td>98.509814</td>\n",
       "      <td>98.384491</td>\n",
       "    </tr>\n",
       "    <tr>\n",
       "      <th>2010-01-08</th>\n",
       "      <td>99.051443</td>\n",
       "      <td>109.647558</td>\n",
       "      <td>99.407544</td>\n",
       "      <td>98.792004</td>\n",
       "      <td>96.686537</td>\n",
       "      <td>99.063002</td>\n",
       "    </tr>\n",
       "    <tr>\n",
       "      <th>...</th>\n",
       "      <td>...</td>\n",
       "      <td>...</td>\n",
       "      <td>...</td>\n",
       "      <td>...</td>\n",
       "      <td>...</td>\n",
       "      <td>...</td>\n",
       "    </tr>\n",
       "    <tr>\n",
       "      <th>2020-01-30</th>\n",
       "      <td>1059.338341</td>\n",
       "      <td>575.471673</td>\n",
       "      <td>429.716242</td>\n",
       "      <td>103.261614</td>\n",
       "      <td>206.381486</td>\n",
       "      <td>558.255233</td>\n",
       "    </tr>\n",
       "    <tr>\n",
       "      <th>2020-01-31</th>\n",
       "      <td>1012.368621</td>\n",
       "      <td>566.518311</td>\n",
       "      <td>431.275332</td>\n",
       "      <td>108.516421</td>\n",
       "      <td>204.768586</td>\n",
       "      <td>550.016128</td>\n",
       "    </tr>\n",
       "    <tr>\n",
       "      <th>2020-02-03</th>\n",
       "      <td>1009.588357</td>\n",
       "      <td>562.477747</td>\n",
       "      <td>440.661081</td>\n",
       "      <td>110.434132</td>\n",
       "      <td>205.399723</td>\n",
       "      <td>563.424881</td>\n",
       "    </tr>\n",
       "    <tr>\n",
       "      <th>2020-02-04</th>\n",
       "      <td>1042.918583</td>\n",
       "      <td>565.930938</td>\n",
       "      <td>451.294035</td>\n",
       "      <td>112.578335</td>\n",
       "      <td>206.311358</td>\n",
       "      <td>581.970891</td>\n",
       "    </tr>\n",
       "    <tr>\n",
       "      <th>2020-02-05</th>\n",
       "      <td>1051.422879</td>\n",
       "      <td>586.596629</td>\n",
       "      <td>440.816952</td>\n",
       "      <td>118.029449</td>\n",
       "      <td>206.346415</td>\n",
       "      <td>581.260063</td>\n",
       "    </tr>\n",
       "  </tbody>\n",
       "</table>\n",
       "<p>2540 rows × 6 columns</p>\n",
       "</div>"
      ],
      "text/plain": [
       "                   AAPL          BA         DIS         IBM          KO  \\\n",
       "Date                                                                      \n",
       "2010-01-04   100.000000  100.000000  100.000000  100.000000  100.000000   \n",
       "2010-01-05   100.172893  103.275187   99.750546   98.792004   98.790318   \n",
       "2010-01-06    98.579511  106.407972   99.220455   98.150248   98.755261   \n",
       "2010-01-07    98.397266  110.715558   99.251638   97.810499   98.509814   \n",
       "2010-01-08    99.051443  109.647558   99.407544   98.792004   96.686537   \n",
       "...                 ...         ...         ...         ...         ...   \n",
       "2020-01-30  1059.338341  575.471673  429.716242  103.261614  206.381486   \n",
       "2020-01-31  1012.368621  566.518311  431.275332  108.516421  204.768586   \n",
       "2020-02-03  1009.588357  562.477747  440.661081  110.434132  205.399723   \n",
       "2020-02-04  1042.918583  565.930938  451.294035  112.578335  206.311358   \n",
       "2020-02-05  1051.422879  586.596629  440.816952  118.029449  206.346415   \n",
       "\n",
       "                  MSFT  \n",
       "Date                    \n",
       "2010-01-04  100.000000  \n",
       "2010-01-05  100.032305  \n",
       "2010-01-06   99.418416  \n",
       "2010-01-07   98.384491  \n",
       "2010-01-08   99.063002  \n",
       "...                ...  \n",
       "2020-01-30  558.255233  \n",
       "2020-01-31  550.016128  \n",
       "2020-02-03  563.424881  \n",
       "2020-02-04  581.970891  \n",
       "2020-02-05  581.260063  \n",
       "\n",
       "[2540 rows x 6 columns]"
      ]
     },
     "execution_count": 36,
     "metadata": {},
     "output_type": "execute_result"
    }
   ],
   "source": [
    "norm = close.div(close.iloc[0]).mul(100)\n",
    "norm"
   ]
  },
  {
   "cell_type": "code",
   "execution_count": 37,
   "metadata": {},
   "outputs": [
    {
     "data": {
      "image/png": "[encoded data removed]",
      "text/plain": [
       "<Figure size 1080x576 with 1 Axes>"
      ]
     },
     "metadata": {},
     "output_type": "display_data"
    }
   ],
   "source": [
    "norm.plot(figsize = (15, 8 ), fontsize = 13)\n",
    "plt.legend(fontsize = 13)\n",
    "plt.show()"
   ]
  },
  {
   "cell_type": "code",
   "execution_count": null,
   "metadata": {},
   "outputs": [],
   "source": []
  },
  {
   "cell_type": "markdown",
   "metadata": {},
   "source": [
    "## The shift() method"
   ]
  },
  {
   "cell_type": "code",
   "execution_count": null,
   "metadata": {},
   "outputs": [],
   "source": [
    "close.head()"
   ]
  },
  {
   "cell_type": "code",
   "execution_count": null,
   "metadata": {},
   "outputs": [],
   "source": [
    "aapl = close.AAPL.copy().to_frame()"
   ]
  },
  {
   "cell_type": "code",
   "execution_count": null,
   "metadata": {},
   "outputs": [],
   "source": [
    "aapl.head()"
   ]
  },
  {
   "cell_type": "code",
   "execution_count": null,
   "metadata": {
    "scrolled": true
   },
   "outputs": [],
   "source": [
    "aapl.shift(periods = 1)"
   ]
  },
  {
   "cell_type": "code",
   "execution_count": null,
   "metadata": {},
   "outputs": [],
   "source": [
    "aapl[\"lag1\"] = aapl.shift(periods = 1)"
   ]
  },
  {
   "cell_type": "code",
   "execution_count": null,
   "metadata": {
    "scrolled": true
   },
   "outputs": [],
   "source": [
    "aapl.head()"
   ]
  },
  {
   "cell_type": "code",
   "execution_count": null,
   "metadata": {
    "scrolled": true
   },
   "outputs": [],
   "source": [
    "aapl.AAPL.sub(aapl.lag1)"
   ]
  },
  {
   "cell_type": "code",
   "execution_count": null,
   "metadata": {},
   "outputs": [],
   "source": [
    "aapl[\"Diff\"] = aapl.AAPL.sub(aapl.lag1)"
   ]
  },
  {
   "cell_type": "code",
   "execution_count": null,
   "metadata": {},
   "outputs": [],
   "source": [
    "aapl.head()"
   ]
  },
  {
   "cell_type": "code",
   "execution_count": null,
   "metadata": {
    "scrolled": true
   },
   "outputs": [],
   "source": [
    "aapl.AAPL.div(aapl.lag1).sub(1).mul(100)"
   ]
  },
  {
   "cell_type": "code",
   "execution_count": null,
   "metadata": {},
   "outputs": [],
   "source": [
    "aapl[\"pct_change\"] = aapl.AAPL.div(aapl.lag1).sub(1).mul(100)"
   ]
  },
  {
   "cell_type": "code",
   "execution_count": null,
   "metadata": {
    "scrolled": true
   },
   "outputs": [],
   "source": [
    "aapl.head()"
   ]
  },
  {
   "cell_type": "code",
   "execution_count": null,
   "metadata": {},
   "outputs": [],
   "source": []
  },
  {
   "cell_type": "markdown",
   "metadata": {},
   "source": [
    "## The methods diff() and pct_change()"
   ]
  },
  {
   "cell_type": "code",
   "execution_count": null,
   "metadata": {},
   "outputs": [],
   "source": [
    "aapl.head()"
   ]
  },
  {
   "cell_type": "code",
   "execution_count": null,
   "metadata": {
    "scrolled": true
   },
   "outputs": [],
   "source": [
    "aapl.AAPL.diff(periods = 2)"
   ]
  },
  {
   "cell_type": "code",
   "execution_count": null,
   "metadata": {
    "scrolled": true
   },
   "outputs": [],
   "source": [
    "aapl[\"Diff2\"] = aapl.AAPL.diff(periods = 1)"
   ]
  },
  {
   "cell_type": "code",
   "execution_count": null,
   "metadata": {},
   "outputs": [],
   "source": [
    "aapl.head(10)"
   ]
  },
  {
   "cell_type": "code",
   "execution_count": null,
   "metadata": {},
   "outputs": [],
   "source": [
    "aapl.Diff.equals(aapl.Diff2)"
   ]
  },
  {
   "cell_type": "code",
   "execution_count": null,
   "metadata": {},
   "outputs": [],
   "source": [
    "aapl[\"pct_change2\"] = aapl.AAPL.pct_change(periods = 1).mul(100)"
   ]
  },
  {
   "cell_type": "code",
   "execution_count": null,
   "metadata": {},
   "outputs": [],
   "source": [
    "aapl.head()"
   ]
  },
  {
   "cell_type": "code",
   "execution_count": null,
   "metadata": {
    "scrolled": true
   },
   "outputs": [],
   "source": [
    "aapl.AAPL.resample(\"BM\").last().pct_change(periods =1).mul(100)"
   ]
  },
  {
   "cell_type": "code",
   "execution_count": null,
   "metadata": {},
   "outputs": [],
   "source": []
  },
  {
   "cell_type": "markdown",
   "metadata": {},
   "source": [
    "## Measuring Stock Perfromance with MEAN Return and STD of Returns"
   ]
  },
  {
   "cell_type": "code",
   "execution_count": null,
   "metadata": {},
   "outputs": [],
   "source": [
    "import numpy as np"
   ]
  },
  {
   "cell_type": "code",
   "execution_count": null,
   "metadata": {},
   "outputs": [],
   "source": [
    "aapl = close.AAPL.copy().to_frame()"
   ]
  },
  {
   "cell_type": "code",
   "execution_count": null,
   "metadata": {},
   "outputs": [],
   "source": [
    "aapl.head()"
   ]
  },
  {
   "cell_type": "code",
   "execution_count": null,
   "metadata": {
    "scrolled": true
   },
   "outputs": [],
   "source": [
    "aapl.pct_change().dropna()"
   ]
  },
  {
   "cell_type": "code",
   "execution_count": null,
   "metadata": {},
   "outputs": [],
   "source": [
    "ret = aapl.pct_change().dropna()\n",
    "ret.head()"
   ]
  },
  {
   "cell_type": "code",
   "execution_count": null,
   "metadata": {},
   "outputs": [],
   "source": [
    "ret.info()"
   ]
  },
  {
   "cell_type": "code",
   "execution_count": null,
   "metadata": {},
   "outputs": [],
   "source": [
    "ret.plot(kind = \"hist\", figsize = (12 ,8), bins = 100)\n",
    "plt.show()"
   ]
  },
  {
   "cell_type": "code",
   "execution_count": null,
   "metadata": {},
   "outputs": [],
   "source": [
    "daily_mean_Return = ret.mean()\n",
    "daily_mean_Return"
   ]
  },
  {
   "cell_type": "code",
   "execution_count": null,
   "metadata": {},
   "outputs": [],
   "source": [
    "var_daily_Returns = ret.var()\n",
    "var_daily_Returns"
   ]
  },
  {
   "cell_type": "code",
   "execution_count": null,
   "metadata": {},
   "outputs": [],
   "source": [
    "std_daily_Returns = np.sqrt(var_daily_Returns)\n",
    "std_daily_Returns"
   ]
  },
  {
   "cell_type": "code",
   "execution_count": null,
   "metadata": {},
   "outputs": [],
   "source": [
    "ret.std()"
   ]
  },
  {
   "cell_type": "code",
   "execution_count": null,
   "metadata": {},
   "outputs": [],
   "source": [
    "ann_mean_Return = ret.mean() * 252\n",
    "ann_mean_Return"
   ]
  },
  {
   "cell_type": "code",
   "execution_count": null,
   "metadata": {},
   "outputs": [],
   "source": [
    "ann_var_Returns = ret.var() * 252\n",
    "ann_var_Returns"
   ]
  },
  {
   "cell_type": "code",
   "execution_count": null,
   "metadata": {},
   "outputs": [],
   "source": [
    "ann_std_Returns = np.sqrt(ann_var_Returns)\n",
    "ann_std_Returns"
   ]
  },
  {
   "cell_type": "code",
   "execution_count": null,
   "metadata": {},
   "outputs": [],
   "source": [
    "ret.std() * np.sqrt(252)"
   ]
  },
  {
   "cell_type": "code",
   "execution_count": null,
   "metadata": {},
   "outputs": [],
   "source": []
  },
  {
   "cell_type": "markdown",
   "metadata": {},
   "source": [
    "## Financial Time Series - Return and Risk"
   ]
  },
  {
   "cell_type": "code",
   "execution_count": null,
   "metadata": {},
   "outputs": [],
   "source": [
    "import numpy as np"
   ]
  },
  {
   "cell_type": "code",
   "execution_count": null,
   "metadata": {},
   "outputs": [],
   "source": [
    "norm.plot(figsize = (15, 8 ), fontsize = 13)\n",
    "plt.legend(fontsize = 13)\n",
    "plt.show()"
   ]
  },
  {
   "cell_type": "code",
   "execution_count": null,
   "metadata": {},
   "outputs": [],
   "source": [
    "close.head()"
   ]
  },
  {
   "cell_type": "code",
   "execution_count": null,
   "metadata": {
    "scrolled": true
   },
   "outputs": [],
   "source": [
    "close.pct_change().dropna()"
   ]
  },
  {
   "cell_type": "code",
   "execution_count": null,
   "metadata": {},
   "outputs": [],
   "source": [
    "ret = close.pct_change().dropna()"
   ]
  },
  {
   "cell_type": "code",
   "execution_count": null,
   "metadata": {},
   "outputs": [],
   "source": [
    "ret.head()"
   ]
  },
  {
   "cell_type": "code",
   "execution_count": null,
   "metadata": {
    "scrolled": true
   },
   "outputs": [],
   "source": [
    "ret.describe().T.loc[:, [\"mean\", \"std\"]]"
   ]
  },
  {
   "cell_type": "code",
   "execution_count": null,
   "metadata": {
    "scrolled": true
   },
   "outputs": [],
   "source": [
    "summary = ret.describe().T.loc[:, [\"mean\", \"std\"]]\n",
    "summary"
   ]
  },
  {
   "cell_type": "code",
   "execution_count": null,
   "metadata": {},
   "outputs": [],
   "source": [
    "summary[\"mean\"] = summary[\"mean\"]*252\n",
    "summary[\"std\"] = summary[\"std\"] * np.sqrt(252)"
   ]
  },
  {
   "cell_type": "code",
   "execution_count": null,
   "metadata": {
    "scrolled": true
   },
   "outputs": [],
   "source": [
    "summary"
   ]
  },
  {
   "cell_type": "code",
   "execution_count": null,
   "metadata": {},
   "outputs": [],
   "source": [
    "summary.plot(kind = \"scatter\", x = \"std\", y = \"mean\", figsize = (15,12), s = 50, fontsize = 15)\n",
    "for i in summary.index:\n",
    "    plt.annotate(i, xy=(summary.loc[i, \"std\"]+0.002, summary.loc[i, \"mean\"]+0.002), size = 15)\n",
    "plt.xlabel(\"ann. Risk(std)\", fontsize = 15)\n",
    "plt.ylabel(\"ann. Return\", fontsize = 15)\n",
    "plt.title(\"Risk/Return\", fontsize = 20)\n",
    "plt.show()"
   ]
  },
  {
   "cell_type": "code",
   "execution_count": null,
   "metadata": {},
   "outputs": [],
   "source": []
  },
  {
   "cell_type": "markdown",
   "metadata": {},
   "source": [
    "## Financial Time Series - Covariance and Correlation"
   ]
  },
  {
   "cell_type": "code",
   "execution_count": null,
   "metadata": {},
   "outputs": [],
   "source": [
    "ret.head()"
   ]
  },
  {
   "cell_type": "code",
   "execution_count": null,
   "metadata": {},
   "outputs": [],
   "source": [
    "ret.cov()"
   ]
  },
  {
   "cell_type": "code",
   "execution_count": null,
   "metadata": {},
   "outputs": [],
   "source": [
    "ret.corr()"
   ]
  },
  {
   "cell_type": "code",
   "execution_count": null,
   "metadata": {},
   "outputs": [],
   "source": [
    "import seaborn as sns"
   ]
  },
  {
   "cell_type": "code",
   "execution_count": null,
   "metadata": {},
   "outputs": [],
   "source": [
    "plt.figure(figsize=(12,8))\n",
    "sns.set(font_scale=1.4)\n",
    "sns.heatmap(ret.corr(), cmap = \"Reds\", annot = True, annot_kws={\"size\":15}, vmax = 0.6)\n",
    "plt.show()"
   ]
  },
  {
   "cell_type": "code",
   "execution_count": null,
   "metadata": {},
   "outputs": [],
   "source": []
  },
  {
   "cell_type": "markdown",
   "metadata": {},
   "source": [
    "## Simple Returns vs. Log Returns"
   ]
  },
  {
   "cell_type": "code",
   "execution_count": null,
   "metadata": {},
   "outputs": [],
   "source": [
    "import pandas as pd\n",
    "import numpy as np"
   ]
  },
  {
   "cell_type": "code",
   "execution_count": null,
   "metadata": {},
   "outputs": [],
   "source": [
    "df = pd.DataFrame(index = [2016, 2017, 2018], data = [100, 50, 95], columns = [\"Price\"])"
   ]
  },
  {
   "cell_type": "code",
   "execution_count": null,
   "metadata": {},
   "outputs": [],
   "source": [
    "df"
   ]
  },
  {
   "cell_type": "code",
   "execution_count": null,
   "metadata": {},
   "outputs": [],
   "source": [
    "simple_returns = df.pct_change().dropna()\n",
    "simple_returns"
   ]
  },
  {
   "cell_type": "code",
   "execution_count": null,
   "metadata": {},
   "outputs": [],
   "source": [
    "simple_returns.mean()"
   ]
  },
  {
   "cell_type": "code",
   "execution_count": null,
   "metadata": {},
   "outputs": [],
   "source": [
    "100 * 1.2 * 1.2"
   ]
  },
  {
   "cell_type": "code",
   "execution_count": null,
   "metadata": {},
   "outputs": [],
   "source": [
    "df"
   ]
  },
  {
   "cell_type": "code",
   "execution_count": null,
   "metadata": {},
   "outputs": [],
   "source": [
    "np.log(df / df.shift(1))"
   ]
  },
  {
   "cell_type": "code",
   "execution_count": null,
   "metadata": {},
   "outputs": [],
   "source": [
    "log_returns = np.log(df / df.shift(1)).dropna()"
   ]
  },
  {
   "cell_type": "code",
   "execution_count": null,
   "metadata": {},
   "outputs": [],
   "source": [
    "log_returns"
   ]
  },
  {
   "cell_type": "code",
   "execution_count": null,
   "metadata": {},
   "outputs": [],
   "source": [
    "log_returns.mean()"
   ]
  },
  {
   "cell_type": "code",
   "execution_count": null,
   "metadata": {},
   "outputs": [],
   "source": [
    "100 * np.exp(2 * log_returns.mean())"
   ]
  },
  {
   "cell_type": "code",
   "execution_count": null,
   "metadata": {},
   "outputs": [],
   "source": []
  },
  {
   "cell_type": "markdown",
   "metadata": {},
   "source": [
    "## Importing Financial Data from Excel"
   ]
  },
  {
   "cell_type": "code",
   "execution_count": null,
   "metadata": {},
   "outputs": [],
   "source": [
    "import pandas as pd"
   ]
  },
  {
   "cell_type": "code",
   "execution_count": null,
   "metadata": {
    "scrolled": true
   },
   "outputs": [],
   "source": [
    "pd.read_excel(\"SP500.xls\").info()"
   ]
  },
  {
   "cell_type": "code",
   "execution_count": null,
   "metadata": {
    "scrolled": true
   },
   "outputs": [],
   "source": [
    "pd.read_excel(\"SP500.xls\", parse_dates= [\"Date\"], index_col = \"Date\")"
   ]
  },
  {
   "cell_type": "code",
   "execution_count": null,
   "metadata": {
    "scrolled": true
   },
   "outputs": [],
   "source": [
    "pd.read_excel(\"SP500.xls\", parse_dates= [\"Date\"], index_col = \"Date\", usecols = \"A, C:E\")"
   ]
  },
  {
   "cell_type": "code",
   "execution_count": null,
   "metadata": {
    "scrolled": true
   },
   "outputs": [],
   "source": [
    "pd.read_excel(\"SP500.xls\", sheet_name= \"Sales\")"
   ]
  },
  {
   "cell_type": "code",
   "execution_count": null,
   "metadata": {},
   "outputs": [],
   "source": [
    "SP500 = pd.read_excel(\"SP500.xls\", parse_dates= [\"Date\"], index_col = \"Date\", usecols= \"A:E\")"
   ]
  },
  {
   "cell_type": "code",
   "execution_count": null,
   "metadata": {
    "scrolled": true
   },
   "outputs": [],
   "source": [
    "SP500.head()"
   ]
  },
  {
   "cell_type": "code",
   "execution_count": null,
   "metadata": {},
   "outputs": [],
   "source": [
    "SP500.tail()"
   ]
  },
  {
   "cell_type": "code",
   "execution_count": null,
   "metadata": {},
   "outputs": [],
   "source": [
    "SP500.info()"
   ]
  },
  {
   "cell_type": "code",
   "execution_count": null,
   "metadata": {},
   "outputs": [],
   "source": [
    "SP500.to_csv(\"SP500.csv\")"
   ]
  },
  {
   "cell_type": "code",
   "execution_count": null,
   "metadata": {},
   "outputs": [],
   "source": [
    "SP500.to_excel(\"SP500_red.xls\")"
   ]
  },
  {
   "cell_type": "code",
   "execution_count": null,
   "metadata": {},
   "outputs": [],
   "source": []
  },
  {
   "cell_type": "markdown",
   "metadata": {},
   "source": [
    "## Simple Moving Averages (SMA) with rolling()"
   ]
  },
  {
   "cell_type": "code",
   "execution_count": null,
   "metadata": {},
   "outputs": [],
   "source": [
    "import pandas as pd\n",
    "import matplotlib.pyplot as plt \n",
    "plt.style.use(\"seaborn\")"
   ]
  },
  {
   "cell_type": "code",
   "execution_count": null,
   "metadata": {},
   "outputs": [],
   "source": [
    "SP500 = pd.read_csv(\"SP500.csv\", parse_dates = [\"Date\"], index_col = \"Date\")"
   ]
  },
  {
   "cell_type": "code",
   "execution_count": null,
   "metadata": {},
   "outputs": [],
   "source": [
    "SP500.head()"
   ]
  },
  {
   "cell_type": "code",
   "execution_count": null,
   "metadata": {},
   "outputs": [],
   "source": [
    "SP500.tail()"
   ]
  },
  {
   "cell_type": "code",
   "execution_count": null,
   "metadata": {},
   "outputs": [],
   "source": [
    "SP500.info()"
   ]
  },
  {
   "cell_type": "code",
   "execution_count": null,
   "metadata": {},
   "outputs": [],
   "source": [
    "SP500 = SP500.Close.to_frame()"
   ]
  },
  {
   "cell_type": "code",
   "execution_count": null,
   "metadata": {},
   "outputs": [],
   "source": [
    "SP500.head()"
   ]
  },
  {
   "cell_type": "code",
   "execution_count": null,
   "metadata": {
    "scrolled": false
   },
   "outputs": [],
   "source": [
    "SP500.plot(figsize = (12,8), fontsize= 15)\n",
    "plt.legend(loc = \"upper left\", fontsize = 15)\n",
    "plt.show()"
   ]
  },
  {
   "cell_type": "code",
   "execution_count": null,
   "metadata": {},
   "outputs": [],
   "source": [
    "SP500 = SP500.loc[\"2008-12-31\":\"2018-12-31\"].copy()"
   ]
  },
  {
   "cell_type": "code",
   "execution_count": null,
   "metadata": {},
   "outputs": [],
   "source": [
    "SP500.rolling(window = 10)"
   ]
  },
  {
   "cell_type": "code",
   "execution_count": null,
   "metadata": {},
   "outputs": [],
   "source": [
    "type(SP500.rolling(window = 10))"
   ]
  },
  {
   "cell_type": "code",
   "execution_count": null,
   "metadata": {},
   "outputs": [],
   "source": [
    "SP500.head(15)"
   ]
  },
  {
   "cell_type": "code",
   "execution_count": null,
   "metadata": {
    "scrolled": true
   },
   "outputs": [],
   "source": [
    "SP500.rolling(window = 10).mean()"
   ]
  },
  {
   "cell_type": "code",
   "execution_count": null,
   "metadata": {
    "scrolled": true
   },
   "outputs": [],
   "source": [
    "SP500.rolling(window = 10).median()"
   ]
  },
  {
   "cell_type": "code",
   "execution_count": null,
   "metadata": {
    "scrolled": true
   },
   "outputs": [],
   "source": [
    "SP500.rolling(window = 10, min_periods=5).mean()"
   ]
  },
  {
   "cell_type": "code",
   "execution_count": null,
   "metadata": {},
   "outputs": [],
   "source": []
  },
  {
   "cell_type": "markdown",
   "metadata": {},
   "source": [
    "## Momentum Trading Strategies with SMAs"
   ]
  },
  {
   "cell_type": "code",
   "execution_count": null,
   "metadata": {},
   "outputs": [],
   "source": [
    "SP500.head()"
   ]
  },
  {
   "cell_type": "code",
   "execution_count": null,
   "metadata": {},
   "outputs": [],
   "source": [
    "SP500.tail()"
   ]
  },
  {
   "cell_type": "code",
   "execution_count": null,
   "metadata": {},
   "outputs": [],
   "source": [
    "SP500[\"SMA50\"] = SP500.rolling(window = 50, min_periods=50).mean()"
   ]
  },
  {
   "cell_type": "code",
   "execution_count": null,
   "metadata": {
    "scrolled": true
   },
   "outputs": [],
   "source": [
    "SP500"
   ]
  },
  {
   "cell_type": "code",
   "execution_count": null,
   "metadata": {},
   "outputs": [],
   "source": [
    "SP500.plot(figsize = (12, 8), fontsize = 15)\n",
    "plt.legend(loc = \"upper left\", fontsize = 15)\n",
    "plt.show()"
   ]
  },
  {
   "cell_type": "code",
   "execution_count": null,
   "metadata": {},
   "outputs": [],
   "source": [
    "SP500[\"SMA200\"] = SP500.Close.rolling(window = 200).mean()"
   ]
  },
  {
   "cell_type": "code",
   "execution_count": null,
   "metadata": {},
   "outputs": [],
   "source": [
    "SP500.tail()"
   ]
  },
  {
   "cell_type": "code",
   "execution_count": null,
   "metadata": {},
   "outputs": [],
   "source": [
    "SP500.info()"
   ]
  },
  {
   "cell_type": "code",
   "execution_count": null,
   "metadata": {},
   "outputs": [],
   "source": [
    "SP500.plot(figsize = (15,10), fontsize= 15)\n",
    "plt.legend(fontsize = 15)\n",
    "plt.show()"
   ]
  },
  {
   "cell_type": "code",
   "execution_count": null,
   "metadata": {},
   "outputs": [],
   "source": [
    "SP500.iloc[:,-2:].plot(figsize = (15,10), fontsize= 15)\n",
    "plt.legend(fontsize = 15)\n",
    "plt.show()"
   ]
  },
  {
   "cell_type": "code",
   "execution_count": null,
   "metadata": {},
   "outputs": [],
   "source": []
  },
  {
   "cell_type": "markdown",
   "metadata": {},
   "source": [
    "## Exponentially-weighted Moving Averages (EWMA)\n"
   ]
  },
  {
   "cell_type": "code",
   "execution_count": null,
   "metadata": {},
   "outputs": [],
   "source": [
    "import pandas as pd\n",
    "import matplotlib.pyplot as plt\n",
    "plt.style.use(\"seaborn\")"
   ]
  },
  {
   "cell_type": "code",
   "execution_count": null,
   "metadata": {},
   "outputs": [],
   "source": [
    "SP500 = pd.read_csv(\"SP500.csv\", parse_dates= [\"Date\"], index_col= \"Date\", usecols= [\"Date\", \"Close\"])"
   ]
  },
  {
   "cell_type": "code",
   "execution_count": null,
   "metadata": {},
   "outputs": [],
   "source": [
    "SP500.head()"
   ]
  },
  {
   "cell_type": "code",
   "execution_count": null,
   "metadata": {},
   "outputs": [],
   "source": [
    "SP500 = SP500.loc[\"2008-12-31\":\"2018-12-31\"].copy()"
   ]
  },
  {
   "cell_type": "code",
   "execution_count": null,
   "metadata": {
    "scrolled": true
   },
   "outputs": [],
   "source": [
    "SP500.Close.rolling(window = 10).mean()"
   ]
  },
  {
   "cell_type": "code",
   "execution_count": null,
   "metadata": {
    "scrolled": true
   },
   "outputs": [],
   "source": [
    "SP500.Close.ewm(span = 10, min_periods= 10).mean()"
   ]
  },
  {
   "cell_type": "code",
   "execution_count": null,
   "metadata": {},
   "outputs": [],
   "source": [
    "SP500[\"SMA\"] = SP500.Close.rolling(window = 100).mean()\n",
    "SP500[\"EMA\"] = SP500.Close.ewm(span = 100, min_periods= 100).mean()"
   ]
  },
  {
   "cell_type": "code",
   "execution_count": null,
   "metadata": {
    "scrolled": true
   },
   "outputs": [],
   "source": [
    "SP500"
   ]
  },
  {
   "cell_type": "code",
   "execution_count": null,
   "metadata": {
    "scrolled": false
   },
   "outputs": [],
   "source": [
    "SP500.iloc[:,-2:].plot(figsize = (15,10), fontsize =15)\n",
    "plt.legend(fontsize = 15)\n",
    "plt.show()"
   ]
  },
  {
   "cell_type": "code",
   "execution_count": null,
   "metadata": {},
   "outputs": [],
   "source": []
  },
  {
   "cell_type": "markdown",
   "metadata": {},
   "source": [
    "### Merging Time Series"
   ]
  },
  {
   "cell_type": "code",
   "execution_count": null,
   "metadata": {},
   "outputs": [],
   "source": [
    "import pandas as pd"
   ]
  },
  {
   "cell_type": "code",
   "execution_count": null,
   "metadata": {},
   "outputs": [],
   "source": [
    "stocks = pd.read_csv(\"stocks.csv\", header = [0,1], index_col= [0], parse_dates= [0]).Close"
   ]
  },
  {
   "cell_type": "code",
   "execution_count": null,
   "metadata": {},
   "outputs": [],
   "source": [
    "stocks.head()"
   ]
  },
  {
   "cell_type": "code",
   "execution_count": null,
   "metadata": {},
   "outputs": [],
   "source": [
    "aapl = stocks.loc[\"2010-01-01\" : \"2014-12-31\", \"AAPL\"].to_frame()\n",
    "aapl.head()"
   ]
  },
  {
   "cell_type": "code",
   "execution_count": null,
   "metadata": {},
   "outputs": [],
   "source": [
    "ba = stocks.loc[\"2012-01-01\" : \"2016-12-31\", \"BA\"].to_frame()\n",
    "ba.head()"
   ]
  },
  {
   "cell_type": "code",
   "execution_count": null,
   "metadata": {},
   "outputs": [],
   "source": [
    "aapl[\"BA\"] = ba.BA"
   ]
  },
  {
   "cell_type": "code",
   "execution_count": null,
   "metadata": {},
   "outputs": [],
   "source": [
    "aapl.head()"
   ]
  },
  {
   "cell_type": "code",
   "execution_count": null,
   "metadata": {},
   "outputs": [],
   "source": [
    "aapl.tail()"
   ]
  },
  {
   "cell_type": "code",
   "execution_count": null,
   "metadata": {
    "scrolled": true
   },
   "outputs": [],
   "source": [
    "aapl.dropna()"
   ]
  },
  {
   "cell_type": "code",
   "execution_count": null,
   "metadata": {
    "scrolled": true
   },
   "outputs": [],
   "source": [
    "ba.reindex(aapl.index).dropna()"
   ]
  },
  {
   "cell_type": "code",
   "execution_count": null,
   "metadata": {},
   "outputs": [],
   "source": [
    "dis = stocks.loc[\"2010-01-01\" : \"2016-12-31\", \"DIS\"].resample(\"W-Fri\").last().to_frame()\n",
    "dis.head()"
   ]
  },
  {
   "cell_type": "code",
   "execution_count": null,
   "metadata": {
    "scrolled": true
   },
   "outputs": [],
   "source": [
    "aapl.head()"
   ]
  },
  {
   "cell_type": "code",
   "execution_count": null,
   "metadata": {},
   "outputs": [],
   "source": [
    "aapl[\"DIS\"] = dis.DIS"
   ]
  },
  {
   "cell_type": "code",
   "execution_count": null,
   "metadata": {},
   "outputs": [],
   "source": [
    "aapl.head(10)"
   ]
  },
  {
   "cell_type": "code",
   "execution_count": null,
   "metadata": {
    "scrolled": true
   },
   "outputs": [],
   "source": [
    "dis.reindex(aapl.index)"
   ]
  },
  {
   "cell_type": "code",
   "execution_count": null,
   "metadata": {},
   "outputs": [],
   "source": [
    "dis[\"AAPL\"] = aapl.AAPL"
   ]
  },
  {
   "cell_type": "code",
   "execution_count": null,
   "metadata": {},
   "outputs": [],
   "source": [
    "dis.head(10)"
   ]
  },
  {
   "cell_type": "code",
   "execution_count": null,
   "metadata": {},
   "outputs": [],
   "source": []
  }
 ],
 "metadata": {
  "kernelspec": {
   "display_name": "Python 3",
   "language": "python",
   "name": "python3"
  },
  "language_info": {
   "codemirror_mode": {
    "name": "ipython",
    "version": 3
   },
   "file_extension": ".py",
   "mimetype": "text/x-python",
   "name": "python",
   "nbconvert_exporter": "python",
   "pygments_lexer": "ipython3",
   "version": "3.8.5"
  }
 },
 "nbformat": 4,
 "nbformat_minor": 2
}
